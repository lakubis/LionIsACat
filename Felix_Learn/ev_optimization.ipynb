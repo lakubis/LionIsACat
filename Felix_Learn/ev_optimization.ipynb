{
 "cells": [
  {
   "attachments": {},
   "cell_type": "markdown",
   "metadata": {},
   "source": [
    "# Battery Switching Station (BSS) Optimization "
   ]
  },
  {
   "attachments": {},
   "cell_type": "markdown",
   "metadata": {},
   "source": [
    "## Package"
   ]
  },
  {
   "cell_type": "code",
   "execution_count": null,
   "metadata": {},
   "outputs": [],
   "source": [
    "from model_first_paper import * # Agent Based Modelling \n",
    "import matplotlib.pyplot as plt # Visualization\n",
    "import seaborn as sns # Visualization"
   ]
  },
  {
   "attachments": {},
   "cell_type": "markdown",
   "metadata": {},
   "source": [
    "## Initiate Parameters\n",
    "Parameters can be divided according to components in the Model:\n",
    "\\begin{enumerate}\n",
    "\\item Map \n",
    "\\begin{enumerate}\n",
    "\\item Width (\\texttt{map_width})\n",
    "\\item Height (\\texttt{map_height})\n",
    "\\end{enumerate}\n",
    "\\item Agent (\\texttt{num_of_motorist})\n",
    "\\begin{enumerate}\n",
    "\\item Commuters : First element of \\texttt{num_of_motorist} array\n",
    "\\item Taxis : Second element of \\texttt{num_of_motorist} array\n",
    "\\item Noises : Third element of \\texttt{num_of_motorist} array\n",
    "\\end{enumerate}\n",
    "\\item Station Inventory  \n",
    "\\begin{enumerate}\n",
    "\\item Number of station (\\texttt{num_of_stations})\n",
    "\\item Inventory (\\texttt{inv_size})\n",
    "\\item Charging Port (\\texttt{cp_size}) \n",
    "\\end{enumerate}\n",
    "\\end{enumerate}"
   ]
  },
  {
   "cell_type": "code",
   "execution_count": null,
   "metadata": {},
   "outputs": [],
   "source": [
    "map_width = 80\n",
    "map_height = 80\n",
    "moore = False\n",
    "\n",
    "#Number of commuters, taxis, and noises\n",
    "num_of_motorist = [30,25,10]\n",
    "\n",
    "#With inventory\n",
    "inv_size = 12\n",
    "cp_size = 4\n",
    "\n",
    "#Without inventory\n",
    "#cp_size = 10\n",
    "\n",
    "model = switching_model(num_of_motorist,\n",
    "                        num_of_stations=4,\n",
    "                        inv_size=inv_size,\n",
    "                        cp_size= cp_size,\n",
    "                        width=map_width,\n",
    "                        height=map_height,\n",
    "                        moore=moore, \n",
    "                        configuration=\"less\")\n",
    "#Dalam menit\n",
    "days = 30\n",
    "num_of_step = days*24*60\n",
    "#num_of_step = 100\n",
    "for i in range(num_of_step):\n",
    "    model.step()"
   ]
  }
 ],
 "metadata": {
  "kernelspec": {
   "display_name": "Python 3",
   "language": "python",
   "name": "python3"
  },
  "language_info": {
   "name": "python",
   "version": "3.9.16"
  },
  "orig_nbformat": 4
 },
 "nbformat": 4,
 "nbformat_minor": 2
}
