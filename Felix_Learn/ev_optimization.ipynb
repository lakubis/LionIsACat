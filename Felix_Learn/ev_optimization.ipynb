{
 "cells": [
  {
   "attachments": {},
   "cell_type": "markdown",
   "metadata": {},
   "source": [
    "# Battery Switching Station (BSS) Optimization "
   ]
  },
  {
   "attachments": {},
   "cell_type": "markdown",
   "metadata": {},
   "source": [
    "## Package"
   ]
  },
  {
   "cell_type": "code",
   "execution_count": null,
   "metadata": {},
   "outputs": [],
   "source": [
    "from model_first_paper import * # Agent Based Modelling \n",
    "import matplotlib.pyplot as plt # Visualization\n",
    "import seaborn as sns # Visualization"
   ]
  },
  {
   "cell_type": "code",
   "execution_count": null,
   "metadata": {},
   "outputs": [],
   "source": [
    "## Initiate Parameters\n",
    "Parameters can be divided according to components in the Model:\n",
    "1. Map \n",
    "    1. Width (``map_width``)\n",
    "    2. Height (``map_height``)\n",
    "    3. Moore (``moore``)\n",
    "2. Agent (``num_of_motorist``)\n",
    "    1. Commuters : First element of ``num_of_motorist`` array\n",
    "    2. Taxis : Second element of ``num_of_motorist`` array\n",
    "    3. Noises : Third element of ``num_of_motorist`` array\n",
    "3. Station Inventory  \n",
    "    1. Number of station (``num_of_stations``)\n",
    "    2. Inventory (``inv_size``)\n",
    "    3. Charging Port (``cp_size``) \n",
    "4. Simulation Time  \n",
    "    1. "
   ]
  },
  {
   "cell_type": "code",
   "execution_count": null,
   "metadata": {},
   "outputs": [],
   "source": [
    "map_width = 80\n",
    "map_height = 80\n",
    "moore = False\n",
    "\n",
    "#Number of commuters, taxis, and noises\n",
    "num_of_motorist = [30,25,10]\n",
    "\n",
    "#With inventory\n",
    "inv_size = 12\n",
    "cp_size = 4\n",
    "\n",
    "model = switching_model(num_of_motorist,\n",
    "                        num_of_stations=4,\n",
    "                        inv_size=inv_size,\n",
    "                        cp_size= cp_size,\n",
    "                        width=map_width,\n",
    "                        height=map_height,\n",
    "                        moore=moore, \n",
    "                        configuration=\"less\")\n",
    "#Dalam menit\n",
    "days = 30\n",
    "num_of_step = days*24*60\n",
    "#num_of_step = 100\n",
    "for i in range(num_of_step):\n",
    "    model.step()"
   ]
  }
 ],
 "metadata": {
  "kernelspec": {
   "display_name": "Python 3",
   "language": "python",
   "name": "python3"
  },
  "language_info": {
   "name": "python",
   "version": "3.9.16"
  },
  "orig_nbformat": 4
 },
 "nbformat": 4,
 "nbformat_minor": 2
}
