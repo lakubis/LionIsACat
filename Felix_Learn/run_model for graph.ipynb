{
 "cells": [
  {
   "cell_type": "code",
   "execution_count": 1,
   "metadata": {},
   "outputs": [
    {
     "name": "stderr",
     "output_type": "stream",
     "text": [
      "c:\\Users\\leona\\anaconda3\\lib\\site-packages\\numpy\\_distributor_init.py:30: UserWarning: loaded more than 1 DLL from .libs:\n",
      "c:\\Users\\leona\\anaconda3\\lib\\site-packages\\numpy\\.libs\\libopenblas.PYQHXLVVQ7VESDPUVUADXEVJOBGHJPAY.gfortran-win_amd64.dll\n",
      "c:\\Users\\leona\\anaconda3\\lib\\site-packages\\numpy\\.libs\\libopenblas.XWYDX2IKJW2NMTWSFYNGFUWKQU3LYTCZ.gfortran-win_amd64.dll\n",
      "  warnings.warn(\"loaded more than 1 DLL from .libs:\"\n",
      "<frozen importlib._bootstrap>:219: RuntimeWarning: scipy._lib.messagestream.MessageStream size changed, may indicate binary incompatibility. Expected 56 from C header, got 64 from PyObject\n"
     ]
    },
    {
     "name": "stdout",
     "output_type": "stream",
     "text": [
      "24\n",
      "24\n"
     ]
    },
    {
     "data": {
      "image/png": "[encoded data removed]",
      "text/plain": [
       "<Figure size 432x288 with 1 Axes>"
      ]
     },
     "metadata": {
      "needs_background": "light"
     },
     "output_type": "display_data"
    }
   ],
   "source": [
    "from model_lomba import *\n",
    "import matplotlib.pyplot as plt\n",
    "import seaborn as sns\n",
    "\n",
    "demand = [0.2,0.3,0.5,0.65,0.8,0.9,1.0,1.0,1.0,1.0,1.0,1.0,0.9,0.8,0.65,0.45,0.3,0.2,0.1,0.1,0.1,0.1,0.1,0.1]\n",
    "hour = [\"06:00\",\"07:00\",\"08:00\",\"09:00\",\"10:00\",\"11:00\",\"12:00\",\"13:00\",\"14:00\",\"15:00\",\"16:00\",\"17:00\",\"18:00\",\"19:00\",\"20:00\",\"21:00\",\"22:00\",\"23:00\",\"00:00\",\"01:00\",\"02:00\",\"03:00\",\"04:00\",\"05:00\"]\n",
    "print(len(demand))\n",
    "print(len(hour))\n",
    "\n",
    "plt.plot(hour,demand)\n",
    "plt.xticks(rotation = 'vertical')\n",
    "plt.xlabel('Time')\n",
    "plt.ylabel('Probability distribution')\n",
    "plt.title('')\n",
    "plt.ylim([0.0,1.1])\n",
    "#plt.tight_layout()\n",
    "#plt.savefig('Prob-dist.png', format = 'png' )\n",
    "plt.show()"
   ]
  },
  {
   "cell_type": "markdown",
   "metadata": {},
   "source": [
    "Less : ratio (cp : inventory) 1:3 charging size = 6; inv size = 19 (40-45 seems like)  \n",
    "Normal : ratio (cp : inventory) 1:3 charging size = 3; inv size = 9 (40-45 seems like)  \n",
    "More : ratio (cp : inventory) 1:3 charging size = 2; inv size = 5 (40-45 seems like)"
   ]
  },
  {
   "cell_type": "code",
   "execution_count": 27,
   "metadata": {},
   "outputs": [
    {
     "name": "stdout",
     "output_type": "stream",
     "text": [
      "inventory 17\n",
      "4\n",
      "4\n",
      "38\n",
      "inventory 18\n",
      "4\n",
      "4\n",
      "42\n",
      "inventory 19\n",
      "4\n",
      "4\n",
      "48\n",
      "inventory 19  pengurangan cp 1\n",
      "4\n",
      "4\n",
      "48\n",
      "inventory 19  pengurangan cp 2\n",
      "4\n",
      "4\n",
      "38\n"
     ]
    }
   ],
   "source": [
    "map_width = 50\n",
    "map_height = 50\n",
    "moore = False\n",
    "num_of_motorist = 50\n",
    "ratio = 3\n",
    "\n",
    "#Dalam menit\n",
    "days = 14\n",
    "num_of_step = days*24*60\n",
    "#num_of_step = 100\n",
    "temp_ = 0\n",
    "n = 16\n",
    "while temp_ < 45 : \n",
    "    n += 1\n",
    "    print('inventory',n)\n",
    "    inv_size = n\n",
    "    cp_size = int(np.ceil(inv_size/ratio))\n",
    "    model = switching_model(num_of_motorist=50,num_of_stations=4,inv_size=inv_size,cp_size= cp_size,width=map_width,height=map_height,moore=moore, configuration=\"less\", demand = demand)\n",
    "\n",
    "    for i in range(num_of_step):\n",
    "        model.step()\n",
    "    model_data = model.datacollector.get_model_vars_dataframe()\n",
    "    temp_ = model_data[\"num_of_alive\"].iloc[-1]\n",
    "    print(temp_)\n",
    "\n",
    "n_ = 0\n",
    "while temp_ > 45:\n",
    "    n_ += 1\n",
    "    print('inventory',n, ' pengurangan cp', n_)\n",
    "    inv_size = n\n",
    "    cp_size = int(np.ceil(inv_size/ratio)) - n_\n",
    "    model = switching_model(num_of_motorist=50,num_of_stations=4,inv_size=inv_size,cp_size= cp_size,width=map_width,height=map_height,moore=moore, configuration=\"less\", demand = demand)\n",
    "\n",
    "    for i in range(num_of_step):\n",
    "        model.step()\n",
    "    model_data = model.datacollector.get_model_vars_dataframe()\n",
    "    temp_ = model_data[\"num_of_alive\"].iloc[-1]\n",
    "    print(temp_)\n"
   ]
  },
  {
   "cell_type": "code",
   "execution_count": 29,
   "metadata": {},
   "outputs": [
    {
     "name": "stdout",
     "output_type": "stream",
     "text": [
      "inventory 6\n",
      "9\n",
      "9\n",
      "27\n",
      "inventory 7\n",
      "9\n",
      "9\n",
      "35\n",
      "inventory 8\n",
      "9\n",
      "9\n",
      "37\n",
      "inventory 9\n",
      "9\n",
      "9\n",
      "46\n",
      "inventory 9  pengurangan cp 1\n",
      "9\n",
      "9\n",
      "29\n"
     ]
    }
   ],
   "source": [
    "map_width = 50\n",
    "map_height = 50\n",
    "moore = False\n",
    "num_of_motorist = 50\n",
    "ratio = 3\n",
    "\n",
    "#Dalam menit\n",
    "days = 14\n",
    "num_of_step = days*24*60\n",
    "#num_of_step = 100\n",
    "temp_ = 0\n",
    "n = 5\n",
    "while temp_ < 45 : \n",
    "    n += 1\n",
    "    print('inventory',n)\n",
    "    inv_size = n\n",
    "    cp_size = int(np.ceil(inv_size/ratio))\n",
    "    model = switching_model(num_of_motorist=50,num_of_stations=4,inv_size=inv_size,cp_size= cp_size,width=map_width,height=map_height,moore=moore, configuration=\"normal\", demand = demand)\n",
    "\n",
    "    for i in range(num_of_step):\n",
    "        model.step()\n",
    "    model_data = model.datacollector.get_model_vars_dataframe()\n",
    "    temp_ = model_data[\"num_of_alive\"].iloc[-1]\n",
    "    print(temp_)\n",
    "\n",
    "n_ = 0\n",
    "while temp_ > 45:\n",
    "    n_ += 1\n",
    "    print('inventory',n, ' pengurangan cp', n_)\n",
    "    inv_size = n\n",
    "    cp_size = int(np.ceil(inv_size/ratio)) - n_\n",
    "    model = switching_model(num_of_motorist=50,num_of_stations=4,inv_size=inv_size,cp_size= cp_size,width=map_width,height=map_height,moore=moore, configuration=\"normal\", demand = demand)\n",
    "\n",
    "    for i in range(num_of_step):\n",
    "        model.step()\n",
    "    model_data = model.datacollector.get_model_vars_dataframe()\n",
    "    temp_ = model_data[\"num_of_alive\"].iloc[-1]\n",
    "    print(temp_)\n"
   ]
  },
  {
   "cell_type": "code",
   "execution_count": 28,
   "metadata": {},
   "outputs": [
    {
     "name": "stdout",
     "output_type": "stream",
     "text": [
      "inventory 5\n",
      "16\n",
      "16\n",
      "46\n",
      "inventory 5  pengurangan cp 1\n",
      "16\n",
      "16\n",
      "23\n"
     ]
    }
   ],
   "source": [
    "map_width = 50\n",
    "map_height = 50\n",
    "moore = False\n",
    "num_of_motorist = 50\n",
    "ratio = 3\n",
    "\n",
    "#Dalam menit\n",
    "days = 14\n",
    "num_of_step = days*24*60\n",
    "#num_of_step = 100\n",
    "temp_ = 0\n",
    "n = 4\n",
    "while temp_ < 45 : \n",
    "    n += 1\n",
    "    print('inventory',n)\n",
    "    inv_size = n\n",
    "    cp_size = int(np.ceil(inv_size/ratio))\n",
    "    model = switching_model(num_of_motorist=50,num_of_stations=4,inv_size=inv_size,cp_size= cp_size,width=map_width,height=map_height,moore=moore, configuration=\"more\", demand = demand)\n",
    "\n",
    "    for i in range(num_of_step):\n",
    "        model.step()\n",
    "    model_data = model.datacollector.get_model_vars_dataframe()\n",
    "    temp_ = model_data[\"num_of_alive\"].iloc[-1]\n",
    "    print(temp_)\n",
    "\n",
    "n_ = 0\n",
    "while temp_ > 45:\n",
    "    n_ += 1\n",
    "    print('inventory',n, ' pengurangan cp', n_)\n",
    "    inv_size = n\n",
    "    cp_size = int(np.ceil(inv_size/ratio)) - n_\n",
    "    model = switching_model(num_of_motorist=50,num_of_stations=4,inv_size=inv_size,cp_size= cp_size,width=map_width,height=map_height,moore=moore, configuration=\"more\", demand = demand)\n",
    "\n",
    "    for i in range(num_of_step):\n",
    "        model.step()\n",
    "    model_data = model.datacollector.get_model_vars_dataframe()\n",
    "    temp_ = model_data[\"num_of_alive\"].iloc[-1]\n",
    "    print(temp_)\n"
   ]
  },
  {
   "cell_type": "code",
   "execution_count": 22,
   "metadata": {},
   "outputs": [
    {
     "name": "stdout",
     "output_type": "stream",
     "text": [
      "perkalian ratio 2  pengurangan cp 1\n",
      "16\n",
      "16\n",
      "30\n"
     ]
    }
   ],
   "source": [
    "n_ = 0\n",
    "while temp_ > 45:\n",
    "    n_ += 1\n",
    "    print('perkalian ratio',n, ' pengurangan cp', n_)\n",
    "    inv_size = ratio*n\n",
    "    cp_size = int(np.ceil(inv_size/ratio)) - n_\n",
    "    model = switching_model(num_of_motorist=50,num_of_stations=4,inv_size=inv_size,cp_size= cp_size,width=map_width,height=map_height,moore=moore, configuration=\"more\", demand = demand)\n",
    "\n",
    "    for i in range(num_of_step):\n",
    "        model.step()\n",
    "    model_data = model.datacollector.get_model_vars_dataframe()\n",
    "    temp_ = model_data[\"num_of_alive\"].iloc[-1]\n",
    "    print(temp_)"
   ]
  },
  {
   "cell_type": "code",
   "execution_count": 37,
   "metadata": {},
   "outputs": [
    {
     "name": "stdout",
     "output_type": "stream",
     "text": [
      "4\n",
      "4\n"
     ]
    }
   ],
   "source": [
    "map_width = 50\n",
    "map_height = 50\n",
    "moore = False\n",
    "num_of_motorist = 50\n",
    "inv_size = 19\n",
    "cp_size = 6\n",
    "model = switching_model(num_of_motorist=50,num_of_stations=10,inv_size=inv_size,cp_size= cp_size,width=map_width,height=map_height,moore=moore, configuration=\"less\", demand = demand)\n",
    "\n",
    "#Dalam menit\n",
    "days = 14\n",
    "num_of_step = days*24*60\n",
    "#num_of_step = 100\n",
    "for i in range(num_of_step):\n",
    "    model.step()"
   ]
  },
  {
   "cell_type": "code",
   "execution_count": 38,
   "metadata": {},
   "outputs": [
    {
     "data": {
      "text/html": [
       "<div>\n",
       "<style scoped>\n",
       "    .dataframe tbody tr th:only-of-type {\n",
       "        vertical-align: middle;\n",
       "    }\n",
       "\n",
       "    .dataframe tbody tr th {\n",
       "        vertical-align: top;\n",
       "    }\n",
       "\n",
       "    .dataframe thead th {\n",
       "        text-align: right;\n",
       "    }\n",
       "</style>\n",
       "<table border=\"1\" class=\"dataframe\">\n",
       "  <thead>\n",
       "    <tr style=\"text-align: right;\">\n",
       "      <th></th>\n",
       "      <th></th>\n",
       "      <th>Position</th>\n",
       "      <th>Charge</th>\n",
       "      <th>Alive</th>\n",
       "      <th>Full_battery</th>\n",
       "      <th>Empty_battery</th>\n",
       "      <th>CP_full</th>\n",
       "      <th>CP_empty</th>\n",
       "    </tr>\n",
       "    <tr>\n",
       "      <th>Step</th>\n",
       "      <th>AgentID</th>\n",
       "      <th></th>\n",
       "      <th></th>\n",
       "      <th></th>\n",
       "      <th></th>\n",
       "      <th></th>\n",
       "      <th></th>\n",
       "      <th></th>\n",
       "    </tr>\n",
       "  </thead>\n",
       "  <tbody>\n",
       "    <tr>\n",
       "      <th rowspan=\"5\" valign=\"top\">0</th>\n",
       "      <th>0</th>\n",
       "      <td>None</td>\n",
       "      <td>1441.394150</td>\n",
       "      <td>None</td>\n",
       "      <td>NaN</td>\n",
       "      <td>NaN</td>\n",
       "      <td>NaN</td>\n",
       "      <td>NaN</td>\n",
       "    </tr>\n",
       "    <tr>\n",
       "      <th>1</th>\n",
       "      <td>None</td>\n",
       "      <td>2518.010848</td>\n",
       "      <td>None</td>\n",
       "      <td>NaN</td>\n",
       "      <td>NaN</td>\n",
       "      <td>NaN</td>\n",
       "      <td>NaN</td>\n",
       "    </tr>\n",
       "    <tr>\n",
       "      <th>2</th>\n",
       "      <td>None</td>\n",
       "      <td>1301.875509</td>\n",
       "      <td>None</td>\n",
       "      <td>NaN</td>\n",
       "      <td>NaN</td>\n",
       "      <td>NaN</td>\n",
       "      <td>NaN</td>\n",
       "    </tr>\n",
       "    <tr>\n",
       "      <th>3</th>\n",
       "      <td>None</td>\n",
       "      <td>1531.932038</td>\n",
       "      <td>None</td>\n",
       "      <td>NaN</td>\n",
       "      <td>NaN</td>\n",
       "      <td>NaN</td>\n",
       "      <td>NaN</td>\n",
       "    </tr>\n",
       "    <tr>\n",
       "      <th>4</th>\n",
       "      <td>None</td>\n",
       "      <td>2533.630676</td>\n",
       "      <td>None</td>\n",
       "      <td>NaN</td>\n",
       "      <td>NaN</td>\n",
       "      <td>NaN</td>\n",
       "      <td>NaN</td>\n",
       "    </tr>\n",
       "  </tbody>\n",
       "</table>\n",
       "</div>"
      ],
      "text/plain": [
       "             Position       Charge Alive  Full_battery  Empty_battery  \\\n",
       "Step AgentID                                                            \n",
       "0    0           None  1441.394150  None           NaN            NaN   \n",
       "     1           None  2518.010848  None           NaN            NaN   \n",
       "     2           None  1301.875509  None           NaN            NaN   \n",
       "     3           None  1531.932038  None           NaN            NaN   \n",
       "     4           None  2533.630676  None           NaN            NaN   \n",
       "\n",
       "              CP_full  CP_empty  \n",
       "Step AgentID                     \n",
       "0    0            NaN       NaN  \n",
       "     1            NaN       NaN  \n",
       "     2            NaN       NaN  \n",
       "     3            NaN       NaN  \n",
       "     4            NaN       NaN  "
      ]
     },
     "execution_count": 38,
     "metadata": {},
     "output_type": "execute_result"
    }
   ],
   "source": [
    "#Ambil data agent\n",
    "agent_data = model.datacollector.get_agent_vars_dataframe()\n",
    "agent_data.head()"
   ]
  },
  {
   "cell_type": "code",
   "execution_count": 39,
   "metadata": {},
   "outputs": [
    {
     "data": {
      "text/plain": [
       "AgentID\n",
       "150     True\n",
       "151     True\n",
       "152     True\n",
       "153     True\n",
       "154     True\n",
       "155     True\n",
       "156     True\n",
       "157     True\n",
       "158     True\n",
       "159     True\n",
       "160     True\n",
       "161     True\n",
       "162     True\n",
       "163     True\n",
       "164     True\n",
       "165     True\n",
       "166     True\n",
       "167    False\n",
       "168    False\n",
       "169     True\n",
       "170     True\n",
       "171    False\n",
       "172     True\n",
       "173     True\n",
       "174    False\n",
       "175     True\n",
       "176     True\n",
       "177    False\n",
       "178     True\n",
       "179    False\n",
       "180    False\n",
       "181     True\n",
       "182    False\n",
       "183     True\n",
       "184     True\n",
       "185     True\n",
       "186     True\n",
       "187    False\n",
       "188    False\n",
       "189     True\n",
       "190     True\n",
       "191     True\n",
       "192     True\n",
       "193    False\n",
       "194     True\n",
       "195     True\n",
       "196     True\n",
       "197    False\n",
       "198     True\n",
       "199     True\n",
       "Name: Alive, dtype: object"
      ]
     },
     "execution_count": 39,
     "metadata": {},
     "output_type": "execute_result"
    }
   ],
   "source": [
    "motorist_alive = agent_data.xs(num_of_step-1,level = \"Step\")[\"Alive\"]\n",
    "motorist_id = []\n",
    "for motor in model.motorists:\n",
    "    motorist_id.append(motor.unique_id)\n",
    "motorist_alive[motorist_id]"
   ]
  },
  {
   "cell_type": "code",
   "execution_count": 40,
   "metadata": {},
   "outputs": [
    {
     "name": "stdout",
     "output_type": "stream",
     "text": [
      "AgentID\n",
      "200    (11, 11)\n",
      "201    (11, 36)\n",
      "202    (36, 11)\n",
      "203    (36, 36)\n",
      "Name: Position, dtype: object\n"
     ]
    }
   ],
   "source": [
    "agent_pos = agent_data.xs(0,level = \"Step\")[\"Position\"]\n",
    "station_id = []\n",
    "for stat in model.stations:\n",
    "    station_id.append(stat.unique_id)\n",
    "station_pos = agent_pos[station_id]\n",
    "print(station_pos)"
   ]
  },
  {
   "cell_type": "code",
   "execution_count": 41,
   "metadata": {},
   "outputs": [
    {
     "name": "stdout",
     "output_type": "stream",
     "text": [
      "AgentID\n",
      "200    19.0\n",
      "201    19.0\n",
      "202    19.0\n",
      "203    19.0\n",
      "Name: Full_battery, dtype: float64\n"
     ]
    }
   ],
   "source": [
    "step_station = num_of_step-1\n",
    "#step_station = 0\n",
    "agent_full = agent_data.xs(step_station,level = \"Step\")[\"Full_battery\"]\n",
    "station_id = []\n",
    "for stat in model.stations:\n",
    "    station_id.append(stat.unique_id)\n",
    "station_full = agent_full[station_id]\n",
    "print(station_full)"
   ]
  },
  {
   "cell_type": "code",
   "execution_count": 42,
   "metadata": {},
   "outputs": [
    {
     "name": "stdout",
     "output_type": "stream",
     "text": [
      "AgentID\n",
      "200    0.0\n",
      "201    0.0\n",
      "202    0.0\n",
      "203    0.0\n",
      "Name: Empty_battery, dtype: float64\n"
     ]
    }
   ],
   "source": [
    "agent_empty = agent_data.xs(step_station,level = \"Step\")[\"Empty_battery\"]\n",
    "station_id = []\n",
    "for stat in model.stations:\n",
    "    station_id.append(stat.unique_id)\n",
    "station_empty = agent_empty[station_id]\n",
    "print(station_empty)"
   ]
  },
  {
   "cell_type": "code",
   "execution_count": 43,
   "metadata": {},
   "outputs": [
    {
     "name": "stdout",
     "output_type": "stream",
     "text": [
      "AgentID\n",
      "200    6.0\n",
      "201    4.0\n",
      "202    6.0\n",
      "203    5.0\n",
      "Name: CP_full, dtype: float64\n"
     ]
    }
   ],
   "source": [
    "agent_cp_full = agent_data.xs(step_station,level = \"Step\")[\"CP_full\"]\n",
    "station_id = []\n",
    "for stat in model.stations:\n",
    "    station_id.append(stat.unique_id)\n",
    "station_cp_full = agent_cp_full[station_id]\n",
    "print(station_cp_full)"
   ]
  },
  {
   "cell_type": "code",
   "execution_count": 44,
   "metadata": {},
   "outputs": [
    {
     "name": "stdout",
     "output_type": "stream",
     "text": [
      "AgentID\n",
      "200    0.0\n",
      "201    2.0\n",
      "202    0.0\n",
      "203    1.0\n",
      "Name: CP_empty, dtype: float64\n"
     ]
    }
   ],
   "source": [
    "agent_cp_empty = agent_data.xs(step_station,level = \"Step\")[\"CP_empty\"]\n",
    "station_id = []\n",
    "for stat in model.stations:\n",
    "    station_id.append(stat.unique_id)\n",
    "station_cp_empty = agent_cp_empty[station_id]\n",
    "print(station_cp_empty)"
   ]
  },
  {
   "cell_type": "code",
   "execution_count": 45,
   "metadata": {},
   "outputs": [
    {
     "data": {
      "text/plain": [
       "Step\n",
       "20155    (19, 29)\n",
       "20156    (19, 29)\n",
       "20157    (19, 29)\n",
       "20158    (19, 29)\n",
       "20159    (19, 29)\n",
       "Name: Position, dtype: object"
      ]
     },
     "execution_count": 45,
     "metadata": {},
     "output_type": "execute_result"
    }
   ],
   "source": [
    "#Ambil data motorist\n",
    "driver_num = 0\n",
    "motorist_pos = agent_data.xs(model.motorists[driver_num].unique_id, level = \"AgentID\")[\"Position\"]\n",
    "motorist_pos.head()\n",
    "motorist_pos.tail()"
   ]
  },
  {
   "cell_type": "code",
   "execution_count": 46,
   "metadata": {},
   "outputs": [
    {
     "data": {
      "text/plain": [
       "Text(0, 0.5, 'y')"
      ]
     },
     "execution_count": 46,
     "metadata": {},
     "output_type": "execute_result"
    },
    {
     "data": {
      "image/png": "[encoded data removed]",
      "text/plain": [
       "<Figure size 432x288 with 1 Axes>"
      ]
     },
     "metadata": {
      "needs_background": "light"
     },
     "output_type": "display_data"
    }
   ],
   "source": [
    "#Coba plot posisi\n",
    "x_coor = []\n",
    "y_coor = []\n",
    "for coor in motorist_pos:\n",
    "    x_coor.append(coor[0])\n",
    "    y_coor.append(coor[1])\n",
    "\n",
    "\n",
    "\n",
    "plt.plot(x_coor,y_coor)\n",
    "for i in range(model.num_of_stations):\n",
    "    plt.plot(model.stations[i].pos[0],model.stations[i].pos[1],color = \"red\", marker = 'o')\n",
    "plt.xlim([0,map_width])\n",
    "plt.ylim([0,map_height])\n",
    "plt.title('Posisi driver ' + str(driver_num))\n",
    "plt.axis('scaled')\n",
    "plt.xlabel('x')\n",
    "plt.ylabel('y')"
   ]
  },
  {
   "cell_type": "code",
   "execution_count": 47,
   "metadata": {},
   "outputs": [
    {
     "data": {
      "image/png": "[encoded data removed]",
      "text/plain": [
       "<Figure size 432x288 with 1 Axes>"
      ]
     },
     "metadata": {
      "needs_background": "light"
     },
     "output_type": "display_data"
    }
   ],
   "source": [
    "#Cek baterai\n",
    "battery_id = 8\n",
    "battery_energy = agent_data.xs(battery_id, level = \"AgentID\")[\"Charge\"]\n",
    "battery_energy.plot()\n",
    "plt.xlim(0,num_of_step)\n",
    "plt.ylim(0,2700)\n",
    "for i in range(1,days):\n",
    "    plt.axvline(x = 1440*i, color = 'r', linestyle='--', label = 'axvline - full height')\n",
    "plt.legend(['Battery Capacity','Days'])\n",
    "locs, labels = plt.xticks()  # Get the current locations and labels.\n",
    "plt.xticks(np.arange(0, days*1440, step=1440))  # Set label locations.\n",
    "plt.xticks(np.arange(days)*1440, np.arange(0,days))  # Set text labels.\n",
    "#plt.xticks([0, 1, 2], ['January', 'February', 'March'],\n",
    "#       rotation=20)  # Set text labels and properties.\n",
    "plt.xlabel('Days')\n",
    "#plt.title('Example of Battery Charge Cycle')\n",
    "plt.show()"
   ]
  },
  {
   "cell_type": "code",
   "execution_count": 48,
   "metadata": {},
   "outputs": [
    {
     "data": {
      "text/html": [
       "<div>\n",
       "<style scoped>\n",
       "    .dataframe tbody tr th:only-of-type {\n",
       "        vertical-align: middle;\n",
       "    }\n",
       "\n",
       "    .dataframe tbody tr th {\n",
       "        vertical-align: top;\n",
       "    }\n",
       "\n",
       "    .dataframe thead th {\n",
       "        text-align: right;\n",
       "    }\n",
       "</style>\n",
       "<table border=\"1\" class=\"dataframe\">\n",
       "  <thead>\n",
       "    <tr style=\"text-align: right;\">\n",
       "      <th></th>\n",
       "      <th>num_of_alive</th>\n",
       "      <th>num_of_charging</th>\n",
       "    </tr>\n",
       "  </thead>\n",
       "  <tbody>\n",
       "    <tr>\n",
       "      <th>20155</th>\n",
       "      <td>38</td>\n",
       "      <td>3</td>\n",
       "    </tr>\n",
       "    <tr>\n",
       "      <th>20156</th>\n",
       "      <td>38</td>\n",
       "      <td>3</td>\n",
       "    </tr>\n",
       "    <tr>\n",
       "      <th>20157</th>\n",
       "      <td>38</td>\n",
       "      <td>3</td>\n",
       "    </tr>\n",
       "    <tr>\n",
       "      <th>20158</th>\n",
       "      <td>38</td>\n",
       "      <td>3</td>\n",
       "    </tr>\n",
       "    <tr>\n",
       "      <th>20159</th>\n",
       "      <td>38</td>\n",
       "      <td>3</td>\n",
       "    </tr>\n",
       "  </tbody>\n",
       "</table>\n",
       "</div>"
      ],
      "text/plain": [
       "       num_of_alive  num_of_charging\n",
       "20155            38                3\n",
       "20156            38                3\n",
       "20157            38                3\n",
       "20158            38                3\n",
       "20159            38                3"
      ]
     },
     "execution_count": 48,
     "metadata": {},
     "output_type": "execute_result"
    }
   ],
   "source": [
    "model_data = model.datacollector.get_model_vars_dataframe()\n",
    "model_data.tail()"
   ]
  },
  {
   "cell_type": "code",
   "execution_count": 49,
   "metadata": {},
   "outputs": [
    {
     "data": {
      "image/png": "[encoded data removed]",
      "text/plain": [
       "<Figure size 432x288 with 1 Axes>"
      ]
     },
     "metadata": {
      "needs_background": "light"
     },
     "output_type": "display_data"
    }
   ],
   "source": [
    "plt.plot(model_data[\"num_of_alive\"])\n",
    "plt.ylim([0,num_of_motorist + 1])\n",
    "plt.ylabel(\"Alive agents\")\n",
    "plt.xlabel(\"Steps\")\n",
    "plt.xlim(0,num_of_step)\n",
    "for i in range(1,days):\n",
    "    plt.axvline(x = 1440*i, color = 'r', linestyle='--', label = 'axvline - full height')\n",
    "plt.legend(['Number of Total Alive Agent','Days'])\n",
    "locs, labels = plt.xticks()  # Get the current locations and labels.\n",
    "plt.xticks(np.arange(0, days*1440, step=1440))  # Set label locations.\n",
    "plt.xticks(np.arange(days)*1440, np.arange(0,days))  # Set text labels.\n",
    "#plt.xticks([0, 1, 2], ['January', 'February', 'March'],\n",
    "#       rotation=20)  # Set text labels and properties.\n",
    "plt.xlabel('Days')\n",
    "#plt.title('Number of Total Alive Agent')\n",
    "plt.show()"
   ]
  },
  {
   "cell_type": "code",
   "execution_count": 50,
   "metadata": {},
   "outputs": [
    {
     "data": {
      "image/png": "[encoded data removed]",
      "text/plain": [
       "<Figure size 432x288 with 1 Axes>"
      ]
     },
     "metadata": {
      "needs_background": "light"
     },
     "output_type": "display_data"
    }
   ],
   "source": [
    "plt.plot(model_data[\"num_of_charging\"])\n",
    "plt.ylim([0,model.num_of_stations*model.cp_size +1])\n",
    "plt.ylabel(\"Charging batteries\")\n",
    "plt.xlabel(\"Steps\")\n",
    "plt.xlim(0,num_of_step)\n",
    "for i in range(1,days):\n",
    "    plt.axvline(x = 1440*i, color = 'r', linestyle='--', label = 'axvline - full height')\n",
    "plt.legend(['Number of Charged Battery','Days'])\n",
    "locs, labels = plt.xticks()  # Get the current locations and labels.\n",
    "plt.xticks(np.arange(0, days*1440, step=1440))  # Set label locations.\n",
    "plt.xticks(np.arange(days)*1440, np.arange(0,days))  # Set text labels.\n",
    "#plt.xticks([0, 1, 2], ['January', 'February', 'March'],\n",
    "#       rotation=20)  # Set text labels and properties.\n",
    "plt.xlabel('Days')\n",
    "#plt.title('Number of Total Alive Agent')\n",
    "plt.show()"
   ]
  },
  {
   "cell_type": "code",
   "execution_count": null,
   "metadata": {},
   "outputs": [
    {
     "name": "stdout",
     "output_type": "stream",
     "text": [
      "440954\n"
     ]
    }
   ],
   "source": [
    "#dapetin semua motor\n",
    "motorist_id = []\n",
    "for mot in model.motorists:\n",
    "    motorist_id.append(mot.unique_id)\n",
    "\n",
    "#ID motor pertama dan terakhir\n",
    "first_motor = min(motorist_id)\n",
    "last_motor = max(motorist_id)\n",
    "\n",
    "#Ambil data motor doang\n",
    "motorist_data = agent_data.loc[(agent_data.index.get_level_values('AgentID')>=first_motor) & (agent_data.index.get_level_values('AgentID') <=last_motor)]\n",
    "\n",
    "\n",
    "motorist_alive_position = motorist_data.loc[motorist_data['Alive'] == True][\"Position\"]\n",
    "motorist_alive_position.tail()\n",
    "\n",
    "#print jumlah baris\n",
    "print(len(motorist_alive_position.index))"
   ]
  },
  {
   "cell_type": "code",
   "execution_count": null,
   "metadata": {},
   "outputs": [
    {
     "name": "stdout",
     "output_type": "stream",
     "text": [
      "440954\n"
     ]
    }
   ],
   "source": [
    "array_alive_positions = motorist_alive_position.tolist()\n",
    "print(len(array_alive_positions))"
   ]
  },
  {
   "cell_type": "code",
   "execution_count": null,
   "metadata": {},
   "outputs": [
    {
     "data": {
      "image/png": "[encoded data removed]",
      "text/plain": [
       "<Figure size 432x288 with 2 Axes>"
      ]
     },
     "metadata": {
      "needs_background": "light"
     },
     "output_type": "display_data"
    }
   ],
   "source": [
    "heatmap_data = np.zeros((model.grid.width, model.grid.height))\n",
    "for coor in array_alive_positions:\n",
    "    x,y = coor\n",
    "    heatmap_data[x,y] +=1\n",
    "\n",
    "most_frequent = np.amax(heatmap_data)\n",
    "norm_heatmap_data = heatmap_data/most_frequent\n",
    "\n",
    "ax = sns.heatmap(norm_heatmap_data)\n",
    "ax.invert_yaxis()\n",
    "plt.axis('equal')\n",
    "ax.axes.xaxis.set_ticklabels([])\n",
    "ax.axes.yaxis.set_ticklabels([])\n",
    "plt.tick_params(left = False, bottom = False)\n",
    "#ax.set_xlabel('x')\n",
    "#ax.set_ylabel('y')   "
   ]
  },
  {
   "cell_type": "markdown",
   "metadata": {},
   "source": [
    "# Heat_map"
   ]
  },
  {
   "cell_type": "code",
   "execution_count": null,
   "metadata": {},
   "outputs": [
    {
     "data": {
      "image/png": "[encoded data removed]",
      "text/plain": [
       "<Figure size 432x288 with 2 Axes>"
      ]
     },
     "metadata": {
      "needs_background": "light"
     },
     "output_type": "display_data"
    }
   ],
   "source": [
    "heatmap_data = np.zeros((model.grid.width, model.grid.height))\n",
    "for coor in array_alive_positions:\n",
    "    x,y = coor\n",
    "    heatmap_data[x,y] +=1\n",
    "\n",
    "most_frequent = np.amax(heatmap_data)\n",
    "norm_heatmap_data = heatmap_data/most_frequent\n",
    "\n",
    "ax = sns.heatmap(norm_heatmap_data)\n",
    "ax.invert_yaxis()\n",
    "plt.axis('equal')\n",
    "ax.axes.xaxis.set_ticklabels([])\n",
    "ax.axes.yaxis.set_ticklabels([])\n",
    "plt.tick_params(left = False, bottom = False)\n",
    "#ax.set_xlabel('x')\n",
    "#ax.set_ylabel('y')   "
   ]
  },
  {
   "cell_type": "markdown",
   "metadata": {},
   "source": [
    "# Boxplot"
   ]
  },
  {
   "cell_type": "code",
   "execution_count": null,
   "metadata": {},
   "outputs": [],
   "source": [
    "sengaja-error"
   ]
  },
  {
   "cell_type": "code",
   "execution_count": 51,
   "metadata": {},
   "outputs": [
    {
     "name": "stdout",
     "output_type": "stream",
     "text": [
      "4\n",
      "4\n",
      "4\n",
      "4\n",
      "4\n",
      "4\n",
      "4\n",
      "4\n",
      "4\n",
      "4\n",
      "4\n",
      "4\n",
      "4\n",
      "4\n",
      "4\n",
      "4\n",
      "4\n",
      "4\n",
      "4\n",
      "4\n",
      "9\n",
      "9\n",
      "9\n",
      "9\n",
      "9\n",
      "9\n",
      "9\n",
      "9\n",
      "9\n",
      "9\n",
      "9\n",
      "9\n",
      "9\n",
      "9\n",
      "9\n",
      "9\n",
      "9\n",
      "9\n",
      "9\n",
      "9\n",
      "16\n",
      "16\n",
      "16\n",
      "16\n",
      "16\n",
      "16\n",
      "16\n",
      "16\n",
      "16\n",
      "16\n",
      "16\n",
      "16\n",
      "16\n",
      "16\n",
      "16\n",
      "16\n",
      "16\n",
      "16\n",
      "16\n",
      "16\n"
     ]
    }
   ],
   "source": [
    "map_width = 50\n",
    "map_height = 50\n",
    "moore = False\n",
    "num_of_motorist = 50\n",
    "ratio = 3 \n",
    "inv_size = [19, 9 , 5]\n",
    "cp_size = [6 , 3, 2]\n",
    "config_ = ['less','normal','more']\n",
    "days = 14\n",
    "num_of_step = days*24*60\n",
    "#num_of_step = 100\n",
    "df_ = {\n",
    "    'moore' : [],\n",
    "    'num_alive' : [[],[],[]]\n",
    "}\n",
    "\n",
    "for i in range(len(config_)):\n",
    "    df_['moore'].append(config_[i])\n",
    "    for j in range(10):\n",
    "        model = switching_model(num_of_motorist=50,num_of_stations=10,\n",
    "        inv_size=inv_size[i],\n",
    "        cp_size= cp_size[i],\n",
    "        width=map_width,height=map_height,moore=moore, configuration=config_[i], demand = demand)\n",
    "\n",
    "        for k in range(num_of_step):\n",
    "            model.step()\n",
    "            \n",
    "        model_data = model.datacollector.get_model_vars_dataframe()\n",
    "        df_['num_alive'][i].append(model_data[\"num_of_alive\"].iloc[-1])"
   ]
  },
  {
   "cell_type": "code",
   "execution_count": 52,
   "metadata": {},
   "outputs": [],
   "source": [
    "import pandas as pd \n",
    "box_ = pd.DataFrame(columns = config_)\n",
    "for i in range(len(config_)):\n",
    "    box_[config_[i]] = df_['num_alive'][i]"
   ]
  },
  {
   "cell_type": "code",
   "execution_count": 53,
   "metadata": {},
   "outputs": [
    {
     "data": {
      "text/plain": [
       "<AxesSubplot:>"
      ]
     },
     "execution_count": 53,
     "metadata": {},
     "output_type": "execute_result"
    },
    {
     "data": {
      "image/png": "[encoded data removed]",
      "text/plain": [
       "<Figure size 432x288 with 1 Axes>"
      ]
     },
     "metadata": {
      "needs_background": "light"
     },
     "output_type": "display_data"
    }
   ],
   "source": [
    "box_.boxplot()"
   ]
  },
  {
   "cell_type": "code",
   "execution_count": 54,
   "metadata": {},
   "outputs": [
    {
     "name": "stdout",
     "output_type": "stream",
     "text": [
      "4\n",
      "4\n",
      "4\n",
      "4\n",
      "4\n",
      "4\n",
      "4\n",
      "4\n",
      "4\n",
      "4\n",
      "9\n",
      "9\n",
      "9\n",
      "9\n",
      "9\n",
      "9\n",
      "9\n",
      "9\n",
      "9\n",
      "9\n",
      "16\n",
      "16\n",
      "16\n",
      "16\n",
      "16\n",
      "16\n",
      "16\n",
      "16\n",
      "16\n",
      "16\n"
     ]
    }
   ],
   "source": [
    "map_width = 50\n",
    "map_height = 50\n",
    "moore = False\n",
    "num_of_motorist = 50\n",
    "ratio = 3 \n",
    "inv_size = [19, 9 , 5]\n",
    "cp_size = [6 , 3, 2]\n",
    "config_ = [4,9,16]\n",
    "days = 14\n",
    "num_of_step = days*24*60\n",
    "#num_of_step = 100\n",
    "df_ = {\n",
    "    'moore' : [],\n",
    "    'num_alive' : [[],[],[]]\n",
    "}\n",
    "\n",
    "for i in range(len(config_)):\n",
    "    df_['moore'].append(config_[i])\n",
    "    for j in range(10):\n",
    "        model = switching_model(num_of_motorist=50,num_of_stations=config_[i],\n",
    "        inv_size=inv_size[i],\n",
    "        cp_size= cp_size[i],\n",
    "        width=map_width,height=map_height,moore=moore, configuration=\"random\", demand = demand)\n",
    "\n",
    "        for k in range(num_of_step):\n",
    "            model.step()\n",
    "            \n",
    "        model_data = model.datacollector.get_model_vars_dataframe()\n",
    "        df_['num_alive'][i].append(model_data[\"num_of_alive\"].iloc[-1])"
   ]
  },
  {
   "cell_type": "code",
   "execution_count": 55,
   "metadata": {},
   "outputs": [],
   "source": [
    "box_r = pd.DataFrame(columns = config_)\n",
    "for i in range(len(config_)):\n",
    "    box_r[config_[i]] = df_['num_alive'][i]"
   ]
  },
  {
   "cell_type": "code",
   "execution_count": 56,
   "metadata": {},
   "outputs": [
    {
     "data": {
      "text/plain": [
       "<AxesSubplot:>"
      ]
     },
     "execution_count": 56,
     "metadata": {},
     "output_type": "execute_result"
    },
    {
     "data": {
      "image/png": "[encoded data removed]",
      "text/plain": [
       "<Figure size 432x288 with 1 Axes>"
      ]
     },
     "metadata": {
      "needs_background": "light"
     },
     "output_type": "display_data"
    }
   ],
   "source": [
    "box_r.boxplot()"
   ]
  },
  {
   "cell_type": "code",
   "execution_count": 57,
   "metadata": {},
   "outputs": [
    {
     "data": {
      "text/plain": [
       "<AxesSubplot:>"
      ]
     },
     "execution_count": 57,
     "metadata": {},
     "output_type": "execute_result"
    },
    {
     "data": {
      "image/png": "[encoded data removed]",
      "text/plain": [
       "<Figure size 432x288 with 1 Axes>"
      ]
     },
     "metadata": {
      "needs_background": "light"
     },
     "output_type": "display_data"
    }
   ],
   "source": [
    "all_b = pd.concat([box_, box_r], axis=1)\n",
    "all_b.boxplot()"
   ]
  },
  {
   "cell_type": "code",
   "execution_count": 60,
   "metadata": {},
   "outputs": [
    {
     "data": {
      "image/png": "[encoded data removed]",
      "text/plain": [
       "<Figure size 432x288 with 1 Axes>"
      ]
     },
     "metadata": {
      "needs_background": "light"
     },
     "output_type": "display_data"
    }
   ],
   "source": [
    "all_ = pd.DataFrame(columns = ['Less', 'Random 4', 'Normal', 'Random 9','More', 'Random 16'])\n",
    "all_['Less'] = box_['less']\n",
    "all_['Normal'] = box_['normal']\n",
    "all_['More'] = box_['more']\n",
    "all_['Random 4'] = box_r[4]\n",
    "all_['Random 9'] = box_r[9]\n",
    "all_['Random 16'] = box_r[16]\n",
    "all_.boxplot()\n",
    "plt.tight_layout()\n",
    "plt.savefig('box-plot.png', format = 'png' )"
   ]
  },
  {
   "cell_type": "code",
   "execution_count": 85,
   "metadata": {},
   "outputs": [
    {
     "data": {
      "image/png": "[encoded data removed]",
      "text/plain": [
       "<Figure size 432x288 with 1 Axes>"
      ]
     },
     "metadata": {
      "needs_background": "light"
     },
     "output_type": "display_data"
    }
   ],
   "source": [
    "all_[['Less', 'Random 4']].boxplot()\n",
    "plt.xticks([1, 2],['Evenly Distributed', 'Random'])\n",
    "plt.ylabel('Number of Alive Agents')\n",
    "plt.tight_layout()\n",
    "plt.savefig('box-plot L4.png', format = 'png' )"
   ]
  },
  {
   "cell_type": "code",
   "execution_count": 84,
   "metadata": {},
   "outputs": [
    {
     "data": {
      "image/png": "[encoded data removed]",
      "text/plain": [
       "<Figure size 432x288 with 1 Axes>"
      ]
     },
     "metadata": {
      "needs_background": "light"
     },
     "output_type": "display_data"
    }
   ],
   "source": [
    "all_[['Normal', 'Random 9']].boxplot()\n",
    "plt.xticks([1, 2],['Evenly Distributed', 'Random'])\n",
    "plt.ylabel('Number of Alive Agents')\n",
    "plt.tight_layout()\n",
    "plt.savefig('box-plot N9.png', format = 'png' )"
   ]
  },
  {
   "cell_type": "code",
   "execution_count": 83,
   "metadata": {},
   "outputs": [
    {
     "data": {
      "image/png": "[encoded data removed]",
      "text/plain": [
       "<Figure size 432x288 with 1 Axes>"
      ]
     },
     "metadata": {
      "needs_background": "light"
     },
     "output_type": "display_data"
    }
   ],
   "source": [
    "all_[['More', 'Random 16']].boxplot()\n",
    "plt.xticks([1, 2],['Evenly Distributed', 'Random'])\n",
    "plt.ylabel('Number of Alive Agents')\n",
    "plt.tight_layout()\n",
    "plt.savefig('box-plot M16.png', format = 'png' )"
   ]
  },
  {
   "cell_type": "code",
   "execution_count": null,
   "metadata": {},
   "outputs": [],
   "source": [
    "plt.tight_layout()\n",
    "plt.savefig('box-plot 4916.png', format = 'png' )"
   ]
  },
  {
   "cell_type": "markdown",
   "metadata": {},
   "source": [
    "No inventory  \n",
    "Less 17   \n",
    "Normal 9  \n",
    "More 5"
   ]
  },
  {
   "cell_type": "code",
   "execution_count": 61,
   "metadata": {},
   "outputs": [
    {
     "name": "stdout",
     "output_type": "stream",
     "text": [
      "charging 1\n",
      "4\n",
      "4\n",
      "1\n",
      "charging 2\n",
      "4\n",
      "4\n",
      "2\n",
      "charging 3\n",
      "4\n",
      "4\n",
      "3\n",
      "charging 4\n",
      "4\n",
      "4\n",
      "7\n",
      "charging 5\n",
      "4\n",
      "4\n",
      "10\n",
      "charging 6\n",
      "4\n",
      "4\n",
      "12\n",
      "charging 7\n",
      "4\n",
      "4\n",
      "16\n",
      "charging 8\n",
      "4\n",
      "4\n",
      "19\n",
      "charging 9\n",
      "4\n",
      "4\n",
      "19\n",
      "charging 10\n",
      "4\n",
      "4\n",
      "27\n",
      "charging 11\n",
      "4\n",
      "4\n",
      "33\n",
      "charging 12\n",
      "4\n",
      "4\n",
      "34\n",
      "charging 13\n",
      "4\n",
      "4\n",
      "33\n",
      "charging 14\n",
      "4\n",
      "4\n",
      "42\n",
      "charging 15\n",
      "4\n",
      "4\n",
      "44\n",
      "charging 16\n",
      "4\n",
      "4\n",
      "44\n",
      "charging 17\n",
      "4\n",
      "4\n",
      "48\n"
     ]
    }
   ],
   "source": [
    "map_width = 50\n",
    "map_height = 50\n",
    "moore = False\n",
    "num_of_motorist = 50\n",
    "ratio = 3\n",
    "\n",
    "#Dalam menit\n",
    "days = 14\n",
    "num_of_step = days*24*60\n",
    "#num_of_step = 100\n",
    "temp_ = 0\n",
    "n = 0\n",
    "while temp_ < 45 : \n",
    "    n += 1\n",
    "    print('charging',n)\n",
    "    inv_size = 0\n",
    "    cp_size = n\n",
    "    model = switching_model(num_of_motorist=50,num_of_stations=4,inv_size=inv_size,cp_size= cp_size,width=map_width,height=map_height,moore=moore, configuration=\"less\", demand = demand)\n",
    "\n",
    "    for i in range(num_of_step):\n",
    "        model.step()\n",
    "    model_data = model.datacollector.get_model_vars_dataframe()\n",
    "    temp_ = model_data[\"num_of_alive\"].iloc[-1]\n",
    "    print(temp_)"
   ]
  },
  {
   "cell_type": "code",
   "execution_count": 62,
   "metadata": {},
   "outputs": [
    {
     "name": "stdout",
     "output_type": "stream",
     "text": [
      "charging 1\n",
      "9\n",
      "9\n",
      "2\n",
      "charging 2\n",
      "9\n",
      "9\n",
      "6\n",
      "charging 3\n",
      "9\n",
      "9\n",
      "11\n",
      "charging 4\n",
      "9\n",
      "9\n",
      "17\n",
      "charging 5\n",
      "9\n",
      "9\n",
      "27\n",
      "charging 6\n",
      "9\n",
      "9\n",
      "30\n",
      "charging 7\n",
      "9\n",
      "9\n",
      "37\n",
      "charging 8\n",
      "9\n",
      "9\n",
      "42\n",
      "charging 9\n",
      "9\n",
      "9\n",
      "47\n"
     ]
    }
   ],
   "source": [
    "map_width = 50\n",
    "map_height = 50\n",
    "moore = False\n",
    "num_of_motorist = 50\n",
    "ratio = 3\n",
    "\n",
    "#Dalam menit\n",
    "days = 14\n",
    "num_of_step = days*24*60\n",
    "#num_of_step = 100\n",
    "temp_ = 0\n",
    "n = 0\n",
    "while temp_ < 45 : \n",
    "    n += 1\n",
    "    print('charging',n)\n",
    "    inv_size = 0\n",
    "    cp_size = n\n",
    "    model = switching_model(num_of_motorist=50,num_of_stations=4,inv_size=inv_size,cp_size= cp_size,width=map_width,height=map_height,moore=moore, configuration=\"normal\", demand = demand)\n",
    "\n",
    "    for i in range(num_of_step):\n",
    "        model.step()\n",
    "    model_data = model.datacollector.get_model_vars_dataframe()\n",
    "    temp_ = model_data[\"num_of_alive\"].iloc[-1]\n",
    "    print(temp_)"
   ]
  },
  {
   "cell_type": "code",
   "execution_count": 63,
   "metadata": {},
   "outputs": [
    {
     "name": "stdout",
     "output_type": "stream",
     "text": [
      "charging 1\n",
      "16\n",
      "16\n",
      "3\n",
      "charging 2\n",
      "16\n",
      "16\n",
      "11\n",
      "charging 3\n",
      "16\n",
      "16\n",
      "23\n",
      "charging 4\n",
      "16\n",
      "16\n",
      "36\n",
      "charging 5\n",
      "16\n",
      "16\n",
      "47\n"
     ]
    }
   ],
   "source": [
    "map_width = 50\n",
    "map_height = 50\n",
    "moore = False\n",
    "num_of_motorist = 50\n",
    "ratio = 3\n",
    "\n",
    "#Dalam menit\n",
    "days = 14\n",
    "num_of_step = days*24*60\n",
    "#num_of_step = 100\n",
    "temp_ = 0\n",
    "n = 0\n",
    "while temp_ < 45 : \n",
    "    n += 1\n",
    "    print('charging',n)\n",
    "    inv_size = 0\n",
    "    cp_size = n\n",
    "    model = switching_model(num_of_motorist=50,num_of_stations=4,inv_size=inv_size,cp_size= cp_size,width=map_width,height=map_height,moore=moore, configuration=\"more\", demand = demand)\n",
    "\n",
    "    for i in range(num_of_step):\n",
    "        model.step()\n",
    "    model_data = model.datacollector.get_model_vars_dataframe()\n",
    "    temp_ = model_data[\"num_of_alive\"].iloc[-1]\n",
    "    print(temp_)"
   ]
  },
  {
   "cell_type": "code",
   "execution_count": 67,
   "metadata": {},
   "outputs": [
    {
     "name": "stdout",
     "output_type": "stream",
     "text": [
      "4\n",
      "4\n",
      "4\n",
      "4\n",
      "4\n",
      "4\n",
      "4\n",
      "4\n",
      "4\n",
      "4\n",
      "4\n",
      "4\n",
      "4\n",
      "4\n",
      "4\n",
      "4\n",
      "4\n",
      "4\n",
      "4\n",
      "4\n",
      "9\n",
      "9\n",
      "9\n",
      "9\n",
      "9\n",
      "9\n",
      "9\n",
      "9\n",
      "9\n",
      "9\n",
      "9\n",
      "9\n",
      "9\n",
      "9\n",
      "9\n",
      "9\n",
      "9\n",
      "9\n",
      "9\n",
      "9\n",
      "16\n",
      "16\n",
      "16\n",
      "16\n",
      "16\n",
      "16\n",
      "16\n",
      "16\n",
      "16\n",
      "16\n",
      "16\n",
      "16\n",
      "16\n",
      "16\n",
      "16\n",
      "16\n",
      "16\n",
      "16\n",
      "16\n",
      "16\n"
     ]
    }
   ],
   "source": [
    "map_width = 50\n",
    "map_height = 50\n",
    "moore = False\n",
    "num_of_motorist = 50\n",
    "ratio = 3 \n",
    "cp_size = [17 , 9, 5]\n",
    "config_ = ['less','normal','more']\n",
    "days = 14\n",
    "num_of_step = days*24*60\n",
    "#num_of_step = 100\n",
    "df_ = {\n",
    "    'moore' : [],\n",
    "    'num_alive' : [[],[],[]]\n",
    "}\n",
    "\n",
    "for i in range(len(config_)):\n",
    "    df_['moore'].append(config_[i])\n",
    "    for j in range(10):\n",
    "        model = switching_model(num_of_motorist=50,num_of_stations=10,\n",
    "        inv_size=0,\n",
    "        cp_size= cp_size[i],\n",
    "        width=map_width,height=map_height,moore=moore, configuration=config_[i], demand = demand)\n",
    "\n",
    "        for k in range(num_of_step):\n",
    "            model.step()\n",
    "            \n",
    "        model_data = model.datacollector.get_model_vars_dataframe()\n",
    "        df_['num_alive'][i].append(model_data[\"num_of_alive\"].iloc[-1])"
   ]
  },
  {
   "cell_type": "code",
   "execution_count": 76,
   "metadata": {},
   "outputs": [],
   "source": [
    "bbox_ = pd.DataFrame(columns = config_)\n",
    "for i in range(len(config_)):\n",
    "    bbox_[config_[i]] = df_['num_alive'][i]"
   ]
  },
  {
   "cell_type": "code",
   "execution_count": 77,
   "metadata": {},
   "outputs": [
    {
     "name": "stdout",
     "output_type": "stream",
     "text": [
      "4\n",
      "4\n",
      "4\n",
      "4\n",
      "4\n",
      "4\n",
      "4\n",
      "4\n",
      "4\n",
      "4\n",
      "9\n",
      "9\n",
      "9\n",
      "9\n",
      "9\n",
      "9\n",
      "9\n",
      "9\n",
      "9\n",
      "9\n",
      "16\n",
      "16\n",
      "16\n",
      "16\n",
      "16\n",
      "16\n",
      "16\n",
      "16\n",
      "16\n",
      "16\n"
     ]
    }
   ],
   "source": [
    "map_width = 50\n",
    "map_height = 50\n",
    "moore = False\n",
    "num_of_motorist = 50\n",
    "cp_size = [17 , 9, 5]\n",
    "config_ = [4,9,16]\n",
    "days = 14\n",
    "num_of_step = days*24*60\n",
    "#num_of_step = 100\n",
    "df_ = {\n",
    "    'moore' : [],\n",
    "    'num_alive' : [[],[],[]]\n",
    "}\n",
    "\n",
    "for i in range(len(config_)):\n",
    "    df_['moore'].append(config_[i])\n",
    "    for j in range(10):\n",
    "        model = switching_model(num_of_motorist=50,num_of_stations=config_[i],\n",
    "        inv_size=0,\n",
    "        cp_size= cp_size[i],\n",
    "        width=map_width,height=map_height,moore=moore, configuration=\"random\", demand = demand)\n",
    "\n",
    "        for k in range(num_of_step):\n",
    "            model.step()\n",
    "            \n",
    "        model_data = model.datacollector.get_model_vars_dataframe()\n",
    "        df_['num_alive'][i].append(model_data[\"num_of_alive\"].iloc[-1])"
   ]
  },
  {
   "cell_type": "code",
   "execution_count": 78,
   "metadata": {},
   "outputs": [],
   "source": [
    "bbox_r = pd.DataFrame(columns = config_)\n",
    "for i in range(len(config_)):\n",
    "    bbox_r[config_[i]] = df_['num_alive'][i]"
   ]
  },
  {
   "cell_type": "code",
   "execution_count": 79,
   "metadata": {},
   "outputs": [
    {
     "data": {
      "text/plain": [
       "<AxesSubplot:>"
      ]
     },
     "execution_count": 79,
     "metadata": {},
     "output_type": "execute_result"
    },
    {
     "data": {
      "image/png": "[encoded data removed]",
      "text/plain": [
       "<Figure size 432x288 with 1 Axes>"
      ]
     },
     "metadata": {
      "needs_background": "light"
     },
     "output_type": "display_data"
    }
   ],
   "source": [
    "ball_ = pd.DataFrame(columns = ['Less', 'Random 4', 'Normal', 'Random 9','More', 'Random 16'])\n",
    "ball_['Less'] = bbox_['less']\n",
    "ball_['Normal'] = bbox_['normal']\n",
    "ball_['More'] = bbox_['more']\n",
    "ball_['Random 4'] = bbox_r[4]\n",
    "ball_['Random 9'] = bbox_r[9]\n",
    "ball_['Random 16'] = bbox_r[16]\n",
    "ball_.boxplot()"
   ]
  },
  {
   "cell_type": "code",
   "execution_count": 80,
   "metadata": {},
   "outputs": [
    {
     "data": {
      "image/png": "[encoded data removed]",
      "text/plain": [
       "<Figure size 432x288 with 1 Axes>"
      ]
     },
     "metadata": {
      "needs_background": "light"
     },
     "output_type": "display_data"
    }
   ],
   "source": [
    "ball_[['Less', 'Random 4']].boxplot()\n",
    "plt.xticks([1, 2],['Evenly Distributed', 'Random'])\n",
    "plt.ylabel('Number of Alive Agents')\n",
    "plt.tight_layout()\n",
    "plt.savefig('bbox-plot L4.png', format = 'png' )"
   ]
  },
  {
   "cell_type": "code",
   "execution_count": 81,
   "metadata": {},
   "outputs": [
    {
     "data": {
      "image/png": "[encoded data removed]",
      "text/plain": [
       "<Figure size 432x288 with 1 Axes>"
      ]
     },
     "metadata": {
      "needs_background": "light"
     },
     "output_type": "display_data"
    }
   ],
   "source": [
    "ball_[['Normal', 'Random 9']].boxplot()\n",
    "plt.xticks([1, 2],['Evenly Distributed', 'Random'])\n",
    "plt.ylabel('Number of Alive Agents')\n",
    "plt.tight_layout()\n",
    "plt.savefig('bbox-plot N9.png', format = 'png' )"
   ]
  },
  {
   "cell_type": "code",
   "execution_count": 82,
   "metadata": {},
   "outputs": [
    {
     "data": {
      "image/png": "[encoded data removed]",
      "text/plain": [
       "<Figure size 432x288 with 1 Axes>"
      ]
     },
     "metadata": {
      "needs_background": "light"
     },
     "output_type": "display_data"
    }
   ],
   "source": [
    "ball_[['More', 'Random 16']].boxplot()\n",
    "plt.xticks([1, 2],['Evenly Distributed', 'Random'])\n",
    "plt.ylabel('Number of Alive Agents')\n",
    "plt.tight_layout()\n",
    "plt.savefig('bbox-plot M16.png', format = 'png' )"
   ]
  },
  {
   "cell_type": "code",
   "execution_count": 87,
   "metadata": {},
   "outputs": [
    {
     "data": {
      "text/plain": [
       "<AxesSubplot:>"
      ]
     },
     "execution_count": 87,
     "metadata": {},
     "output_type": "execute_result"
    },
    {
     "data": {
      "image/png": "[encoded data removed]",
      "text/plain": [
       "<Figure size 432x288 with 1 Axes>"
      ]
     },
     "metadata": {
      "needs_background": "light"
     },
     "output_type": "display_data"
    }
   ],
   "source": [
    "invvv_ = pd.DataFrame(columns = ['less_i', 'less_ni', 'normal_i', 'normal_ni','more_i', 'more_ni'])\n",
    "invvv_['less_i'] = box_['less']\n",
    "invvv_['less_ni'] =bbox_['less']\n",
    "invvv_['normal_i'] = box_['normal']\n",
    "invvv_['normal_ni'] =  bbox_['normal']\n",
    "invvv_['more_i'] =  box_['more']\n",
    "invvv_['more_ni'] = bbox_['more']\n",
    "invvv_.boxplot()"
   ]
  },
  {
   "cell_type": "code",
   "execution_count": 89,
   "metadata": {},
   "outputs": [
    {
     "data": {
      "image/png": "[encoded data removed]",
      "text/plain": [
       "<Figure size 432x288 with 1 Axes>"
      ]
     },
     "metadata": {
      "needs_background": "light"
     },
     "output_type": "display_data"
    }
   ],
   "source": [
    "invvv_[['less_i', 'less_ni']].boxplot()\n",
    "plt.xticks([1, 2],['Inventory', 'No Inventory'])\n",
    "plt.ylabel('Number of Alive Agents')\n",
    "plt.tight_layout()\n",
    "plt.savefig('box-plot ini 4.png', format = 'png' )"
   ]
  },
  {
   "cell_type": "code",
   "execution_count": 90,
   "metadata": {},
   "outputs": [
    {
     "data": {
      "image/png": "[encoded data removed]",
      "text/plain": [
       "<Figure size 432x288 with 1 Axes>"
      ]
     },
     "metadata": {
      "needs_background": "light"
     },
     "output_type": "display_data"
    }
   ],
   "source": [
    "invvv_[['normal_i', 'normal_ni']].boxplot()\n",
    "plt.xticks([1, 2],['Inventory', 'No Inventory'])\n",
    "plt.ylabel('Number of Alive Agents')\n",
    "plt.tight_layout()\n",
    "plt.savefig('box-plot ini 9.png', format = 'png' )"
   ]
  },
  {
   "cell_type": "code",
   "execution_count": 91,
   "metadata": {},
   "outputs": [
    {
     "data": {
      "image/png": "[encoded data removed]",
      "text/plain": [
       "<Figure size 432x288 with 1 Axes>"
      ]
     },
     "metadata": {
      "needs_background": "light"
     },
     "output_type": "display_data"
    }
   ],
   "source": [
    "invvv_[['more_i', 'more_ni']].boxplot()\n",
    "plt.xticks([1, 2],['Inventory', 'No Inventory'])\n",
    "plt.ylabel('Number of Alive Agents')\n",
    "plt.tight_layout()\n",
    "plt.savefig('box-plot ini 16.png', format = 'png' )"
   ]
  },
  {
   "cell_type": "code",
   "execution_count": 98,
   "metadata": {},
   "outputs": [
    {
     "data": {
      "text/plain": [
       "Less           5.377778\n",
       "Random 4       3.777778\n",
       "Normal        11.511111\n",
       "Random 9     149.344444\n",
       "More           4.177778\n",
       "Random 16     15.166667\n",
       "dtype: float64"
      ]
     },
     "execution_count": 98,
     "metadata": {},
     "output_type": "execute_result"
    }
   ],
   "source": [
    "all_.var()"
   ]
  },
  {
   "cell_type": "code",
   "execution_count": 106,
   "metadata": {},
   "outputs": [
    {
     "data": {
      "text/plain": [
       "0    27\n",
       "1    21\n",
       "2    40\n",
       "3     3\n",
       "4    14\n",
       "5    32\n",
       "6     2\n",
       "7    19\n",
       "8    26\n",
       "9    29\n",
       "Name: Random 9, dtype: int64"
      ]
     },
     "execution_count": 106,
     "metadata": {},
     "output_type": "execute_result"
    }
   ],
   "source": [
    "all_['Random 9']"
   ]
  }
 ],
 "metadata": {
  "kernelspec": {
   "display_name": "Python 3.8.12 ('base')",
   "language": "python",
   "name": "python3"
  },
  "language_info": {
   "codemirror_mode": {
    "name": "ipython",
    "version": 3
   },
   "file_extension": ".py",
   "mimetype": "text/x-python",
   "name": "python",
   "nbconvert_exporter": "python",
   "pygments_lexer": "ipython3",
   "version": "3.8.12"
  },
  "orig_nbformat": 4,
  "vscode": {
   "interpreter": {
    "hash": "a063a9d6d4095dba70f7d4a438ef288e94ffec589b0525f5b20de998ec61033a"
   }
  }
 },
 "nbformat": 4,
 "nbformat_minor": 2
}
