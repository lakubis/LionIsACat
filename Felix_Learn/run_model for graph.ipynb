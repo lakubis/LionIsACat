{
 "cells": [
  {
   "cell_type": "code",
   "execution_count": 1,
   "metadata": {},
   "outputs": [
    {
     "name": "stderr",
     "output_type": "stream",
     "text": [
      "c:\\Users\\leona\\anaconda3\\lib\\site-packages\\numpy\\_distributor_init.py:30: UserWarning: loaded more than 1 DLL from .libs:\n",
      "c:\\Users\\leona\\anaconda3\\lib\\site-packages\\numpy\\.libs\\libopenblas.PYQHXLVVQ7VESDPUVUADXEVJOBGHJPAY.gfortran-win_amd64.dll\n",
      "c:\\Users\\leona\\anaconda3\\lib\\site-packages\\numpy\\.libs\\libopenblas.XWYDX2IKJW2NMTWSFYNGFUWKQU3LYTCZ.gfortran-win_amd64.dll\n",
      "  warnings.warn(\"loaded more than 1 DLL from .libs:\"\n",
      "<frozen importlib._bootstrap>:219: RuntimeWarning: scipy._lib.messagestream.MessageStream size changed, may indicate binary incompatibility. Expected 56 from C header, got 64 from PyObject\n"
     ]
    },
    {
     "name": "stdout",
     "output_type": "stream",
     "text": [
      "24\n",
      "24\n"
     ]
    },
    {
     "data": {
      "image/png": "[encoded data removed]",
      "text/plain": [
       "<Figure size 432x288 with 1 Axes>"
      ]
     },
     "metadata": {
      "needs_background": "light"
     },
     "output_type": "display_data"
    }
   ],
   "source": [
    "from model_lomba import *\n",
    "import matplotlib.pyplot as plt\n",
    "import seaborn as sns\n",
    "\n",
    "demand = [0.2,0.3,0.5,0.65,0.8,0.9,1.0,1.0,1.0,1.0,1.0,1.0,0.9,0.8,0.65,0.45,0.3,0.2,0.1,0.1,0.1,0.1,0.1,0.1]\n",
    "hour = [\"06:00\",\"07:00\",\"08:00\",\"09:00\",\"10:00\",\"11:00\",\"12:00\",\"13:00\",\"14:00\",\"15:00\",\"16:00\",\"17:00\",\"18:00\",\"19:00\",\"20:00\",\"21:00\",\"22:00\",\"23:00\",\"00:00\",\"01:00\",\"02:00\",\"03:00\",\"04:00\",\"05:00\"]\n",
    "print(len(demand))\n",
    "print(len(hour))\n",
    "\n",
    "plt.plot(hour,demand)\n",
    "plt.xticks(rotation = 'vertical')\n",
    "plt.xlabel('Time')\n",
    "plt.ylabel('Probability distribution')\n",
    "plt.title('')\n",
    "plt.ylim([0.0,1.1])\n",
    "#plt.tight_layout()\n",
    "#plt.savefig('Prob-dist.png', format = 'png' )\n",
    "plt.show()"
   ]
  },
  {
   "cell_type": "markdown",
   "metadata": {},
   "source": [
    "Less : ratio (cp : inventory) 1:3 charging size = 6; inv size = 18 (40-45 seems like)\n",
    "random : 4 ratio (cp : inventory) 1:3 charging size = 6; inv size = 18 (40-45 seems like)\n",
    "\n",
    "Normal : ratio (cp : inventory) 1:3 charging size = 6; inv size = 18 (40-45 seems like)"
   ]
  },
  {
   "cell_type": "code",
   "execution_count": 12,
   "metadata": {},
   "outputs": [
    {
     "name": "stdout",
     "output_type": "stream",
     "text": [
      "perkalian ratio 1\n",
      "9\n",
      "9\n",
      "7\n",
      "perkalian ratio 2\n",
      "9\n",
      "9\n",
      "27\n",
      "perkalian ratio 3\n",
      "9\n",
      "9\n",
      "44\n",
      "perkalian ratio 4\n",
      "9\n",
      "9\n",
      "50\n"
     ]
    }
   ],
   "source": [
    "map_width = 50\n",
    "map_height = 50\n",
    "moore = False\n",
    "num_of_motorist = 50\n",
    "ratio = 4\n",
    "\n",
    "#Dalam menit\n",
    "days = 14\n",
    "num_of_step = days*24*60\n",
    "#num_of_step = 100\n",
    "temp_ = 0\n",
    "n = 0\n",
    "while temp_ < 45 : \n",
    "    n += 1\n",
    "    print('perkalian ratio',n)\n",
    "    inv_size = ratio*n\n",
    "    cp_size = int(np.ceil(inv_size/ratio))\n",
    "    model = switching_model(num_of_motorist=50,num_of_stations=4,inv_size=inv_size,cp_size= cp_size,width=map_width,height=map_height,moore=moore, configuration=\"more\", demand = demand)\n",
    "\n",
    "    for i in range(num_of_step):\n",
    "        model.step()\n",
    "    model_data = model.datacollector.get_model_vars_dataframe()\n",
    "    temp_ = model_data[\"num_of_alive\"].iloc[-1]\n",
    "    print(temp_)\n",
    "\n"
   ]
  },
  {
   "cell_type": "code",
   "execution_count": 18,
   "metadata": {},
   "outputs": [
    {
     "name": "stdout",
     "output_type": "stream",
     "text": [
      "9\n",
      "9\n"
     ]
    },
    {
     "data": {
      "text/plain": [
       "30"
      ]
     },
     "execution_count": 18,
     "metadata": {},
     "output_type": "execute_result"
    }
   ],
   "source": [
    "map_width = 50\n",
    "map_height = 50\n",
    "moore = False\n",
    "num_of_motorist = 50\n",
    "ratio = 3\n",
    "inv_size = ratio*4\n",
    "cp_size = int(np.ceil(inv_size/ratio))-2\n",
    "model = switching_model(num_of_motorist=50,num_of_stations=10,inv_size=inv_size,cp_size= cp_size,width=map_width,height=map_height,moore=moore, configuration=\"normal\", demand = demand)\n",
    "\n",
    "#Dalam menit\n",
    "days = 14\n",
    "num_of_step = days*24*60\n",
    "#num_of_step = 100\n",
    "for i in range(num_of_step):\n",
    "    model.step()\n",
    "model_data = model.datacollector.get_model_vars_dataframe()\n",
    "model_data[\"num_of_alive\"].iloc[-1]"
   ]
  },
  {
   "cell_type": "code",
   "execution_count": 16,
   "metadata": {},
   "outputs": [
    {
     "data": {
      "text/plain": [
       "34"
      ]
     },
     "execution_count": 16,
     "metadata": {},
     "output_type": "execute_result"
    }
   ],
   "source": [
    "model_data = model.datacollector.get_model_vars_dataframe()\n",
    "model_data[\"num_of_alive\"].iloc[-1]"
   ]
  },
  {
   "cell_type": "code",
   "execution_count": 11,
   "metadata": {},
   "outputs": [
    {
     "data": {
      "text/html": [
       "<div>\n",
       "<style scoped>\n",
       "    .dataframe tbody tr th:only-of-type {\n",
       "        vertical-align: middle;\n",
       "    }\n",
       "\n",
       "    .dataframe tbody tr th {\n",
       "        vertical-align: top;\n",
       "    }\n",
       "\n",
       "    .dataframe thead th {\n",
       "        text-align: right;\n",
       "    }\n",
       "</style>\n",
       "<table border=\"1\" class=\"dataframe\">\n",
       "  <thead>\n",
       "    <tr style=\"text-align: right;\">\n",
       "      <th></th>\n",
       "      <th></th>\n",
       "      <th>Position</th>\n",
       "      <th>Charge</th>\n",
       "      <th>Alive</th>\n",
       "      <th>Full_battery</th>\n",
       "      <th>Empty_battery</th>\n",
       "      <th>CP_full</th>\n",
       "      <th>CP_empty</th>\n",
       "    </tr>\n",
       "    <tr>\n",
       "      <th>Step</th>\n",
       "      <th>AgentID</th>\n",
       "      <th></th>\n",
       "      <th></th>\n",
       "      <th></th>\n",
       "      <th></th>\n",
       "      <th></th>\n",
       "      <th></th>\n",
       "      <th></th>\n",
       "    </tr>\n",
       "  </thead>\n",
       "  <tbody>\n",
       "    <tr>\n",
       "      <th rowspan=\"5\" valign=\"top\">0</th>\n",
       "      <th>0</th>\n",
       "      <td>None</td>\n",
       "      <td>2427.798140</td>\n",
       "      <td>None</td>\n",
       "      <td>NaN</td>\n",
       "      <td>NaN</td>\n",
       "      <td>NaN</td>\n",
       "      <td>NaN</td>\n",
       "    </tr>\n",
       "    <tr>\n",
       "      <th>1</th>\n",
       "      <td>None</td>\n",
       "      <td>2482.318684</td>\n",
       "      <td>None</td>\n",
       "      <td>NaN</td>\n",
       "      <td>NaN</td>\n",
       "      <td>NaN</td>\n",
       "      <td>NaN</td>\n",
       "    </tr>\n",
       "    <tr>\n",
       "      <th>2</th>\n",
       "      <td>None</td>\n",
       "      <td>1426.291612</td>\n",
       "      <td>None</td>\n",
       "      <td>NaN</td>\n",
       "      <td>NaN</td>\n",
       "      <td>NaN</td>\n",
       "      <td>NaN</td>\n",
       "    </tr>\n",
       "    <tr>\n",
       "      <th>3</th>\n",
       "      <td>None</td>\n",
       "      <td>2457.331399</td>\n",
       "      <td>None</td>\n",
       "      <td>NaN</td>\n",
       "      <td>NaN</td>\n",
       "      <td>NaN</td>\n",
       "      <td>NaN</td>\n",
       "    </tr>\n",
       "    <tr>\n",
       "      <th>4</th>\n",
       "      <td>None</td>\n",
       "      <td>840.652982</td>\n",
       "      <td>None</td>\n",
       "      <td>NaN</td>\n",
       "      <td>NaN</td>\n",
       "      <td>NaN</td>\n",
       "      <td>NaN</td>\n",
       "    </tr>\n",
       "  </tbody>\n",
       "</table>\n",
       "</div>"
      ],
      "text/plain": [
       "             Position       Charge Alive  Full_battery  Empty_battery  \\\n",
       "Step AgentID                                                            \n",
       "0    0           None  2427.798140  None           NaN            NaN   \n",
       "     1           None  2482.318684  None           NaN            NaN   \n",
       "     2           None  1426.291612  None           NaN            NaN   \n",
       "     3           None  2457.331399  None           NaN            NaN   \n",
       "     4           None   840.652982  None           NaN            NaN   \n",
       "\n",
       "              CP_full  CP_empty  \n",
       "Step AgentID                     \n",
       "0    0            NaN       NaN  \n",
       "     1            NaN       NaN  \n",
       "     2            NaN       NaN  \n",
       "     3            NaN       NaN  \n",
       "     4            NaN       NaN  "
      ]
     },
     "execution_count": 11,
     "metadata": {},
     "output_type": "execute_result"
    }
   ],
   "source": [
    "#Ambil data agent\n",
    "agent_data = model.datacollector.get_agent_vars_dataframe()\n",
    "agent_data.head()"
   ]
  },
  {
   "cell_type": "code",
   "execution_count": 9,
   "metadata": {},
   "outputs": [
    {
     "data": {
      "text/plain": [
       "AgentID\n",
       "114    False\n",
       "115     True\n",
       "116    False\n",
       "117    False\n",
       "118    False\n",
       "119    False\n",
       "120     True\n",
       "121     True\n",
       "122    False\n",
       "123    False\n",
       "124     True\n",
       "125    False\n",
       "126    False\n",
       "127    False\n",
       "128    False\n",
       "129    False\n",
       "130    False\n",
       "131     True\n",
       "132     True\n",
       "133     True\n",
       "134    False\n",
       "135     True\n",
       "136    False\n",
       "137     True\n",
       "138     True\n",
       "139    False\n",
       "140     True\n",
       "141    False\n",
       "142    False\n",
       "143     True\n",
       "144    False\n",
       "145    False\n",
       "146    False\n",
       "147     True\n",
       "148     True\n",
       "149    False\n",
       "150     True\n",
       "151     True\n",
       "152     True\n",
       "153    False\n",
       "154     True\n",
       "155    False\n",
       "156    False\n",
       "157    False\n",
       "158    False\n",
       "159    False\n",
       "160    False\n",
       "161    False\n",
       "162     True\n",
       "163     True\n",
       "Name: Alive, dtype: object"
      ]
     },
     "execution_count": 9,
     "metadata": {},
     "output_type": "execute_result"
    }
   ],
   "source": [
    "motorist_alive = agent_data.xs(num_of_step-1,level = \"Step\")[\"Alive\"]\n",
    "motorist_id = []\n",
    "for motor in model.motorists:\n",
    "    motorist_id.append(motor.unique_id)\n",
    "motorist_alive[motorist_id]"
   ]
  },
  {
   "cell_type": "code",
   "execution_count": 10,
   "metadata": {},
   "outputs": [
    {
     "name": "stdout",
     "output_type": "stream",
     "text": [
      "AgentID\n",
      "164      (5, 5)\n",
      "165     (5, 17)\n",
      "166     (5, 30)\n",
      "167     (5, 42)\n",
      "168     (17, 5)\n",
      "169    (17, 17)\n",
      "170    (17, 30)\n",
      "171    (17, 42)\n",
      "172     (30, 5)\n",
      "173    (30, 17)\n",
      "174    (30, 30)\n",
      "175    (30, 42)\n",
      "176     (42, 5)\n",
      "177    (42, 17)\n",
      "178    (42, 30)\n",
      "179    (42, 42)\n",
      "Name: Position, dtype: object\n"
     ]
    }
   ],
   "source": [
    "agent_pos = agent_data.xs(0,level = \"Step\")[\"Position\"]\n",
    "station_id = []\n",
    "for stat in model.stations:\n",
    "    station_id.append(stat.unique_id)\n",
    "station_pos = agent_pos[station_id]\n",
    "print(station_pos)"
   ]
  },
  {
   "cell_type": "code",
   "execution_count": 11,
   "metadata": {},
   "outputs": [
    {
     "name": "stdout",
     "output_type": "stream",
     "text": [
      "AgentID\n",
      "164    3.0\n",
      "165    3.0\n",
      "166    3.0\n",
      "167    3.0\n",
      "168    3.0\n",
      "169    3.0\n",
      "170    3.0\n",
      "171    3.0\n",
      "172    3.0\n",
      "173    3.0\n",
      "174    3.0\n",
      "175    3.0\n",
      "176    3.0\n",
      "177    3.0\n",
      "178    3.0\n",
      "179    2.0\n",
      "Name: Full_battery, dtype: float64\n"
     ]
    }
   ],
   "source": [
    "step_station = num_of_step-1\n",
    "#step_station = 0\n",
    "agent_full = agent_data.xs(step_station,level = \"Step\")[\"Full_battery\"]\n",
    "station_id = []\n",
    "for stat in model.stations:\n",
    "    station_id.append(stat.unique_id)\n",
    "station_full = agent_full[station_id]\n",
    "print(station_full)"
   ]
  },
  {
   "cell_type": "code",
   "execution_count": 12,
   "metadata": {},
   "outputs": [
    {
     "name": "stdout",
     "output_type": "stream",
     "text": [
      "AgentID\n",
      "164    0.0\n",
      "165    0.0\n",
      "166    0.0\n",
      "167    0.0\n",
      "168    0.0\n",
      "169    0.0\n",
      "170    0.0\n",
      "171    0.0\n",
      "172    0.0\n",
      "173    0.0\n",
      "174    0.0\n",
      "175    0.0\n",
      "176    0.0\n",
      "177    0.0\n",
      "178    0.0\n",
      "179    1.0\n",
      "Name: Empty_battery, dtype: float64\n"
     ]
    }
   ],
   "source": [
    "agent_empty = agent_data.xs(step_station,level = \"Step\")[\"Empty_battery\"]\n",
    "station_id = []\n",
    "for stat in model.stations:\n",
    "    station_id.append(stat.unique_id)\n",
    "station_empty = agent_empty[station_id]\n",
    "print(station_empty)"
   ]
  },
  {
   "cell_type": "code",
   "execution_count": 13,
   "metadata": {},
   "outputs": [
    {
     "name": "stdout",
     "output_type": "stream",
     "text": [
      "AgentID\n",
      "164    1.0\n",
      "165    1.0\n",
      "166    1.0\n",
      "167    1.0\n",
      "168    1.0\n",
      "169    1.0\n",
      "170    1.0\n",
      "171    1.0\n",
      "172    1.0\n",
      "173    1.0\n",
      "174    1.0\n",
      "175    1.0\n",
      "176    1.0\n",
      "177    1.0\n",
      "178    1.0\n",
      "179    0.0\n",
      "Name: CP_full, dtype: float64\n"
     ]
    }
   ],
   "source": [
    "agent_cp_full = agent_data.xs(step_station,level = \"Step\")[\"CP_full\"]\n",
    "station_id = []\n",
    "for stat in model.stations:\n",
    "    station_id.append(stat.unique_id)\n",
    "station_cp_full = agent_cp_full[station_id]\n",
    "print(station_cp_full)"
   ]
  },
  {
   "cell_type": "code",
   "execution_count": 14,
   "metadata": {},
   "outputs": [
    {
     "name": "stdout",
     "output_type": "stream",
     "text": [
      "AgentID\n",
      "164    0.0\n",
      "165    0.0\n",
      "166    0.0\n",
      "167    0.0\n",
      "168    0.0\n",
      "169    0.0\n",
      "170    0.0\n",
      "171    0.0\n",
      "172    0.0\n",
      "173    0.0\n",
      "174    0.0\n",
      "175    0.0\n",
      "176    0.0\n",
      "177    0.0\n",
      "178    0.0\n",
      "179    1.0\n",
      "Name: CP_empty, dtype: float64\n"
     ]
    }
   ],
   "source": [
    "agent_cp_empty = agent_data.xs(step_station,level = \"Step\")[\"CP_empty\"]\n",
    "station_id = []\n",
    "for stat in model.stations:\n",
    "    station_id.append(stat.unique_id)\n",
    "station_cp_empty = agent_cp_empty[station_id]\n",
    "print(station_cp_empty)"
   ]
  },
  {
   "cell_type": "code",
   "execution_count": 15,
   "metadata": {},
   "outputs": [
    {
     "data": {
      "text/plain": [
       "Step\n",
       "20155    (5, 12)\n",
       "20156    (5, 12)\n",
       "20157    (5, 12)\n",
       "20158    (5, 12)\n",
       "20159    (5, 12)\n",
       "Name: Position, dtype: object"
      ]
     },
     "execution_count": 15,
     "metadata": {},
     "output_type": "execute_result"
    }
   ],
   "source": [
    "#Ambil data motorist\n",
    "driver_num = 0\n",
    "motorist_pos = agent_data.xs(model.motorists[driver_num].unique_id, level = \"AgentID\")[\"Position\"]\n",
    "motorist_pos.head()\n",
    "motorist_pos.tail()"
   ]
  },
  {
   "cell_type": "code",
   "execution_count": 16,
   "metadata": {},
   "outputs": [
    {
     "data": {
      "text/plain": [
       "Text(0, 0.5, 'y')"
      ]
     },
     "execution_count": 16,
     "metadata": {},
     "output_type": "execute_result"
    },
    {
     "data": {
      "image/png": "[encoded data removed]",
      "text/plain": [
       "<Figure size 432x288 with 1 Axes>"
      ]
     },
     "metadata": {
      "needs_background": "light"
     },
     "output_type": "display_data"
    }
   ],
   "source": [
    "#Coba plot posisi\n",
    "x_coor = []\n",
    "y_coor = []\n",
    "for coor in motorist_pos:\n",
    "    x_coor.append(coor[0])\n",
    "    y_coor.append(coor[1])\n",
    "\n",
    "\n",
    "\n",
    "plt.plot(x_coor,y_coor)\n",
    "for i in range(model.num_of_stations):\n",
    "    plt.plot(model.stations[i].pos[0],model.stations[i].pos[1],color = \"red\", marker = 'o')\n",
    "plt.xlim([0,map_width])\n",
    "plt.ylim([0,map_height])\n",
    "plt.title('Posisi driver ' + str(driver_num))\n",
    "plt.axis('scaled')\n",
    "plt.xlabel('x')\n",
    "plt.ylabel('y')"
   ]
  },
  {
   "cell_type": "code",
   "execution_count": 17,
   "metadata": {},
   "outputs": [
    {
     "data": {
      "image/png": "[encoded data removed]",
      "text/plain": [
       "<Figure size 432x288 with 1 Axes>"
      ]
     },
     "metadata": {
      "needs_background": "light"
     },
     "output_type": "display_data"
    }
   ],
   "source": [
    "#Cek baterai\n",
    "battery_id = 8\n",
    "battery_energy = agent_data.xs(battery_id, level = \"AgentID\")[\"Charge\"]\n",
    "battery_energy.plot()\n",
    "plt.xlim(0,num_of_step)\n",
    "plt.ylim(0,2700)\n",
    "for i in range(1,days):\n",
    "    plt.axvline(x = 1440*i, color = 'r', linestyle='--', label = 'axvline - full height')\n",
    "plt.legend(['Battery Capacity','Days'])\n",
    "locs, labels = plt.xticks()  # Get the current locations and labels.\n",
    "plt.xticks(np.arange(0, days*1440, step=1440))  # Set label locations.\n",
    "plt.xticks(np.arange(days)*1440, np.arange(0,days))  # Set text labels.\n",
    "#plt.xticks([0, 1, 2], ['January', 'February', 'March'],\n",
    "#       rotation=20)  # Set text labels and properties.\n",
    "plt.xlabel('Days')\n",
    "#plt.title('Example of Battery Charge Cycle')\n",
    "plt.show()"
   ]
  },
  {
   "cell_type": "code",
   "execution_count": 18,
   "metadata": {},
   "outputs": [
    {
     "data": {
      "text/html": [
       "<div>\n",
       "<style scoped>\n",
       "    .dataframe tbody tr th:only-of-type {\n",
       "        vertical-align: middle;\n",
       "    }\n",
       "\n",
       "    .dataframe tbody tr th {\n",
       "        vertical-align: top;\n",
       "    }\n",
       "\n",
       "    .dataframe thead th {\n",
       "        text-align: right;\n",
       "    }\n",
       "</style>\n",
       "<table border=\"1\" class=\"dataframe\">\n",
       "  <thead>\n",
       "    <tr style=\"text-align: right;\">\n",
       "      <th></th>\n",
       "      <th>num_of_alive</th>\n",
       "      <th>num_of_charging</th>\n",
       "    </tr>\n",
       "  </thead>\n",
       "  <tbody>\n",
       "    <tr>\n",
       "      <th>20155</th>\n",
       "      <td>20</td>\n",
       "      <td>1</td>\n",
       "    </tr>\n",
       "    <tr>\n",
       "      <th>20156</th>\n",
       "      <td>20</td>\n",
       "      <td>1</td>\n",
       "    </tr>\n",
       "    <tr>\n",
       "      <th>20157</th>\n",
       "      <td>20</td>\n",
       "      <td>1</td>\n",
       "    </tr>\n",
       "    <tr>\n",
       "      <th>20158</th>\n",
       "      <td>20</td>\n",
       "      <td>1</td>\n",
       "    </tr>\n",
       "    <tr>\n",
       "      <th>20159</th>\n",
       "      <td>20</td>\n",
       "      <td>1</td>\n",
       "    </tr>\n",
       "  </tbody>\n",
       "</table>\n",
       "</div>"
      ],
      "text/plain": [
       "       num_of_alive  num_of_charging\n",
       "20155            20                1\n",
       "20156            20                1\n",
       "20157            20                1\n",
       "20158            20                1\n",
       "20159            20                1"
      ]
     },
     "execution_count": 18,
     "metadata": {},
     "output_type": "execute_result"
    }
   ],
   "source": [
    "model_data = model.datacollector.get_model_vars_dataframe()\n",
    "model_data.tail()"
   ]
  },
  {
   "cell_type": "code",
   "execution_count": 19,
   "metadata": {},
   "outputs": [
    {
     "data": {
      "image/png": "[encoded data removed]",
      "text/plain": [
       "<Figure size 432x288 with 1 Axes>"
      ]
     },
     "metadata": {
      "needs_background": "light"
     },
     "output_type": "display_data"
    }
   ],
   "source": [
    "plt.plot(model_data[\"num_of_alive\"])\n",
    "plt.ylim([0,num_of_motorist + 1])\n",
    "plt.ylabel(\"Alive agents\")\n",
    "plt.xlabel(\"Steps\")\n",
    "plt.xlim(0,num_of_step)\n",
    "for i in range(1,days):\n",
    "    plt.axvline(x = 1440*i, color = 'r', linestyle='--', label = 'axvline - full height')\n",
    "plt.legend(['Number of Total Alive Agent','Days'])\n",
    "locs, labels = plt.xticks()  # Get the current locations and labels.\n",
    "plt.xticks(np.arange(0, days*1440, step=1440))  # Set label locations.\n",
    "plt.xticks(np.arange(days)*1440, np.arange(0,days))  # Set text labels.\n",
    "#plt.xticks([0, 1, 2], ['January', 'February', 'March'],\n",
    "#       rotation=20)  # Set text labels and properties.\n",
    "plt.xlabel('Days')\n",
    "#plt.title('Number of Total Alive Agent')\n",
    "plt.show()"
   ]
  },
  {
   "cell_type": "code",
   "execution_count": 20,
   "metadata": {},
   "outputs": [
    {
     "data": {
      "image/png": "[encoded data removed]",
      "text/plain": [
       "<Figure size 432x288 with 1 Axes>"
      ]
     },
     "metadata": {
      "needs_background": "light"
     },
     "output_type": "display_data"
    }
   ],
   "source": [
    "plt.plot(model_data[\"num_of_charging\"])\n",
    "plt.ylim([0,model.num_of_stations*model.cp_size +1])\n",
    "plt.ylabel(\"Charging batteries\")\n",
    "plt.xlabel(\"Steps\")\n",
    "plt.xlim(0,num_of_step)\n",
    "for i in range(1,days):\n",
    "    plt.axvline(x = 1440*i, color = 'r', linestyle='--', label = 'axvline - full height')\n",
    "plt.legend(['Number of Charged Battery','Days'])\n",
    "locs, labels = plt.xticks()  # Get the current locations and labels.\n",
    "plt.xticks(np.arange(0, days*1440, step=1440))  # Set label locations.\n",
    "plt.xticks(np.arange(days)*1440, np.arange(0,days))  # Set text labels.\n",
    "#plt.xticks([0, 1, 2], ['January', 'February', 'March'],\n",
    "#       rotation=20)  # Set text labels and properties.\n",
    "plt.xlabel('Days')\n",
    "#plt.title('Number of Total Alive Agent')\n",
    "plt.show()"
   ]
  },
  {
   "cell_type": "code",
   "execution_count": 21,
   "metadata": {},
   "outputs": [
    {
     "name": "stdout",
     "output_type": "stream",
     "text": [
      "440954\n"
     ]
    }
   ],
   "source": [
    "#dapetin semua motor\n",
    "motorist_id = []\n",
    "for mot in model.motorists:\n",
    "    motorist_id.append(mot.unique_id)\n",
    "\n",
    "#ID motor pertama dan terakhir\n",
    "first_motor = min(motorist_id)\n",
    "last_motor = max(motorist_id)\n",
    "\n",
    "#Ambil data motor doang\n",
    "motorist_data = agent_data.loc[(agent_data.index.get_level_values('AgentID')>=first_motor) & (agent_data.index.get_level_values('AgentID') <=last_motor)]\n",
    "\n",
    "\n",
    "motorist_alive_position = motorist_data.loc[motorist_data['Alive'] == True][\"Position\"]\n",
    "motorist_alive_position.tail()\n",
    "\n",
    "#print jumlah baris\n",
    "print(len(motorist_alive_position.index))"
   ]
  },
  {
   "cell_type": "code",
   "execution_count": 22,
   "metadata": {},
   "outputs": [
    {
     "name": "stdout",
     "output_type": "stream",
     "text": [
      "440954\n"
     ]
    }
   ],
   "source": [
    "array_alive_positions = motorist_alive_position.tolist()\n",
    "print(len(array_alive_positions))"
   ]
  },
  {
   "cell_type": "code",
   "execution_count": 23,
   "metadata": {},
   "outputs": [
    {
     "data": {
      "image/png": "[encoded data removed]",
      "text/plain": [
       "<Figure size 432x288 with 2 Axes>"
      ]
     },
     "metadata": {
      "needs_background": "light"
     },
     "output_type": "display_data"
    }
   ],
   "source": [
    "heatmap_data = np.zeros((model.grid.width, model.grid.height))\n",
    "for coor in array_alive_positions:\n",
    "    x,y = coor\n",
    "    heatmap_data[x,y] +=1\n",
    "\n",
    "most_frequent = np.amax(heatmap_data)\n",
    "norm_heatmap_data = heatmap_data/most_frequent\n",
    "\n",
    "ax = sns.heatmap(norm_heatmap_data)\n",
    "ax.invert_yaxis()\n",
    "plt.axis('equal')\n",
    "ax.axes.xaxis.set_ticklabels([])\n",
    "ax.axes.yaxis.set_ticklabels([])\n",
    "plt.tick_params(left = False, bottom = False)\n",
    "#ax.set_xlabel('x')\n",
    "#ax.set_ylabel('y')   "
   ]
  },
  {
   "cell_type": "markdown",
   "metadata": {},
   "source": [
    "# Heat_map"
   ]
  },
  {
   "cell_type": "code",
   "execution_count": 39,
   "metadata": {},
   "outputs": [
    {
     "data": {
      "image/png": "[encoded data removed]",
      "text/plain": [
       "<Figure size 432x288 with 2 Axes>"
      ]
     },
     "metadata": {
      "needs_background": "light"
     },
     "output_type": "display_data"
    }
   ],
   "source": [
    "heatmap_data = np.zeros((model.grid.width, model.grid.height))\n",
    "for coor in array_alive_positions:\n",
    "    x,y = coor\n",
    "    heatmap_data[x,y] +=1\n",
    "\n",
    "most_frequent = np.amax(heatmap_data)\n",
    "norm_heatmap_data = heatmap_data/most_frequent\n",
    "\n",
    "ax = sns.heatmap(norm_heatmap_data)\n",
    "ax.invert_yaxis()\n",
    "plt.axis('equal')\n",
    "ax.axes.xaxis.set_ticklabels([])\n",
    "ax.axes.yaxis.set_ticklabels([])\n",
    "plt.tick_params(left = False, bottom = False)\n",
    "#ax.set_xlabel('x')\n",
    "#ax.set_ylabel('y')   "
   ]
  },
  {
   "cell_type": "markdown",
   "metadata": {},
   "source": [
    "# Boxplot"
   ]
  },
  {
   "cell_type": "code",
   "execution_count": null,
   "metadata": {},
   "outputs": [],
   "source": [
    "sengaja-error"
   ]
  },
  {
   "cell_type": "code",
   "execution_count": 34,
   "metadata": {},
   "outputs": [
    {
     "name": "stdout",
     "output_type": "stream",
     "text": [
      "4\n",
      "4\n",
      "4\n",
      "4\n",
      "4\n",
      "4\n",
      "4\n",
      "4\n",
      "4\n",
      "4\n",
      "4\n",
      "4\n",
      "4\n",
      "4\n",
      "4\n",
      "4\n",
      "4\n",
      "4\n",
      "4\n",
      "4\n",
      "9\n",
      "9\n",
      "9\n",
      "9\n",
      "9\n",
      "9\n",
      "9\n",
      "9\n",
      "9\n",
      "9\n",
      "9\n",
      "9\n",
      "9\n",
      "9\n",
      "9\n",
      "9\n",
      "9\n",
      "9\n",
      "9\n",
      "9\n",
      "16\n",
      "16\n",
      "16\n",
      "16\n",
      "16\n",
      "16\n",
      "16\n",
      "16\n",
      "16\n",
      "16\n",
      "16\n",
      "16\n",
      "16\n",
      "16\n",
      "16\n",
      "16\n",
      "16\n",
      "16\n",
      "16\n",
      "16\n"
     ]
    }
   ],
   "source": [
    "map_width = 50\n",
    "map_height = 50\n",
    "moore = False\n",
    "num_of_motorist = 50\n",
    "ratio = 3 \n",
    "inv_size = ratio\n",
    "cp_size = int(np.ceil(inv_size/ratio))\n",
    "config_ = ['less','normal','more']\n",
    "days = 14\n",
    "num_of_step = days*24*60\n",
    "#num_of_step = 100\n",
    "df_ = {\n",
    "    'moore' : [],\n",
    "    'num_alive' : [[],[],[]]\n",
    "}\n",
    "\n",
    "for i in range(len(config_)):\n",
    "    df_['moore'].append(config_[i])\n",
    "    for j in range(10):\n",
    "        model = switching_model(num_of_motorist=50,num_of_stations=10,inv_size=inv_size,cp_size= cp_size,width=map_width,height=map_height,moore=moore, configuration=config_[i], demand = demand)\n",
    "\n",
    "        for k in range(num_of_step):\n",
    "            model.step()\n",
    "            \n",
    "        model_data = model.datacollector.get_model_vars_dataframe()\n",
    "        df_['num_alive'][i].append(model_data[\"num_of_alive\"].iloc[-1])"
   ]
  },
  {
   "cell_type": "code",
   "execution_count": 36,
   "metadata": {},
   "outputs": [],
   "source": [
    "import pandas as pd \n",
    "box_ = pd.DataFrame(columns = config_)\n",
    "for i in range(len(config_)):\n",
    "    box_[config_[i]] = df_['num_alive'][i]"
   ]
  },
  {
   "cell_type": "code",
   "execution_count": 38,
   "metadata": {},
   "outputs": [
    {
     "data": {
      "text/plain": [
       "<AxesSubplot:>"
      ]
     },
     "execution_count": 38,
     "metadata": {},
     "output_type": "execute_result"
    },
    {
     "data": {
      "image/png": "[encoded data removed]",
      "text/plain": [
       "<Figure size 432x288 with 1 Axes>"
      ]
     },
     "metadata": {
      "needs_background": "light"
     },
     "output_type": "display_data"
    }
   ],
   "source": [
    "box_.boxplot()"
   ]
  }
 ],
 "metadata": {
  "kernelspec": {
   "display_name": "Python 3.8.12 ('base')",
   "language": "python",
   "name": "python3"
  },
  "language_info": {
   "codemirror_mode": {
    "name": "ipython",
    "version": 3
   },
   "file_extension": ".py",
   "mimetype": "text/x-python",
   "name": "python",
   "nbconvert_exporter": "python",
   "pygments_lexer": "ipython3",
   "version": "3.8.12"
  },
  "orig_nbformat": 4,
  "vscode": {
   "interpreter": {
    "hash": "a063a9d6d4095dba70f7d4a438ef288e94ffec589b0525f5b20de998ec61033a"
   }
  }
 },
 "nbformat": 4,
 "nbformat_minor": 2
}
