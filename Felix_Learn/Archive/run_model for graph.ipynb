{
 "cells": [
  {
   "cell_type": "code",
   "execution_count": 1,
   "metadata": {},
   "outputs": [
    {
     "name": "stderr",
     "output_type": "stream",
     "text": [
      "c:\\Users\\leona\\anaconda3\\lib\\site-packages\\numpy\\_distributor_init.py:30: UserWarning: loaded more than 1 DLL from .libs:\n",
      "c:\\Users\\leona\\anaconda3\\lib\\site-packages\\numpy\\.libs\\libopenblas.PYQHXLVVQ7VESDPUVUADXEVJOBGHJPAY.gfortran-win_amd64.dll\n",
      "c:\\Users\\leona\\anaconda3\\lib\\site-packages\\numpy\\.libs\\libopenblas.XWYDX2IKJW2NMTWSFYNGFUWKQU3LYTCZ.gfortran-win_amd64.dll\n",
      "  warnings.warn(\"loaded more than 1 DLL from .libs:\"\n",
      "<frozen importlib._bootstrap>:219: RuntimeWarning: scipy._lib.messagestream.MessageStream size changed, may indicate binary incompatibility. Expected 56 from C header, got 64 from PyObject\n"
     ]
    },
    {
     "name": "stdout",
     "output_type": "stream",
     "text": [
      "24\n",
      "24\n"
     ]
    },
    {
     "data": {
      "image/png": "[encoded data removed]",
      "text/plain": [
       "<Figure size 432x288 with 1 Axes>"
      ]
     },
     "metadata": {
      "needs_background": "light"
     },
     "output_type": "display_data"
    }
   ],
   "source": [
    "from model_lomba import *\n",
    "import matplotlib.pyplot as plt\n",
    "import seaborn as sns\n",
    "\n",
    "demand = [0.2,0.3,0.5,0.65,0.8,0.9,1.0,1.0,1.0,1.0,1.0,1.0,0.9,0.8,0.65,0.45,0.3,0.2,0.1,0.1,0.1,0.1,0.1,0.1]\n",
    "hour = [\"06:00\",\"07:00\",\"08:00\",\"09:00\",\"10:00\",\"11:00\",\"12:00\",\"13:00\",\"14:00\",\"15:00\",\"16:00\",\"17:00\",\"18:00\",\"19:00\",\"20:00\",\"21:00\",\"22:00\",\"23:00\",\"00:00\",\"01:00\",\"02:00\",\"03:00\",\"04:00\",\"05:00\"]\n",
    "print(len(demand))\n",
    "print(len(hour))\n",
    "\n",
    "plt.plot(hour,demand)\n",
    "plt.xticks(rotation = 'vertical')\n",
    "plt.xlabel('Time')\n",
    "plt.ylabel('Probability distribution')\n",
    "plt.title(\"Driver's Peak Time\")\n",
    "#plt.axvline(x = 4, color = 'r', linestyle='--', label = 'axvline - full height')\n",
    "#plt.axvline(x = 12, color = 'r', linestyle='--', label = 'axvline - full height')\n",
    "plt.ylim([0.0,1.1])\n",
    "plt.tight_layout()\n",
    "plt.savefig('Prob-dist-ppt.png', format = 'png' )\n",
    "plt.show()"
   ]
  },
  {
   "attachments": {},
   "cell_type": "markdown",
   "metadata": {},
   "source": [
    "Less : ratio (cp : inventory) 1:3 charging size = 6; inv size = 19 (40-45 seems like)  \n",
    "Normal : ratio (cp : inventory) 1:3 charging size = 3; inv size = 9 (40-45 seems like)  \n",
    "More : ratio (cp : inventory) 1:3 charging size = 2; inv size = 5 (40-45 seems like)"
   ]
  },
  {
   "cell_type": "code",
   "execution_count": 2,
   "metadata": {},
   "outputs": [
    {
     "name": "stdout",
     "output_type": "stream",
     "text": [
      "inventory 17\n",
      "4\n",
      "4\n",
      "42\n",
      "inventory 18\n",
      "4\n",
      "4\n",
      "40\n",
      "inventory 19\n",
      "4\n",
      "4\n",
      "49\n",
      "inventory 19  pengurangan cp 1\n",
      "4\n",
      "4\n",
      "39\n"
     ]
    }
   ],
   "source": [
    "map_width = 50\n",
    "map_height = 50\n",
    "moore = False\n",
    "num_of_motorist = 50\n",
    "ratio = 3\n",
    "\n",
    "#Dalam menit\n",
    "days = 14\n",
    "num_of_step = days*24*60\n",
    "#num_of_step = 100\n",
    "temp_ = 0\n",
    "n = 16\n",
    "while temp_ < 45 : \n",
    "    n += 1\n",
    "    print('inventory',n)\n",
    "    inv_size = n\n",
    "    cp_size = int(np.ceil(inv_size/ratio))\n",
    "    model = switching_model(num_of_motorist=50,num_of_stations=4,inv_size=inv_size,cp_size= cp_size,width=map_width,height=map_height,moore=moore, configuration=\"less\", demand = demand)\n",
    "\n",
    "    for i in range(num_of_step):\n",
    "        model.step()\n",
    "    model_data = model.datacollector.get_model_vars_dataframe()\n",
    "    temp_ = model_data[\"num_of_alive\"].iloc[-1]\n",
    "    print(temp_)\n",
    "\n",
    "n_ = 0\n",
    "while temp_ > 45:\n",
    "    n_ += 1\n",
    "    print('inventory',n, ' pengurangan cp', n_)\n",
    "    inv_size = n\n",
    "    cp_size = int(np.ceil(inv_size/ratio)) - n_\n",
    "    model = switching_model(num_of_motorist=50,num_of_stations=4,inv_size=inv_size,cp_size= cp_size,width=map_width,height=map_height,moore=moore, configuration=\"less\", demand = demand)\n",
    "\n",
    "    for i in range(num_of_step):\n",
    "        model.step()\n",
    "    model_data = model.datacollector.get_model_vars_dataframe()\n",
    "    temp_ = model_data[\"num_of_alive\"].iloc[-1]\n",
    "    print(temp_)\n"
   ]
  },
  {
   "cell_type": "code",
   "execution_count": 3,
   "metadata": {},
   "outputs": [
    {
     "name": "stdout",
     "output_type": "stream",
     "text": [
      "inventory 6\n",
      "9\n",
      "9\n",
      "27\n",
      "inventory 7\n",
      "9\n",
      "9\n",
      "37\n",
      "inventory 8\n",
      "9\n",
      "9\n",
      "39\n",
      "inventory 9\n",
      "9\n",
      "9\n",
      "46\n",
      "inventory 9  pengurangan cp 1\n",
      "9\n",
      "9\n",
      "30\n"
     ]
    }
   ],
   "source": [
    "map_width = 50\n",
    "map_height = 50\n",
    "moore = False\n",
    "num_of_motorist = 50\n",
    "ratio = 3\n",
    "\n",
    "#Dalam menit\n",
    "days = 14\n",
    "num_of_step = days*24*60\n",
    "#num_of_step = 100\n",
    "temp_ = 0\n",
    "n = 5\n",
    "while temp_ < 45 : \n",
    "    n += 1\n",
    "    print('inventory',n)\n",
    "    inv_size = n\n",
    "    cp_size = int(np.ceil(inv_size/ratio))\n",
    "    model = switching_model(num_of_motorist=50,num_of_stations=4,inv_size=inv_size,cp_size= cp_size,width=map_width,height=map_height,moore=moore, configuration=\"normal\", demand = demand)\n",
    "\n",
    "    for i in range(num_of_step):\n",
    "        model.step()\n",
    "    model_data = model.datacollector.get_model_vars_dataframe()\n",
    "    temp_ = model_data[\"num_of_alive\"].iloc[-1]\n",
    "    print(temp_)\n",
    "\n",
    "n_ = 0\n",
    "while temp_ > 45:\n",
    "    n_ += 1\n",
    "    print('inventory',n, ' pengurangan cp', n_)\n",
    "    inv_size = n\n",
    "    cp_size = int(np.ceil(inv_size/ratio)) - n_\n",
    "    model = switching_model(num_of_motorist=50,num_of_stations=4,inv_size=inv_size,cp_size= cp_size,width=map_width,height=map_height,moore=moore, configuration=\"normal\", demand = demand)\n",
    "\n",
    "    for i in range(num_of_step):\n",
    "        model.step()\n",
    "    model_data = model.datacollector.get_model_vars_dataframe()\n",
    "    temp_ = model_data[\"num_of_alive\"].iloc[-1]\n",
    "    print(temp_)\n"
   ]
  },
  {
   "cell_type": "code",
   "execution_count": 4,
   "metadata": {},
   "outputs": [
    {
     "name": "stdout",
     "output_type": "stream",
     "text": [
      "inventory 5\n",
      "16\n",
      "16\n",
      "46\n",
      "inventory 5  pengurangan cp 1\n",
      "16\n",
      "16\n",
      "26\n"
     ]
    }
   ],
   "source": [
    "map_width = 50\n",
    "map_height = 50\n",
    "moore = False\n",
    "num_of_motorist = 50\n",
    "ratio = 3\n",
    "\n",
    "#Dalam menit\n",
    "days = 14\n",
    "num_of_step = days*24*60\n",
    "#num_of_step = 100\n",
    "temp_ = 0\n",
    "n = 4\n",
    "while temp_ < 45 : \n",
    "    n += 1\n",
    "    print('inventory',n)\n",
    "    inv_size = n\n",
    "    cp_size = int(np.ceil(inv_size/ratio))\n",
    "    model = switching_model(num_of_motorist=50,num_of_stations=4,inv_size=inv_size,cp_size= cp_size,width=map_width,height=map_height,moore=moore, configuration=\"more\", demand = demand)\n",
    "\n",
    "    for i in range(num_of_step):\n",
    "        model.step()\n",
    "    model_data = model.datacollector.get_model_vars_dataframe()\n",
    "    temp_ = model_data[\"num_of_alive\"].iloc[-1]\n",
    "    print(temp_)\n",
    "\n",
    "n_ = 0\n",
    "while temp_ > 45:\n",
    "    n_ += 1\n",
    "    print('inventory',n, ' pengurangan cp', n_)\n",
    "    inv_size = n\n",
    "    cp_size = int(np.ceil(inv_size/ratio)) - n_\n",
    "    model = switching_model(num_of_motorist=50,num_of_stations=4,inv_size=inv_size,cp_size= cp_size,width=map_width,height=map_height,moore=moore, configuration=\"more\", demand = demand)\n",
    "\n",
    "    for i in range(num_of_step):\n",
    "        model.step()\n",
    "    model_data = model.datacollector.get_model_vars_dataframe()\n",
    "    temp_ = model_data[\"num_of_alive\"].iloc[-1]\n",
    "    print(temp_)\n"
   ]
  },
  {
   "cell_type": "code",
   "execution_count": 5,
   "metadata": {},
   "outputs": [],
   "source": [
    "n_ = 0\n",
    "while temp_ > 45:\n",
    "    n_ += 1\n",
    "    print('perkalian ratio',n, ' pengurangan cp', n_)\n",
    "    inv_size = ratio*n\n",
    "    cp_size = int(np.ceil(inv_size/ratio)) - n_\n",
    "    model = switching_model(num_of_motorist=50,num_of_stations=4,inv_size=inv_size,cp_size= cp_size,width=map_width,height=map_height,moore=moore, configuration=\"more\", demand = demand)\n",
    "\n",
    "    for i in range(num_of_step):\n",
    "        model.step()\n",
    "    model_data = model.datacollector.get_model_vars_dataframe()\n",
    "    temp_ = model_data[\"num_of_alive\"].iloc[-1]\n",
    "    print(temp_)"
   ]
  },
  {
   "cell_type": "code",
   "execution_count": 6,
   "metadata": {},
   "outputs": [
    {
     "name": "stdout",
     "output_type": "stream",
     "text": [
      "4\n",
      "4\n"
     ]
    }
   ],
   "source": [
    "map_width = 50\n",
    "map_height = 50\n",
    "moore = False\n",
    "num_of_motorist = 50\n",
    "inv_size = 19\n",
    "cp_size = 6\n",
    "model = switching_model(num_of_motorist=50,num_of_stations=10,inv_size=inv_size,cp_size= cp_size,width=map_width,height=map_height,moore=moore, configuration=\"less\", demand = demand)\n",
    "\n",
    "#Dalam menit\n",
    "days = 14\n",
    "num_of_step = days*24*60\n",
    "#num_of_step = 100\n",
    "for i in range(num_of_step):\n",
    "    model.step()"
   ]
  },
  {
   "cell_type": "code",
   "execution_count": 7,
   "metadata": {},
   "outputs": [
    {
     "data": {
      "text/html": [
       "<div>\n",
       "<style scoped>\n",
       "    .dataframe tbody tr th:only-of-type {\n",
       "        vertical-align: middle;\n",
       "    }\n",
       "\n",
       "    .dataframe tbody tr th {\n",
       "        vertical-align: top;\n",
       "    }\n",
       "\n",
       "    .dataframe thead th {\n",
       "        text-align: right;\n",
       "    }\n",
       "</style>\n",
       "<table border=\"1\" class=\"dataframe\">\n",
       "  <thead>\n",
       "    <tr style=\"text-align: right;\">\n",
       "      <th></th>\n",
       "      <th></th>\n",
       "      <th>Position</th>\n",
       "      <th>Charge</th>\n",
       "      <th>Alive</th>\n",
       "      <th>Full_battery</th>\n",
       "      <th>Empty_battery</th>\n",
       "      <th>CP_full</th>\n",
       "      <th>CP_empty</th>\n",
       "    </tr>\n",
       "    <tr>\n",
       "      <th>Step</th>\n",
       "      <th>AgentID</th>\n",
       "      <th></th>\n",
       "      <th></th>\n",
       "      <th></th>\n",
       "      <th></th>\n",
       "      <th></th>\n",
       "      <th></th>\n",
       "      <th></th>\n",
       "    </tr>\n",
       "  </thead>\n",
       "  <tbody>\n",
       "    <tr>\n",
       "      <th rowspan=\"5\" valign=\"top\">0</th>\n",
       "      <th>0</th>\n",
       "      <td>None</td>\n",
       "      <td>1256.491504</td>\n",
       "      <td>None</td>\n",
       "      <td>NaN</td>\n",
       "      <td>NaN</td>\n",
       "      <td>NaN</td>\n",
       "      <td>NaN</td>\n",
       "    </tr>\n",
       "    <tr>\n",
       "      <th>1</th>\n",
       "      <td>None</td>\n",
       "      <td>1348.232394</td>\n",
       "      <td>None</td>\n",
       "      <td>NaN</td>\n",
       "      <td>NaN</td>\n",
       "      <td>NaN</td>\n",
       "      <td>NaN</td>\n",
       "    </tr>\n",
       "    <tr>\n",
       "      <th>2</th>\n",
       "      <td>None</td>\n",
       "      <td>1696.803127</td>\n",
       "      <td>None</td>\n",
       "      <td>NaN</td>\n",
       "      <td>NaN</td>\n",
       "      <td>NaN</td>\n",
       "      <td>NaN</td>\n",
       "    </tr>\n",
       "    <tr>\n",
       "      <th>3</th>\n",
       "      <td>None</td>\n",
       "      <td>2361.529418</td>\n",
       "      <td>None</td>\n",
       "      <td>NaN</td>\n",
       "      <td>NaN</td>\n",
       "      <td>NaN</td>\n",
       "      <td>NaN</td>\n",
       "    </tr>\n",
       "    <tr>\n",
       "      <th>4</th>\n",
       "      <td>None</td>\n",
       "      <td>339.800682</td>\n",
       "      <td>None</td>\n",
       "      <td>NaN</td>\n",
       "      <td>NaN</td>\n",
       "      <td>NaN</td>\n",
       "      <td>NaN</td>\n",
       "    </tr>\n",
       "  </tbody>\n",
       "</table>\n",
       "</div>"
      ],
      "text/plain": [
       "             Position       Charge Alive  Full_battery  Empty_battery  \\\n",
       "Step AgentID                                                            \n",
       "0    0           None  1256.491504  None           NaN            NaN   \n",
       "     1           None  1348.232394  None           NaN            NaN   \n",
       "     2           None  1696.803127  None           NaN            NaN   \n",
       "     3           None  2361.529418  None           NaN            NaN   \n",
       "     4           None   339.800682  None           NaN            NaN   \n",
       "\n",
       "              CP_full  CP_empty  \n",
       "Step AgentID                     \n",
       "0    0            NaN       NaN  \n",
       "     1            NaN       NaN  \n",
       "     2            NaN       NaN  \n",
       "     3            NaN       NaN  \n",
       "     4            NaN       NaN  "
      ]
     },
     "execution_count": 7,
     "metadata": {},
     "output_type": "execute_result"
    }
   ],
   "source": [
    "#Ambil data agent\n",
    "agent_data = model.datacollector.get_agent_vars_dataframe()\n",
    "agent_data.head()"
   ]
  },
  {
   "cell_type": "code",
   "execution_count": 8,
   "metadata": {},
   "outputs": [
    {
     "data": {
      "text/plain": [
       "AgentID\n",
       "150     True\n",
       "151     True\n",
       "152     True\n",
       "153     True\n",
       "154     True\n",
       "155     True\n",
       "156     True\n",
       "157    False\n",
       "158     True\n",
       "159     True\n",
       "160    False\n",
       "161     True\n",
       "162     True\n",
       "163     True\n",
       "164     True\n",
       "165     True\n",
       "166     True\n",
       "167     True\n",
       "168     True\n",
       "169     True\n",
       "170     True\n",
       "171     True\n",
       "172    False\n",
       "173     True\n",
       "174    False\n",
       "175     True\n",
       "176     True\n",
       "177    False\n",
       "178     True\n",
       "179    False\n",
       "180     True\n",
       "181    False\n",
       "182    False\n",
       "183     True\n",
       "184     True\n",
       "185     True\n",
       "186     True\n",
       "187     True\n",
       "188    False\n",
       "189     True\n",
       "190     True\n",
       "191     True\n",
       "192    False\n",
       "193     True\n",
       "194     True\n",
       "195     True\n",
       "196     True\n",
       "197     True\n",
       "198    False\n",
       "199     True\n",
       "Name: Alive, dtype: object"
      ]
     },
     "execution_count": 8,
     "metadata": {},
     "output_type": "execute_result"
    }
   ],
   "source": [
    "motorist_alive = agent_data.xs(num_of_step-1,level = \"Step\")[\"Alive\"]\n",
    "motorist_id = []\n",
    "for motor in model.motorists:\n",
    "    motorist_id.append(motor.unique_id)\n",
    "motorist_alive[motorist_id]"
   ]
  },
  {
   "cell_type": "code",
   "execution_count": 9,
   "metadata": {},
   "outputs": [
    {
     "name": "stdout",
     "output_type": "stream",
     "text": [
      "AgentID\n",
      "200    (11, 11)\n",
      "201    (11, 36)\n",
      "202    (36, 11)\n",
      "203    (36, 36)\n",
      "Name: Position, dtype: object\n"
     ]
    }
   ],
   "source": [
    "agent_pos = agent_data.xs(0,level = \"Step\")[\"Position\"]\n",
    "station_id = []\n",
    "for stat in model.stations:\n",
    "    station_id.append(stat.unique_id)\n",
    "station_pos = agent_pos[station_id]\n",
    "print(station_pos)"
   ]
  },
  {
   "cell_type": "code",
   "execution_count": 10,
   "metadata": {},
   "outputs": [
    {
     "name": "stdout",
     "output_type": "stream",
     "text": [
      "AgentID\n",
      "200    19.0\n",
      "201    19.0\n",
      "202    19.0\n",
      "203    19.0\n",
      "Name: Full_battery, dtype: float64\n"
     ]
    }
   ],
   "source": [
    "step_station = num_of_step-1\n",
    "#step_station = 0\n",
    "agent_full = agent_data.xs(step_station,level = \"Step\")[\"Full_battery\"]\n",
    "station_id = []\n",
    "for stat in model.stations:\n",
    "    station_id.append(stat.unique_id)\n",
    "station_full = agent_full[station_id]\n",
    "print(station_full)"
   ]
  },
  {
   "cell_type": "code",
   "execution_count": 11,
   "metadata": {},
   "outputs": [
    {
     "name": "stdout",
     "output_type": "stream",
     "text": [
      "AgentID\n",
      "200    0.0\n",
      "201    0.0\n",
      "202    0.0\n",
      "203    0.0\n",
      "Name: Empty_battery, dtype: float64\n"
     ]
    }
   ],
   "source": [
    "agent_empty = agent_data.xs(step_station,level = \"Step\")[\"Empty_battery\"]\n",
    "station_id = []\n",
    "for stat in model.stations:\n",
    "    station_id.append(stat.unique_id)\n",
    "station_empty = agent_empty[station_id]\n",
    "print(station_empty)"
   ]
  },
  {
   "cell_type": "code",
   "execution_count": 12,
   "metadata": {},
   "outputs": [
    {
     "name": "stdout",
     "output_type": "stream",
     "text": [
      "AgentID\n",
      "200    6.0\n",
      "201    6.0\n",
      "202    5.0\n",
      "203    3.0\n",
      "Name: CP_full, dtype: float64\n"
     ]
    }
   ],
   "source": [
    "agent_cp_full = agent_data.xs(step_station,level = \"Step\")[\"CP_full\"]\n",
    "station_id = []\n",
    "for stat in model.stations:\n",
    "    station_id.append(stat.unique_id)\n",
    "station_cp_full = agent_cp_full[station_id]\n",
    "print(station_cp_full)"
   ]
  },
  {
   "cell_type": "code",
   "execution_count": 13,
   "metadata": {},
   "outputs": [
    {
     "name": "stdout",
     "output_type": "stream",
     "text": [
      "AgentID\n",
      "200    0.0\n",
      "201    0.0\n",
      "202    1.0\n",
      "203    3.0\n",
      "Name: CP_empty, dtype: float64\n"
     ]
    }
   ],
   "source": [
    "agent_cp_empty = agent_data.xs(step_station,level = \"Step\")[\"CP_empty\"]\n",
    "station_id = []\n",
    "for stat in model.stations:\n",
    "    station_id.append(stat.unique_id)\n",
    "station_cp_empty = agent_cp_empty[station_id]\n",
    "print(station_cp_empty)"
   ]
  },
  {
   "cell_type": "code",
   "execution_count": 14,
   "metadata": {},
   "outputs": [
    {
     "data": {
      "text/plain": [
       "Step\n",
       "20155    (10, 38)\n",
       "20156    (10, 38)\n",
       "20157    (10, 38)\n",
       "20158    (10, 38)\n",
       "20159    (10, 38)\n",
       "Name: Position, dtype: object"
      ]
     },
     "execution_count": 14,
     "metadata": {},
     "output_type": "execute_result"
    }
   ],
   "source": [
    "#Ambil data motorist\n",
    "driver_num = 0\n",
    "motorist_pos = agent_data.xs(model.motorists[driver_num].unique_id, level = \"AgentID\")[\"Position\"]\n",
    "motorist_pos.head()\n",
    "motorist_pos.tail()"
   ]
  },
  {
   "cell_type": "code",
   "execution_count": 15,
   "metadata": {},
   "outputs": [
    {
     "data": {
      "text/plain": [
       "Text(0, 0.5, 'y')"
      ]
     },
     "execution_count": 15,
     "metadata": {},
     "output_type": "execute_result"
    },
    {
     "data": {
      "image/png": "[encoded data removed]",
      "text/plain": [
       "<Figure size 432x288 with 1 Axes>"
      ]
     },
     "metadata": {
      "needs_background": "light"
     },
     "output_type": "display_data"
    }
   ],
   "source": [
    "#Coba plot posisi\n",
    "x_coor = []\n",
    "y_coor = []\n",
    "for coor in motorist_pos:\n",
    "    x_coor.append(coor[0])\n",
    "    y_coor.append(coor[1])\n",
    "\n",
    "\n",
    "\n",
    "plt.plot(x_coor,y_coor)\n",
    "for i in range(model.num_of_stations):\n",
    "    plt.plot(model.stations[i].pos[0],model.stations[i].pos[1],color = \"red\", marker = 'o')\n",
    "plt.xlim([0,map_width])\n",
    "plt.ylim([0,map_height])\n",
    "plt.title('Posisi driver ' + str(driver_num))\n",
    "plt.axis('scaled')\n",
    "plt.xlabel('x')\n",
    "plt.ylabel('y')"
   ]
  },
  {
   "cell_type": "code",
   "execution_count": 16,
   "metadata": {},
   "outputs": [
    {
     "data": {
      "image/png": "[encoded data removed]",
      "text/plain": [
       "<Figure size 432x288 with 1 Axes>"
      ]
     },
     "metadata": {
      "needs_background": "light"
     },
     "output_type": "display_data"
    }
   ],
   "source": [
    "#Cek baterai\n",
    "battery_id = 8\n",
    "battery_energy = agent_data.xs(battery_id, level = \"AgentID\")[\"Charge\"]\n",
    "battery_energy.plot()\n",
    "plt.xlim(0,num_of_step)\n",
    "plt.ylim(0,2700)\n",
    "for i in range(1,days):\n",
    "    plt.axvline(x = 1440*i, color = 'r', linestyle='--', label = 'axvline - full height')\n",
    "plt.legend(['Battery Capacity','Days'])\n",
    "locs, labels = plt.xticks()  # Get the current locations and labels.\n",
    "plt.xticks(np.arange(0, days*1440, step=1440))  # Set label locations.\n",
    "plt.xticks(np.arange(days)*1440, np.arange(0,days))  # Set text labels.\n",
    "#plt.xticks([0, 1, 2], ['January', 'February', 'March'],\n",
    "#       rotation=20)  # Set text labels and properties.\n",
    "plt.xlabel('Days')\n",
    "#plt.title('Example of Battery Charge Cycle')\n",
    "plt.show()"
   ]
  },
  {
   "cell_type": "code",
   "execution_count": 17,
   "metadata": {},
   "outputs": [
    {
     "data": {
      "text/html": [
       "<div>\n",
       "<style scoped>\n",
       "    .dataframe tbody tr th:only-of-type {\n",
       "        vertical-align: middle;\n",
       "    }\n",
       "\n",
       "    .dataframe tbody tr th {\n",
       "        vertical-align: top;\n",
       "    }\n",
       "\n",
       "    .dataframe thead th {\n",
       "        text-align: right;\n",
       "    }\n",
       "</style>\n",
       "<table border=\"1\" class=\"dataframe\">\n",
       "  <thead>\n",
       "    <tr style=\"text-align: right;\">\n",
       "      <th></th>\n",
       "      <th>num_of_alive</th>\n",
       "      <th>num_of_charging</th>\n",
       "    </tr>\n",
       "  </thead>\n",
       "  <tbody>\n",
       "    <tr>\n",
       "      <th>20155</th>\n",
       "      <td>39</td>\n",
       "      <td>3</td>\n",
       "    </tr>\n",
       "    <tr>\n",
       "      <th>20156</th>\n",
       "      <td>39</td>\n",
       "      <td>3</td>\n",
       "    </tr>\n",
       "    <tr>\n",
       "      <th>20157</th>\n",
       "      <td>39</td>\n",
       "      <td>3</td>\n",
       "    </tr>\n",
       "    <tr>\n",
       "      <th>20158</th>\n",
       "      <td>39</td>\n",
       "      <td>3</td>\n",
       "    </tr>\n",
       "    <tr>\n",
       "      <th>20159</th>\n",
       "      <td>39</td>\n",
       "      <td>4</td>\n",
       "    </tr>\n",
       "  </tbody>\n",
       "</table>\n",
       "</div>"
      ],
      "text/plain": [
       "       num_of_alive  num_of_charging\n",
       "20155            39                3\n",
       "20156            39                3\n",
       "20157            39                3\n",
       "20158            39                3\n",
       "20159            39                4"
      ]
     },
     "execution_count": 17,
     "metadata": {},
     "output_type": "execute_result"
    }
   ],
   "source": [
    "model_data = model.datacollector.get_model_vars_dataframe()\n",
    "model_data.tail()"
   ]
  },
  {
   "cell_type": "code",
   "execution_count": 18,
   "metadata": {},
   "outputs": [
    {
     "data": {
      "image/png": "[encoded data removed]",
      "text/plain": [
       "<Figure size 432x288 with 1 Axes>"
      ]
     },
     "metadata": {
      "needs_background": "light"
     },
     "output_type": "display_data"
    }
   ],
   "source": [
    "plt.plot(model_data[\"num_of_alive\"])\n",
    "plt.ylim([0,num_of_motorist + 1])\n",
    "plt.ylabel(\"Alive agents\")\n",
    "plt.xlabel(\"Steps\")\n",
    "plt.xlim(0,num_of_step)\n",
    "for i in range(1,days):\n",
    "    plt.axvline(x = 1440*i, color = 'r', linestyle='--', label = 'axvline - full height')\n",
    "plt.legend(['Number of Total Alive Agent','Days'])\n",
    "locs, labels = plt.xticks()  # Get the current locations and labels.\n",
    "plt.xticks(np.arange(0, days*1440, step=1440))  # Set label locations.\n",
    "plt.xticks(np.arange(days)*1440, np.arange(0,days))  # Set text labels.\n",
    "#plt.xticks([0, 1, 2], ['January', 'February', 'March'],\n",
    "#       rotation=20)  # Set text labels and properties.\n",
    "plt.xlabel('Days')\n",
    "#plt.title('Number of Total Alive Agent')\n",
    "plt.show()"
   ]
  },
  {
   "cell_type": "code",
   "execution_count": 19,
   "metadata": {},
   "outputs": [
    {
     "data": {
      "image/png": "[encoded data removed]",
      "text/plain": [
       "<Figure size 432x288 with 1 Axes>"
      ]
     },
     "metadata": {
      "needs_background": "light"
     },
     "output_type": "display_data"
    }
   ],
   "source": [
    "plt.plot(model_data[\"num_of_charging\"])\n",
    "plt.ylim([0,model.num_of_stations*model.cp_size +1])\n",
    "plt.ylabel(\"Charging batteries\")\n",
    "plt.xlabel(\"Steps\")\n",
    "plt.xlim(0,num_of_step)\n",
    "for i in range(1,days):\n",
    "    plt.axvline(x = 1440*i, color = 'r', linestyle='--', label = 'axvline - full height')\n",
    "plt.legend(['Number of Charged Battery','Days'])\n",
    "locs, labels = plt.xticks()  # Get the current locations and labels.\n",
    "plt.xticks(np.arange(0, days*1440, step=1440))  # Set label locations.\n",
    "plt.xticks(np.arange(days)*1440, np.arange(0,days))  # Set text labels.\n",
    "#plt.xticks([0, 1, 2], ['January', 'February', 'March'],\n",
    "#       rotation=20)  # Set text labels and properties.\n",
    "plt.xlabel('Days')\n",
    "#plt.title('Number of Total Alive Agent')\n",
    "plt.show()"
   ]
  },
  {
   "cell_type": "code",
   "execution_count": 20,
   "metadata": {},
   "outputs": [
    {
     "name": "stdout",
     "output_type": "stream",
     "text": [
      "864665\n"
     ]
    }
   ],
   "source": [
    "#dapetin semua motor\n",
    "motorist_id = []\n",
    "for mot in model.motorists:\n",
    "    motorist_id.append(mot.unique_id)\n",
    "\n",
    "#ID motor pertama dan terakhir\n",
    "first_motor = min(motorist_id)\n",
    "last_motor = max(motorist_id)\n",
    "\n",
    "#Ambil data motor doang\n",
    "motorist_data = agent_data.loc[(agent_data.index.get_level_values('AgentID')>=first_motor) & (agent_data.index.get_level_values('AgentID') <=last_motor)]\n",
    "\n",
    "\n",
    "motorist_alive_position = motorist_data.loc[motorist_data['Alive'] == True][\"Position\"]\n",
    "motorist_alive_position.tail()\n",
    "\n",
    "#print jumlah baris\n",
    "print(len(motorist_alive_position.index))"
   ]
  },
  {
   "cell_type": "code",
   "execution_count": 21,
   "metadata": {},
   "outputs": [
    {
     "name": "stdout",
     "output_type": "stream",
     "text": [
      "864665\n"
     ]
    }
   ],
   "source": [
    "array_alive_positions = motorist_alive_position.tolist()\n",
    "print(len(array_alive_positions))"
   ]
  },
  {
   "cell_type": "code",
   "execution_count": 22,
   "metadata": {},
   "outputs": [
    {
     "data": {
      "image/png": "[encoded data removed]",
      "text/plain": [
       "<Figure size 432x288 with 2 Axes>"
      ]
     },
     "metadata": {
      "needs_background": "light"
     },
     "output_type": "display_data"
    }
   ],
   "source": [
    "heatmap_data = np.zeros((model.grid.width, model.grid.height))\n",
    "for coor in array_alive_positions:\n",
    "    x,y = coor\n",
    "    heatmap_data[x,y] +=1\n",
    "\n",
    "most_frequent = np.amax(heatmap_data)\n",
    "norm_heatmap_data = heatmap_data/most_frequent\n",
    "\n",
    "ax = sns.heatmap(norm_heatmap_data)\n",
    "ax.invert_yaxis()\n",
    "plt.axis('equal')\n",
    "ax.axes.xaxis.set_ticklabels([])\n",
    "ax.axes.yaxis.set_ticklabels([])\n",
    "plt.tick_params(left = False, bottom = False)\n",
    "#ax.set_xlabel('x')\n",
    "#ax.set_ylabel('y')   "
   ]
  },
  {
   "attachments": {},
   "cell_type": "markdown",
   "metadata": {},
   "source": [
    "# Heat_map"
   ]
  },
  {
   "cell_type": "code",
   "execution_count": 23,
   "metadata": {},
   "outputs": [
    {
     "data": {
      "image/png": "[encoded data removed]",
      "text/plain": [
       "<Figure size 432x288 with 2 Axes>"
      ]
     },
     "metadata": {
      "needs_background": "light"
     },
     "output_type": "display_data"
    }
   ],
   "source": [
    "heatmap_data = np.zeros((model.grid.width, model.grid.height))\n",
    "for coor in array_alive_positions:\n",
    "    x,y = coor\n",
    "    heatmap_data[x,y] +=1\n",
    "\n",
    "most_frequent = np.amax(heatmap_data)\n",
    "norm_heatmap_data = heatmap_data/most_frequent\n",
    "\n",
    "ax = sns.heatmap(norm_heatmap_data)\n",
    "ax.invert_yaxis()\n",
    "plt.axis('equal')\n",
    "ax.axes.xaxis.set_ticklabels([])\n",
    "ax.axes.yaxis.set_ticklabels([])\n",
    "plt.tick_params(left = False, bottom = False)\n",
    "#ax.set_xlabel('x')\n",
    "#ax.set_ylabel('y')   "
   ]
  },
  {
   "attachments": {},
   "cell_type": "markdown",
   "metadata": {},
   "source": [
    "# Boxplot"
   ]
  },
  {
   "cell_type": "code",
   "execution_count": 24,
   "metadata": {},
   "outputs": [
    {
     "ename": "NameError",
     "evalue": "name 'sengaja' is not defined",
     "output_type": "error",
     "traceback": [
      "\u001b[1;31m---------------------------------------------------------------------------\u001b[0m",
      "\u001b[1;31mNameError\u001b[0m                                 Traceback (most recent call last)",
      "\u001b[1;32m~\\AppData\\Local\\Temp/ipykernel_9900/3049762857.py\u001b[0m in \u001b[0;36m<module>\u001b[1;34m\u001b[0m\n\u001b[1;32m----> 1\u001b[1;33m \u001b[0msengaja\u001b[0m\u001b[1;33m-\u001b[0m\u001b[0merror\u001b[0m\u001b[1;33m\u001b[0m\u001b[1;33m\u001b[0m\u001b[0m\n\u001b[0m",
      "\u001b[1;31mNameError\u001b[0m: name 'sengaja' is not defined"
     ]
    }
   ],
   "source": [
    "sengaja-error"
   ]
  },
  {
   "cell_type": "code",
   "execution_count": null,
   "metadata": {},
   "outputs": [
    {
     "name": "stdout",
     "output_type": "stream",
     "text": [
      "4\n",
      "4\n",
      "4\n",
      "4\n",
      "4\n",
      "4\n",
      "4\n",
      "4\n",
      "4\n",
      "4\n",
      "4\n",
      "4\n",
      "4\n",
      "4\n",
      "4\n",
      "4\n",
      "4\n",
      "4\n",
      "4\n",
      "4\n",
      "9\n",
      "9\n",
      "9\n",
      "9\n",
      "9\n",
      "9\n",
      "9\n",
      "9\n",
      "9\n",
      "9\n",
      "9\n",
      "9\n",
      "9\n",
      "9\n",
      "9\n",
      "9\n",
      "9\n",
      "9\n",
      "9\n",
      "9\n",
      "16\n",
      "16\n",
      "16\n",
      "16\n",
      "16\n",
      "16\n",
      "16\n",
      "16\n",
      "16\n",
      "16\n",
      "16\n",
      "16\n",
      "16\n",
      "16\n",
      "16\n",
      "16\n",
      "16\n",
      "16\n",
      "16\n",
      "16\n"
     ]
    }
   ],
   "source": [
    "map_width = 50\n",
    "map_height = 50\n",
    "moore = False\n",
    "num_of_motorist = 50\n",
    "ratio = 3 \n",
    "inv_size = [24, 12 , 8]\n",
    "cp_size = [6 , 3, 2]\n",
    "config_ = ['less','normal','more']\n",
    "days = 14\n",
    "num_of_step = days*24*60\n",
    "#num_of_step = 100\n",
    "df_ = {\n",
    "    'moore' : [],\n",
    "    'num_alive' : [[],[],[]]\n",
    "}\n",
    "\n",
    "for i in range(len(config_)):\n",
    "    df_['moore'].append(config_[i])\n",
    "    for j in range(10):\n",
    "        model = switching_model(num_of_motorist=50,num_of_stations=10,\n",
    "        inv_size=inv_size[i],\n",
    "        cp_size= cp_size[i],\n",
    "        width=map_width,height=map_height,moore=moore, configuration=config_[i], demand = demand)\n",
    "\n",
    "        for k in range(num_of_step):\n",
    "            model.step()\n",
    "            \n",
    "        model_data = model.datacollector.get_model_vars_dataframe()\n",
    "        df_['num_alive'][i].append(model_data[\"num_of_alive\"].iloc[-1])"
   ]
  },
  {
   "cell_type": "code",
   "execution_count": null,
   "metadata": {},
   "outputs": [],
   "source": [
    "import pandas as pd \n",
    "box_t = pd.DataFrame(columns = config_)\n",
    "for i in range(len(config_)):\n",
    "    box_t[config_[i]] = df_['num_alive'][i]"
   ]
  },
  {
   "cell_type": "code",
   "execution_count": null,
   "metadata": {},
   "outputs": [
    {
     "name": "stdout",
     "output_type": "stream",
     "text": [
      "4\n",
      "4\n",
      "4\n",
      "4\n",
      "4\n",
      "4\n",
      "4\n",
      "4\n",
      "4\n",
      "4\n",
      "4\n",
      "4\n",
      "4\n",
      "4\n",
      "4\n",
      "4\n",
      "4\n",
      "4\n",
      "4\n",
      "4\n",
      "9\n",
      "9\n",
      "9\n",
      "9\n",
      "9\n",
      "9\n",
      "9\n",
      "9\n",
      "9\n",
      "9\n",
      "9\n",
      "9\n",
      "9\n",
      "9\n",
      "9\n",
      "9\n",
      "9\n",
      "9\n",
      "9\n",
      "9\n",
      "16\n",
      "16\n",
      "16\n",
      "16\n",
      "16\n",
      "16\n",
      "16\n",
      "16\n",
      "16\n",
      "16\n",
      "16\n",
      "16\n",
      "16\n",
      "16\n",
      "16\n",
      "16\n",
      "16\n",
      "16\n",
      "16\n",
      "16\n"
     ]
    }
   ],
   "source": [
    "map_width = 50\n",
    "map_height = 50\n",
    "moore = False\n",
    "num_of_motorist = 50\n",
    "ratio = 3 \n",
    "inv_size = [19, 9 , 5]\n",
    "cp_size = [6 , 3, 2]\n",
    "config_ = ['less','normal','more']\n",
    "days = 14\n",
    "num_of_step = days*24*60\n",
    "#num_of_step = 100\n",
    "df_ = {\n",
    "    'moore' : [],\n",
    "    'num_alive' : [[],[],[]]\n",
    "}\n",
    "\n",
    "for i in range(len(config_)):\n",
    "    df_['moore'].append(config_[i])\n",
    "    for j in range(10):\n",
    "        model = switching_model(num_of_motorist=50,num_of_stations=10,\n",
    "        inv_size=inv_size[i],\n",
    "        cp_size= cp_size[i],\n",
    "        width=map_width,height=map_height,moore=moore, configuration=config_[i], demand = demand)\n",
    "\n",
    "        for k in range(num_of_step):\n",
    "            model.step()\n",
    "            \n",
    "        model_data = model.datacollector.get_model_vars_dataframe()\n",
    "        df_['num_alive'][i].append(model_data[\"num_of_alive\"].iloc[-1])"
   ]
  },
  {
   "cell_type": "code",
   "execution_count": null,
   "metadata": {},
   "outputs": [],
   "source": [
    "import pandas as pd \n",
    "box_ = pd.DataFrame(columns = config_)\n",
    "for i in range(len(config_)):\n",
    "    box_[config_[i]] = df_['num_alive'][i]"
   ]
  },
  {
   "cell_type": "code",
   "execution_count": null,
   "metadata": {},
   "outputs": [
    {
     "data": {
      "text/html": [
       "<div>\n",
       "<style scoped>\n",
       "    .dataframe tbody tr th:only-of-type {\n",
       "        vertical-align: middle;\n",
       "    }\n",
       "\n",
       "    .dataframe tbody tr th {\n",
       "        vertical-align: top;\n",
       "    }\n",
       "\n",
       "    .dataframe thead th {\n",
       "        text-align: right;\n",
       "    }\n",
       "</style>\n",
       "<table border=\"1\" class=\"dataframe\">\n",
       "  <thead>\n",
       "    <tr style=\"text-align: right;\">\n",
       "      <th></th>\n",
       "      <th>less 19</th>\n",
       "      <th>less 24</th>\n",
       "      <th>normal 9</th>\n",
       "      <th>normal 12</th>\n",
       "      <th>more 5</th>\n",
       "      <th>more 8</th>\n",
       "    </tr>\n",
       "  </thead>\n",
       "  <tbody>\n",
       "    <tr>\n",
       "      <th>0</th>\n",
       "      <td>39</td>\n",
       "      <td>47</td>\n",
       "      <td>45</td>\n",
       "      <td>50</td>\n",
       "      <td>49</td>\n",
       "      <td>50</td>\n",
       "    </tr>\n",
       "    <tr>\n",
       "      <th>1</th>\n",
       "      <td>44</td>\n",
       "      <td>45</td>\n",
       "      <td>46</td>\n",
       "      <td>49</td>\n",
       "      <td>44</td>\n",
       "      <td>50</td>\n",
       "    </tr>\n",
       "    <tr>\n",
       "      <th>2</th>\n",
       "      <td>44</td>\n",
       "      <td>41</td>\n",
       "      <td>47</td>\n",
       "      <td>49</td>\n",
       "      <td>48</td>\n",
       "      <td>50</td>\n",
       "    </tr>\n",
       "    <tr>\n",
       "      <th>3</th>\n",
       "      <td>47</td>\n",
       "      <td>45</td>\n",
       "      <td>42</td>\n",
       "      <td>47</td>\n",
       "      <td>45</td>\n",
       "      <td>50</td>\n",
       "    </tr>\n",
       "    <tr>\n",
       "      <th>4</th>\n",
       "      <td>44</td>\n",
       "      <td>50</td>\n",
       "      <td>43</td>\n",
       "      <td>48</td>\n",
       "      <td>39</td>\n",
       "      <td>50</td>\n",
       "    </tr>\n",
       "    <tr>\n",
       "      <th>5</th>\n",
       "      <td>39</td>\n",
       "      <td>49</td>\n",
       "      <td>43</td>\n",
       "      <td>47</td>\n",
       "      <td>44</td>\n",
       "      <td>50</td>\n",
       "    </tr>\n",
       "    <tr>\n",
       "      <th>6</th>\n",
       "      <td>46</td>\n",
       "      <td>46</td>\n",
       "      <td>45</td>\n",
       "      <td>49</td>\n",
       "      <td>48</td>\n",
       "      <td>50</td>\n",
       "    </tr>\n",
       "    <tr>\n",
       "      <th>7</th>\n",
       "      <td>35</td>\n",
       "      <td>50</td>\n",
       "      <td>41</td>\n",
       "      <td>46</td>\n",
       "      <td>46</td>\n",
       "      <td>50</td>\n",
       "    </tr>\n",
       "    <tr>\n",
       "      <th>8</th>\n",
       "      <td>43</td>\n",
       "      <td>49</td>\n",
       "      <td>39</td>\n",
       "      <td>49</td>\n",
       "      <td>43</td>\n",
       "      <td>50</td>\n",
       "    </tr>\n",
       "    <tr>\n",
       "      <th>9</th>\n",
       "      <td>40</td>\n",
       "      <td>38</td>\n",
       "      <td>39</td>\n",
       "      <td>46</td>\n",
       "      <td>42</td>\n",
       "      <td>50</td>\n",
       "    </tr>\n",
       "  </tbody>\n",
       "</table>\n",
       "</div>"
      ],
      "text/plain": [
       "   less 19  less 24  normal 9  normal 12  more 5  more 8\n",
       "0       39       47        45         50      49      50\n",
       "1       44       45        46         49      44      50\n",
       "2       44       41        47         49      48      50\n",
       "3       47       45        42         47      45      50\n",
       "4       44       50        43         48      39      50\n",
       "5       39       49        43         47      44      50\n",
       "6       46       46        45         49      48      50\n",
       "7       35       50        41         46      46      50\n",
       "8       43       49        39         49      43      50\n",
       "9       40       38        39         46      42      50"
      ]
     },
     "execution_count": 6,
     "metadata": {},
     "output_type": "execute_result"
    }
   ],
   "source": [
    "cpr = pd.DataFrame(columns = ['less 19', 'less 24', 'normal 9', 'normal 12', 'more 5', 'more 8'])\n",
    "cpr['less 19']=box_['less']\n",
    "cpr['less 24']=box_t['less']\n",
    "cpr['normal 9']=box_['normal']\n",
    "cpr['normal 12']=box_t['normal']\n",
    "cpr['more 5']=box_['more']\n",
    "cpr['more 8'] =box_t['more']\n",
    "cpr"
   ]
  },
  {
   "cell_type": "code",
   "execution_count": null,
   "metadata": {},
   "outputs": [
    {
     "data": {
      "image/png": "[encoded data removed]",
      "text/plain": [
       "<Figure size 432x288 with 1 Axes>"
      ]
     },
     "metadata": {
      "needs_background": "light"
     },
     "output_type": "display_data"
    }
   ],
   "source": [
    "cpr[['less 19', 'less 24']].boxplot()\n",
    "plt.xticks([1, 2],['Optimal', 'Extra Inventory'])\n",
    "plt.ylabel('Number of Alive Agents')\n",
    "plt.tight_layout()\n",
    "plt.savefig('box-plot L 19 24.png', format = 'png' )"
   ]
  },
  {
   "cell_type": "code",
   "execution_count": null,
   "metadata": {},
   "outputs": [
    {
     "data": {
      "image/png": "[encoded data removed]",
      "text/plain": [
       "<Figure size 432x288 with 1 Axes>"
      ]
     },
     "metadata": {
      "needs_background": "light"
     },
     "output_type": "display_data"
    }
   ],
   "source": [
    "cpr[['normal 9', 'normal 12']].boxplot()\n",
    "plt.xticks([1, 2],['Optimal', 'Extra Inventory'])\n",
    "plt.ylabel('Number of Alive Agents')\n",
    "plt.tight_layout()\n",
    "plt.savefig('box-plot n 9 12.png', format = 'png' )"
   ]
  },
  {
   "cell_type": "code",
   "execution_count": null,
   "metadata": {},
   "outputs": [
    {
     "data": {
      "image/png": "[encoded data removed]",
      "text/plain": [
       "<Figure size 432x288 with 1 Axes>"
      ]
     },
     "metadata": {
      "needs_background": "light"
     },
     "output_type": "display_data"
    }
   ],
   "source": [
    "cpr[['more 5', 'more 8']].boxplot()\n",
    "plt.xticks([1, 2],['Optimal', 'Extra Inventory'])\n",
    "plt.ylabel('Number of Alive Agents')\n",
    "plt.tight_layout()\n",
    "plt.savefig('box-plot more 5-8.png', format = 'png' )"
   ]
  },
  {
   "cell_type": "code",
   "execution_count": null,
   "metadata": {},
   "outputs": [],
   "source": [
    "inv_size = [24, 12 , 8]\n",
    "cp_size = [6 , 3, 2]"
   ]
  },
  {
   "cell_type": "code",
   "execution_count": null,
   "metadata": {},
   "outputs": [
    {
     "data": {
      "text/plain": [
       "<AxesSubplot:>"
      ]
     },
     "execution_count": 53,
     "metadata": {},
     "output_type": "execute_result"
    },
    {
     "data": {
      "image/png": "[encoded data removed]",
      "text/plain": [
       "<Figure size 432x288 with 1 Axes>"
      ]
     },
     "metadata": {
      "needs_background": "light"
     },
     "output_type": "display_data"
    }
   ],
   "source": [
    "box_.boxplot()"
   ]
  },
  {
   "cell_type": "code",
   "execution_count": null,
   "metadata": {},
   "outputs": [
    {
     "name": "stdout",
     "output_type": "stream",
     "text": [
      "4\n",
      "4\n",
      "4\n",
      "4\n",
      "4\n",
      "4\n",
      "4\n",
      "4\n",
      "4\n",
      "4\n",
      "9\n",
      "9\n",
      "9\n",
      "9\n",
      "9\n",
      "9\n",
      "9\n",
      "9\n",
      "9\n",
      "9\n",
      "16\n",
      "16\n",
      "16\n",
      "16\n",
      "16\n",
      "16\n",
      "16\n",
      "16\n",
      "16\n",
      "16\n"
     ]
    }
   ],
   "source": [
    "map_width = 50\n",
    "map_height = 50\n",
    "moore = False\n",
    "num_of_motorist = 50\n",
    "ratio = 3 \n",
    "inv_size = [19, 9 , 5]\n",
    "cp_size = [6 , 3, 2]\n",
    "config_ = [4,9,16]\n",
    "days = 14\n",
    "num_of_step = days*24*60\n",
    "#num_of_step = 100\n",
    "df_ = {\n",
    "    'moore' : [],\n",
    "    'num_alive' : [[],[],[]]\n",
    "}\n",
    "\n",
    "for i in range(len(config_)):\n",
    "    df_['moore'].append(config_[i])\n",
    "    for j in range(10):\n",
    "        model = switching_model(num_of_motorist=50,num_of_stations=config_[i],\n",
    "        inv_size=inv_size[i],\n",
    "        cp_size= cp_size[i],\n",
    "        width=map_width,height=map_height,moore=moore, configuration=\"random\", demand = demand)\n",
    "\n",
    "        for k in range(num_of_step):\n",
    "            model.step()\n",
    "            \n",
    "        model_data = model.datacollector.get_model_vars_dataframe()\n",
    "        df_['num_alive'][i].append(model_data[\"num_of_alive\"].iloc[-1])"
   ]
  },
  {
   "cell_type": "code",
   "execution_count": null,
   "metadata": {},
   "outputs": [],
   "source": [
    "box_r = pd.DataFrame(columns = config_)\n",
    "for i in range(len(config_)):\n",
    "    box_r[config_[i]] = df_['num_alive'][i]"
   ]
  },
  {
   "cell_type": "code",
   "execution_count": null,
   "metadata": {},
   "outputs": [
    {
     "data": {
      "text/plain": [
       "<AxesSubplot:>"
      ]
     },
     "execution_count": 56,
     "metadata": {},
     "output_type": "execute_result"
    },
    {
     "data": {
      "image/png": "[encoded data removed]",
      "text/plain": [
       "<Figure size 432x288 with 1 Axes>"
      ]
     },
     "metadata": {
      "needs_background": "light"
     },
     "output_type": "display_data"
    }
   ],
   "source": [
    "box_r.boxplot()"
   ]
  },
  {
   "cell_type": "code",
   "execution_count": null,
   "metadata": {},
   "outputs": [
    {
     "data": {
      "text/plain": [
       "<AxesSubplot:>"
      ]
     },
     "execution_count": 57,
     "metadata": {},
     "output_type": "execute_result"
    },
    {
     "data": {
      "image/png": "[encoded data removed]",
      "text/plain": [
       "<Figure size 432x288 with 1 Axes>"
      ]
     },
     "metadata": {
      "needs_background": "light"
     },
     "output_type": "display_data"
    }
   ],
   "source": [
    "all_b = pd.concat([box_, box_r], axis=1)\n",
    "all_b.boxplot()"
   ]
  },
  {
   "cell_type": "code",
   "execution_count": null,
   "metadata": {},
   "outputs": [
    {
     "data": {
      "image/png": "[encoded data removed]",
      "text/plain": [
       "<Figure size 432x288 with 1 Axes>"
      ]
     },
     "metadata": {
      "needs_background": "light"
     },
     "output_type": "display_data"
    }
   ],
   "source": [
    "all_ = pd.DataFrame(columns = ['Less', 'Random 4', 'Normal', 'Random 9','More', 'Random 16'])\n",
    "all_['Less'] = box_['less']\n",
    "all_['Normal'] = box_['normal']\n",
    "all_['More'] = box_['more']\n",
    "all_['Random 4'] = box_r[4]\n",
    "all_['Random 9'] = box_r[9]\n",
    "all_['Random 16'] = box_r[16]\n",
    "all_.boxplot()\n",
    "plt.tight_layout()\n",
    "plt.savefig('box-plot.png', format = 'png' )"
   ]
  },
  {
   "cell_type": "code",
   "execution_count": null,
   "metadata": {},
   "outputs": [
    {
     "data": {
      "text/html": [
       "<div>\n",
       "<style scoped>\n",
       "    .dataframe tbody tr th:only-of-type {\n",
       "        vertical-align: middle;\n",
       "    }\n",
       "\n",
       "    .dataframe tbody tr th {\n",
       "        vertical-align: top;\n",
       "    }\n",
       "\n",
       "    .dataframe thead th {\n",
       "        text-align: right;\n",
       "    }\n",
       "</style>\n",
       "<table border=\"1\" class=\"dataframe\">\n",
       "  <thead>\n",
       "    <tr style=\"text-align: right;\">\n",
       "      <th></th>\n",
       "      <th>Less</th>\n",
       "      <th>Random 4</th>\n",
       "      <th>Normal</th>\n",
       "      <th>Random 9</th>\n",
       "      <th>More</th>\n",
       "      <th>Random 16</th>\n",
       "    </tr>\n",
       "  </thead>\n",
       "  <tbody>\n",
       "    <tr>\n",
       "      <th>0</th>\n",
       "      <td>39</td>\n",
       "      <td>0</td>\n",
       "      <td>45</td>\n",
       "      <td>31</td>\n",
       "      <td>49</td>\n",
       "      <td>16</td>\n",
       "    </tr>\n",
       "    <tr>\n",
       "      <th>1</th>\n",
       "      <td>44</td>\n",
       "      <td>0</td>\n",
       "      <td>46</td>\n",
       "      <td>11</td>\n",
       "      <td>44</td>\n",
       "      <td>25</td>\n",
       "    </tr>\n",
       "    <tr>\n",
       "      <th>2</th>\n",
       "      <td>44</td>\n",
       "      <td>0</td>\n",
       "      <td>47</td>\n",
       "      <td>37</td>\n",
       "      <td>48</td>\n",
       "      <td>36</td>\n",
       "    </tr>\n",
       "    <tr>\n",
       "      <th>3</th>\n",
       "      <td>47</td>\n",
       "      <td>1</td>\n",
       "      <td>42</td>\n",
       "      <td>34</td>\n",
       "      <td>45</td>\n",
       "      <td>25</td>\n",
       "    </tr>\n",
       "    <tr>\n",
       "      <th>4</th>\n",
       "      <td>44</td>\n",
       "      <td>2</td>\n",
       "      <td>43</td>\n",
       "      <td>1</td>\n",
       "      <td>39</td>\n",
       "      <td>9</td>\n",
       "    </tr>\n",
       "    <tr>\n",
       "      <th>5</th>\n",
       "      <td>39</td>\n",
       "      <td>0</td>\n",
       "      <td>43</td>\n",
       "      <td>1</td>\n",
       "      <td>44</td>\n",
       "      <td>10</td>\n",
       "    </tr>\n",
       "    <tr>\n",
       "      <th>6</th>\n",
       "      <td>46</td>\n",
       "      <td>0</td>\n",
       "      <td>45</td>\n",
       "      <td>32</td>\n",
       "      <td>48</td>\n",
       "      <td>23</td>\n",
       "    </tr>\n",
       "    <tr>\n",
       "      <th>7</th>\n",
       "      <td>35</td>\n",
       "      <td>7</td>\n",
       "      <td>41</td>\n",
       "      <td>2</td>\n",
       "      <td>46</td>\n",
       "      <td>31</td>\n",
       "    </tr>\n",
       "    <tr>\n",
       "      <th>8</th>\n",
       "      <td>43</td>\n",
       "      <td>0</td>\n",
       "      <td>39</td>\n",
       "      <td>5</td>\n",
       "      <td>43</td>\n",
       "      <td>10</td>\n",
       "    </tr>\n",
       "    <tr>\n",
       "      <th>9</th>\n",
       "      <td>40</td>\n",
       "      <td>0</td>\n",
       "      <td>39</td>\n",
       "      <td>45</td>\n",
       "      <td>42</td>\n",
       "      <td>28</td>\n",
       "    </tr>\n",
       "  </tbody>\n",
       "</table>\n",
       "</div>"
      ],
      "text/plain": [
       "   Less  Random 4  Normal  Random 9  More  Random 16\n",
       "0    39         0      45        31    49         16\n",
       "1    44         0      46        11    44         25\n",
       "2    44         0      47        37    48         36\n",
       "3    47         1      42        34    45         25\n",
       "4    44         2      43         1    39          9\n",
       "5    39         0      43         1    44         10\n",
       "6    46         0      45        32    48         23\n",
       "7    35         7      41         2    46         31\n",
       "8    43         0      39         5    43         10\n",
       "9    40         0      39        45    42         28"
      ]
     },
     "execution_count": 34,
     "metadata": {},
     "output_type": "execute_result"
    }
   ],
   "source": [
    "all_"
   ]
  },
  {
   "cell_type": "code",
   "execution_count": null,
   "metadata": {},
   "outputs": [
    {
     "data": {
      "text/plain": [
       "Less         42.1\n",
       "Random 4      1.0\n",
       "Normal       43.0\n",
       "Random 9     19.9\n",
       "More         44.8\n",
       "Random 16    21.3\n",
       "dtype: float64"
      ]
     },
     "execution_count": 35,
     "metadata": {},
     "output_type": "execute_result"
    }
   ],
   "source": [
    "all_.mean()"
   ]
  },
  {
   "cell_type": "code",
   "execution_count": null,
   "metadata": {},
   "outputs": [
    {
     "data": {
      "text/plain": [
       "Less          13.877778\n",
       "Random 4       4.888889\n",
       "Normal         7.777778\n",
       "Random 9     302.988889\n",
       "More           9.511111\n",
       "Random 16     91.122222\n",
       "dtype: float64"
      ]
     },
     "execution_count": 36,
     "metadata": {},
     "output_type": "execute_result"
    }
   ],
   "source": [
    "all_.var()"
   ]
  },
  {
   "cell_type": "code",
   "execution_count": null,
   "metadata": {},
   "outputs": [
    {
     "data": {
      "image/png": "[encoded data removed]",
      "text/plain": [
       "<Figure size 432x288 with 1 Axes>"
      ]
     },
     "metadata": {
      "needs_background": "light"
     },
     "output_type": "display_data"
    }
   ],
   "source": [
    "all_[['Less', 'Random 4']].boxplot()\n",
    "plt.xticks([1, 2],['Evenly Distributed', 'Random'])\n",
    "plt.ylabel('Number of Alive Agents')\n",
    "plt.tight_layout()\n",
    "plt.savefig('box-plot L4.png', format = 'png' )"
   ]
  },
  {
   "cell_type": "code",
   "execution_count": null,
   "metadata": {},
   "outputs": [
    {
     "data": {
      "image/png": "[encoded data removed]",
      "text/plain": [
       "<Figure size 432x288 with 1 Axes>"
      ]
     },
     "metadata": {
      "needs_background": "light"
     },
     "output_type": "display_data"
    }
   ],
   "source": [
    "all_[['Normal', 'Random 9']].boxplot()\n",
    "plt.xticks([1, 2],['Evenly Distributed', 'Random'])\n",
    "plt.ylabel('Number of Alive Agents')\n",
    "plt.tight_layout()\n",
    "plt.savefig('box-plot N9.png', format = 'png' )"
   ]
  },
  {
   "cell_type": "code",
   "execution_count": null,
   "metadata": {},
   "outputs": [
    {
     "data": {
      "image/png": "[encoded data removed]",
      "text/plain": [
       "<Figure size 432x288 with 1 Axes>"
      ]
     },
     "metadata": {
      "needs_background": "light"
     },
     "output_type": "display_data"
    }
   ],
   "source": [
    "all_[['More', 'Random 16']].boxplot()\n",
    "plt.xticks([1, 2],['Evenly Distributed', 'Random'])\n",
    "plt.ylabel('Number of Alive Agents')\n",
    "plt.tight_layout()\n",
    "plt.savefig('box-plot M16.png', format = 'png' )"
   ]
  },
  {
   "cell_type": "code",
   "execution_count": null,
   "metadata": {},
   "outputs": [],
   "source": [
    "plt.tight_layout()\n",
    "plt.savefig('box-plot 4916.png', format = 'png' )"
   ]
  },
  {
   "attachments": {},
   "cell_type": "markdown",
   "metadata": {},
   "source": [
    "No inventory  \n",
    "Less 17   \n",
    "Normal 9  \n",
    "More 5"
   ]
  },
  {
   "cell_type": "code",
   "execution_count": null,
   "metadata": {},
   "outputs": [
    {
     "name": "stdout",
     "output_type": "stream",
     "text": [
      "charging 1\n",
      "4\n",
      "4\n",
      "1\n",
      "charging 2\n",
      "4\n",
      "4\n",
      "2\n",
      "charging 3\n",
      "4\n",
      "4\n",
      "3\n",
      "charging 4\n",
      "4\n",
      "4\n",
      "7\n",
      "charging 5\n",
      "4\n",
      "4\n",
      "10\n",
      "charging 6\n",
      "4\n",
      "4\n",
      "12\n",
      "charging 7\n",
      "4\n",
      "4\n",
      "16\n",
      "charging 8\n",
      "4\n",
      "4\n",
      "19\n",
      "charging 9\n",
      "4\n",
      "4\n",
      "19\n",
      "charging 10\n",
      "4\n",
      "4\n",
      "27\n",
      "charging 11\n",
      "4\n",
      "4\n",
      "33\n",
      "charging 12\n",
      "4\n",
      "4\n",
      "34\n",
      "charging 13\n",
      "4\n",
      "4\n",
      "33\n",
      "charging 14\n",
      "4\n",
      "4\n",
      "42\n",
      "charging 15\n",
      "4\n",
      "4\n",
      "44\n",
      "charging 16\n",
      "4\n",
      "4\n",
      "44\n",
      "charging 17\n",
      "4\n",
      "4\n",
      "48\n"
     ]
    }
   ],
   "source": [
    "map_width = 50\n",
    "map_height = 50\n",
    "moore = False\n",
    "num_of_motorist = 50\n",
    "ratio = 3\n",
    "\n",
    "#Dalam menit\n",
    "days = 14\n",
    "num_of_step = days*24*60\n",
    "#num_of_step = 100\n",
    "temp_ = 0\n",
    "n = 0\n",
    "while temp_ < 45 : \n",
    "    n += 1\n",
    "    print('charging',n)\n",
    "    inv_size = 0\n",
    "    cp_size = n\n",
    "    model = switching_model(num_of_motorist=50,num_of_stations=4,inv_size=inv_size,cp_size= cp_size,width=map_width,height=map_height,moore=moore, configuration=\"less\", demand = demand)\n",
    "\n",
    "    for i in range(num_of_step):\n",
    "        model.step()\n",
    "    model_data = model.datacollector.get_model_vars_dataframe()\n",
    "    temp_ = model_data[\"num_of_alive\"].iloc[-1]\n",
    "    print(temp_)"
   ]
  },
  {
   "cell_type": "code",
   "execution_count": null,
   "metadata": {},
   "outputs": [
    {
     "name": "stdout",
     "output_type": "stream",
     "text": [
      "charging 1\n",
      "9\n",
      "9\n",
      "2\n",
      "charging 2\n",
      "9\n",
      "9\n",
      "6\n",
      "charging 3\n",
      "9\n",
      "9\n",
      "11\n",
      "charging 4\n",
      "9\n",
      "9\n",
      "17\n",
      "charging 5\n",
      "9\n",
      "9\n",
      "27\n",
      "charging 6\n",
      "9\n",
      "9\n",
      "30\n",
      "charging 7\n",
      "9\n",
      "9\n",
      "37\n",
      "charging 8\n",
      "9\n",
      "9\n",
      "42\n",
      "charging 9\n",
      "9\n",
      "9\n",
      "47\n"
     ]
    }
   ],
   "source": [
    "map_width = 50\n",
    "map_height = 50\n",
    "moore = False\n",
    "num_of_motorist = 50\n",
    "ratio = 3\n",
    "\n",
    "#Dalam menit\n",
    "days = 14\n",
    "num_of_step = days*24*60\n",
    "#num_of_step = 100\n",
    "temp_ = 0\n",
    "n = 0\n",
    "while temp_ < 45 : \n",
    "    n += 1\n",
    "    print('charging',n)\n",
    "    inv_size = 0\n",
    "    cp_size = n\n",
    "    model = switching_model(num_of_motorist=50,num_of_stations=4,inv_size=inv_size,cp_size= cp_size,width=map_width,height=map_height,moore=moore, configuration=\"normal\", demand = demand)\n",
    "\n",
    "    for i in range(num_of_step):\n",
    "        model.step()\n",
    "    model_data = model.datacollector.get_model_vars_dataframe()\n",
    "    temp_ = model_data[\"num_of_alive\"].iloc[-1]\n",
    "    print(temp_)"
   ]
  },
  {
   "cell_type": "code",
   "execution_count": null,
   "metadata": {},
   "outputs": [
    {
     "name": "stdout",
     "output_type": "stream",
     "text": [
      "charging 1\n",
      "16\n",
      "16\n",
      "3\n",
      "charging 2\n",
      "16\n",
      "16\n",
      "11\n",
      "charging 3\n",
      "16\n",
      "16\n",
      "23\n",
      "charging 4\n",
      "16\n",
      "16\n",
      "36\n",
      "charging 5\n",
      "16\n",
      "16\n",
      "47\n"
     ]
    }
   ],
   "source": [
    "map_width = 50\n",
    "map_height = 50\n",
    "moore = False\n",
    "num_of_motorist = 50\n",
    "ratio = 3\n",
    "\n",
    "#Dalam menit\n",
    "days = 14\n",
    "num_of_step = days*24*60\n",
    "#num_of_step = 100\n",
    "temp_ = 0\n",
    "n = 0\n",
    "while temp_ < 45 : \n",
    "    n += 1\n",
    "    print('charging',n)\n",
    "    inv_size = 0\n",
    "    cp_size = n\n",
    "    model = switching_model(num_of_motorist=50,num_of_stations=4,inv_size=inv_size,cp_size= cp_size,width=map_width,height=map_height,moore=moore, configuration=\"more\", demand = demand)\n",
    "\n",
    "    for i in range(num_of_step):\n",
    "        model.step()\n",
    "    model_data = model.datacollector.get_model_vars_dataframe()\n",
    "    temp_ = model_data[\"num_of_alive\"].iloc[-1]\n",
    "    print(temp_)"
   ]
  },
  {
   "cell_type": "code",
   "execution_count": null,
   "metadata": {},
   "outputs": [
    {
     "name": "stdout",
     "output_type": "stream",
     "text": [
      "4\n",
      "4\n",
      "4\n",
      "4\n",
      "4\n",
      "4\n",
      "4\n",
      "4\n",
      "4\n",
      "4\n",
      "4\n",
      "4\n",
      "4\n",
      "4\n",
      "4\n",
      "4\n",
      "4\n",
      "4\n",
      "4\n",
      "4\n",
      "9\n",
      "9\n",
      "9\n",
      "9\n",
      "9\n",
      "9\n",
      "9\n",
      "9\n",
      "9\n",
      "9\n",
      "9\n",
      "9\n",
      "9\n",
      "9\n",
      "9\n",
      "9\n",
      "9\n",
      "9\n",
      "9\n",
      "9\n",
      "16\n",
      "16\n",
      "16\n",
      "16\n",
      "16\n",
      "16\n",
      "16\n",
      "16\n",
      "16\n",
      "16\n",
      "16\n",
      "16\n",
      "16\n",
      "16\n",
      "16\n",
      "16\n",
      "16\n",
      "16\n",
      "16\n",
      "16\n"
     ]
    }
   ],
   "source": [
    "map_width = 50\n",
    "map_height = 50\n",
    "moore = False\n",
    "num_of_motorist = 50\n",
    "ratio = 3 \n",
    "cp_size = [17 , 9, 5]\n",
    "config_ = ['less','normal','more']\n",
    "days = 14\n",
    "num_of_step = days*24*60\n",
    "#num_of_step = 100\n",
    "df_ = {\n",
    "    'moore' : [],\n",
    "    'num_alive' : [[],[],[]]\n",
    "}\n",
    "\n",
    "for i in range(len(config_)):\n",
    "    df_['moore'].append(config_[i])\n",
    "    for j in range(10):\n",
    "        model = switching_model(num_of_motorist=50,num_of_stations=10,\n",
    "        inv_size=0,\n",
    "        cp_size= cp_size[i],\n",
    "        width=map_width,height=map_height,moore=moore, configuration=config_[i], demand = demand)\n",
    "\n",
    "        for k in range(num_of_step):\n",
    "            model.step()\n",
    "            \n",
    "        model_data = model.datacollector.get_model_vars_dataframe()\n",
    "        df_['num_alive'][i].append(model_data[\"num_of_alive\"].iloc[-1])"
   ]
  },
  {
   "cell_type": "code",
   "execution_count": null,
   "metadata": {},
   "outputs": [
    {
     "data": {
      "text/plain": [
       "[44, 48, 47, 43, 46, 46, 43, 43, 45, 47]"
      ]
     },
     "execution_count": 50,
     "metadata": {},
     "output_type": "execute_result"
    }
   ],
   "source": [
    "df_['num_alive'][2][10:]"
   ]
  },
  {
   "cell_type": "code",
   "execution_count": null,
   "metadata": {},
   "outputs": [
    {
     "data": {
      "text/plain": [
       "[46, 47, 39, 45, 43, 42, 46, 46, 46, 44]"
      ]
     },
     "execution_count": 49,
     "metadata": {},
     "output_type": "execute_result"
    }
   ],
   "source": [
    "df_['num_alive'][2][0:10]"
   ]
  },
  {
   "cell_type": "code",
   "execution_count": null,
   "metadata": {},
   "outputs": [
    {
     "name": "stdout",
     "output_type": "stream",
     "text": [
      "16\n",
      "16\n",
      "16\n",
      "16\n",
      "16\n",
      "16\n",
      "16\n",
      "16\n",
      "16\n",
      "16\n",
      "16\n",
      "16\n",
      "16\n",
      "16\n",
      "16\n",
      "16\n",
      "16\n",
      "16\n",
      "16\n",
      "16\n"
     ]
    }
   ],
   "source": [
    "for j in range(10):\n",
    "    model = switching_model(num_of_motorist=50,num_of_stations=10,\n",
    "    inv_size=0,\n",
    "    cp_size= 5,\n",
    "    width=map_width,height=map_height,moore=moore, configuration='more', demand = demand)\n",
    "\n",
    "    for k in range(num_of_step):\n",
    "        model.step()\n",
    "        \n",
    "    model_data = model.datacollector.get_model_vars_dataframe()\n",
    "    df_['num_alive'][2].append(model_data[\"num_of_alive\"].iloc[-1])"
   ]
  },
  {
   "cell_type": "code",
   "execution_count": null,
   "metadata": {},
   "outputs": [],
   "source": [
    "df_[\n",
    "    'num_alive'\n",
    "][2] = []"
   ]
  },
  {
   "cell_type": "code",
   "execution_count": null,
   "metadata": {},
   "outputs": [
    {
     "ename": "ValueError",
     "evalue": "Length of values (20) does not match length of index (10)",
     "output_type": "error",
     "traceback": [
      "\u001b[1;31m---------------------------------------------------------------------------\u001b[0m",
      "\u001b[1;31mValueError\u001b[0m                                Traceback (most recent call last)",
      "\u001b[1;32m~\\AppData\\Local\\Temp/ipykernel_30540/4188373688.py\u001b[0m in \u001b[0;36m<module>\u001b[1;34m\u001b[0m\n\u001b[0;32m      1\u001b[0m \u001b[0mbbox_\u001b[0m \u001b[1;33m=\u001b[0m \u001b[0mpd\u001b[0m\u001b[1;33m.\u001b[0m\u001b[0mDataFrame\u001b[0m\u001b[1;33m(\u001b[0m\u001b[0mcolumns\u001b[0m \u001b[1;33m=\u001b[0m \u001b[0mconfig_\u001b[0m\u001b[1;33m)\u001b[0m\u001b[1;33m\u001b[0m\u001b[1;33m\u001b[0m\u001b[0m\n\u001b[0;32m      2\u001b[0m \u001b[1;32mfor\u001b[0m \u001b[0mi\u001b[0m \u001b[1;32min\u001b[0m \u001b[0mrange\u001b[0m\u001b[1;33m(\u001b[0m\u001b[0mlen\u001b[0m\u001b[1;33m(\u001b[0m\u001b[0mconfig_\u001b[0m\u001b[1;33m)\u001b[0m\u001b[1;33m)\u001b[0m\u001b[1;33m:\u001b[0m\u001b[1;33m\u001b[0m\u001b[1;33m\u001b[0m\u001b[0m\n\u001b[1;32m----> 3\u001b[1;33m     \u001b[0mbbox_\u001b[0m\u001b[1;33m[\u001b[0m\u001b[0mconfig_\u001b[0m\u001b[1;33m[\u001b[0m\u001b[0mi\u001b[0m\u001b[1;33m]\u001b[0m\u001b[1;33m]\u001b[0m \u001b[1;33m=\u001b[0m \u001b[0mdf_\u001b[0m\u001b[1;33m[\u001b[0m\u001b[1;34m'num_alive'\u001b[0m\u001b[1;33m]\u001b[0m\u001b[1;33m[\u001b[0m\u001b[0mi\u001b[0m\u001b[1;33m]\u001b[0m\u001b[1;33m\u001b[0m\u001b[1;33m\u001b[0m\u001b[0m\n\u001b[0m",
      "\u001b[1;32mc:\\Users\\leona\\anaconda3\\lib\\site-packages\\pandas\\core\\frame.py\u001b[0m in \u001b[0;36m__setitem__\u001b[1;34m(self, key, value)\u001b[0m\n\u001b[0;32m   3653\u001b[0m         \u001b[1;32melse\u001b[0m\u001b[1;33m:\u001b[0m\u001b[1;33m\u001b[0m\u001b[1;33m\u001b[0m\u001b[0m\n\u001b[0;32m   3654\u001b[0m             \u001b[1;31m# set column\u001b[0m\u001b[1;33m\u001b[0m\u001b[1;33m\u001b[0m\u001b[1;33m\u001b[0m\u001b[0m\n\u001b[1;32m-> 3655\u001b[1;33m             \u001b[0mself\u001b[0m\u001b[1;33m.\u001b[0m\u001b[0m_set_item\u001b[0m\u001b[1;33m(\u001b[0m\u001b[0mkey\u001b[0m\u001b[1;33m,\u001b[0m \u001b[0mvalue\u001b[0m\u001b[1;33m)\u001b[0m\u001b[1;33m\u001b[0m\u001b[1;33m\u001b[0m\u001b[0m\n\u001b[0m\u001b[0;32m   3656\u001b[0m \u001b[1;33m\u001b[0m\u001b[0m\n\u001b[0;32m   3657\u001b[0m     \u001b[1;32mdef\u001b[0m \u001b[0m_setitem_slice\u001b[0m\u001b[1;33m(\u001b[0m\u001b[0mself\u001b[0m\u001b[1;33m,\u001b[0m \u001b[0mkey\u001b[0m\u001b[1;33m:\u001b[0m \u001b[0mslice\u001b[0m\u001b[1;33m,\u001b[0m \u001b[0mvalue\u001b[0m\u001b[1;33m)\u001b[0m\u001b[1;33m:\u001b[0m\u001b[1;33m\u001b[0m\u001b[1;33m\u001b[0m\u001b[0m\n",
      "\u001b[1;32mc:\\Users\\leona\\anaconda3\\lib\\site-packages\\pandas\\core\\frame.py\u001b[0m in \u001b[0;36m_set_item\u001b[1;34m(self, key, value)\u001b[0m\n\u001b[0;32m   3830\u001b[0m         \u001b[0mensure\u001b[0m \u001b[0mhomogeneity\u001b[0m\u001b[1;33m.\u001b[0m\u001b[1;33m\u001b[0m\u001b[1;33m\u001b[0m\u001b[0m\n\u001b[0;32m   3831\u001b[0m         \"\"\"\n\u001b[1;32m-> 3832\u001b[1;33m         \u001b[0mvalue\u001b[0m \u001b[1;33m=\u001b[0m \u001b[0mself\u001b[0m\u001b[1;33m.\u001b[0m\u001b[0m_sanitize_column\u001b[0m\u001b[1;33m(\u001b[0m\u001b[0mvalue\u001b[0m\u001b[1;33m)\u001b[0m\u001b[1;33m\u001b[0m\u001b[1;33m\u001b[0m\u001b[0m\n\u001b[0m\u001b[0;32m   3833\u001b[0m \u001b[1;33m\u001b[0m\u001b[0m\n\u001b[0;32m   3834\u001b[0m         if (\n",
      "\u001b[1;32mc:\\Users\\leona\\anaconda3\\lib\\site-packages\\pandas\\core\\frame.py\u001b[0m in \u001b[0;36m_sanitize_column\u001b[1;34m(self, value)\u001b[0m\n\u001b[0;32m   4533\u001b[0m \u001b[1;33m\u001b[0m\u001b[0m\n\u001b[0;32m   4534\u001b[0m         \u001b[1;32mif\u001b[0m \u001b[0mis_list_like\u001b[0m\u001b[1;33m(\u001b[0m\u001b[0mvalue\u001b[0m\u001b[1;33m)\u001b[0m\u001b[1;33m:\u001b[0m\u001b[1;33m\u001b[0m\u001b[1;33m\u001b[0m\u001b[0m\n\u001b[1;32m-> 4535\u001b[1;33m             \u001b[0mcom\u001b[0m\u001b[1;33m.\u001b[0m\u001b[0mrequire_length_match\u001b[0m\u001b[1;33m(\u001b[0m\u001b[0mvalue\u001b[0m\u001b[1;33m,\u001b[0m \u001b[0mself\u001b[0m\u001b[1;33m.\u001b[0m\u001b[0mindex\u001b[0m\u001b[1;33m)\u001b[0m\u001b[1;33m\u001b[0m\u001b[1;33m\u001b[0m\u001b[0m\n\u001b[0m\u001b[0;32m   4536\u001b[0m         \u001b[1;32mreturn\u001b[0m \u001b[0msanitize_array\u001b[0m\u001b[1;33m(\u001b[0m\u001b[0mvalue\u001b[0m\u001b[1;33m,\u001b[0m \u001b[0mself\u001b[0m\u001b[1;33m.\u001b[0m\u001b[0mindex\u001b[0m\u001b[1;33m,\u001b[0m \u001b[0mcopy\u001b[0m\u001b[1;33m=\u001b[0m\u001b[1;32mTrue\u001b[0m\u001b[1;33m,\u001b[0m \u001b[0mallow_2d\u001b[0m\u001b[1;33m=\u001b[0m\u001b[1;32mTrue\u001b[0m\u001b[1;33m)\u001b[0m\u001b[1;33m\u001b[0m\u001b[1;33m\u001b[0m\u001b[0m\n\u001b[0;32m   4537\u001b[0m \u001b[1;33m\u001b[0m\u001b[0m\n",
      "\u001b[1;32mc:\\Users\\leona\\anaconda3\\lib\\site-packages\\pandas\\core\\common.py\u001b[0m in \u001b[0;36mrequire_length_match\u001b[1;34m(data, index)\u001b[0m\n\u001b[0;32m    555\u001b[0m     \"\"\"\n\u001b[0;32m    556\u001b[0m     \u001b[1;32mif\u001b[0m \u001b[0mlen\u001b[0m\u001b[1;33m(\u001b[0m\u001b[0mdata\u001b[0m\u001b[1;33m)\u001b[0m \u001b[1;33m!=\u001b[0m \u001b[0mlen\u001b[0m\u001b[1;33m(\u001b[0m\u001b[0mindex\u001b[0m\u001b[1;33m)\u001b[0m\u001b[1;33m:\u001b[0m\u001b[1;33m\u001b[0m\u001b[1;33m\u001b[0m\u001b[0m\n\u001b[1;32m--> 557\u001b[1;33m         raise ValueError(\n\u001b[0m\u001b[0;32m    558\u001b[0m             \u001b[1;34m\"Length of values \"\u001b[0m\u001b[1;33m\u001b[0m\u001b[1;33m\u001b[0m\u001b[0m\n\u001b[0;32m    559\u001b[0m             \u001b[1;34mf\"({len(data)}) \"\u001b[0m\u001b[1;33m\u001b[0m\u001b[1;33m\u001b[0m\u001b[0m\n",
      "\u001b[1;31mValueError\u001b[0m: Length of values (20) does not match length of index (10)"
     ]
    }
   ],
   "source": [
    "bbox_ = pd.DataFrame(columns = config_)\n",
    "for i in range(len(config_)):\n",
    "    bbox_[config_[i]] = df_['num_alive'][i]"
   ]
  },
  {
   "cell_type": "code",
   "execution_count": null,
   "metadata": {},
   "outputs": [
    {
     "data": {
      "text/plain": [
       "<AxesSubplot:>"
      ]
     },
     "execution_count": 51,
     "metadata": {},
     "output_type": "execute_result"
    },
    {
     "data": {
      "image/png": "[encoded data removed]",
      "text/plain": [
       "<Figure size 432x288 with 1 Axes>"
      ]
     },
     "metadata": {
      "needs_background": "light"
     },
     "output_type": "display_data"
    }
   ],
   "source": [
    "invvv_ = pd.DataFrame(columns = ['less_i', 'less_ni', 'normal_i', 'normal_ni','more_i', 'more_ni'])\n",
    "invvv_['less_i'] = box_['less']\n",
    "invvv_['less_ni'] =bbox_['less']\n",
    "invvv_['normal_i'] = box_['normal']\n",
    "invvv_['normal_ni'] =  bbox_['normal']\n",
    "invvv_['more_i'] =  box_['more']\n",
    "invvv_['more_ni'] = df_['num_alive'][2][10:]\n",
    "invvv_.boxplot()"
   ]
  },
  {
   "cell_type": "code",
   "execution_count": null,
   "metadata": {},
   "outputs": [
    {
     "data": {
      "text/html": [
       "<div>\n",
       "<style scoped>\n",
       "    .dataframe tbody tr th:only-of-type {\n",
       "        vertical-align: middle;\n",
       "    }\n",
       "\n",
       "    .dataframe tbody tr th {\n",
       "        vertical-align: top;\n",
       "    }\n",
       "\n",
       "    .dataframe thead th {\n",
       "        text-align: right;\n",
       "    }\n",
       "</style>\n",
       "<table border=\"1\" class=\"dataframe\">\n",
       "  <thead>\n",
       "    <tr style=\"text-align: right;\">\n",
       "      <th></th>\n",
       "      <th>less_i</th>\n",
       "      <th>less_ni</th>\n",
       "      <th>normal_i</th>\n",
       "      <th>normal_ni</th>\n",
       "      <th>more_i</th>\n",
       "      <th>more_ni</th>\n",
       "    </tr>\n",
       "  </thead>\n",
       "  <tbody>\n",
       "    <tr>\n",
       "      <th>0</th>\n",
       "      <td>39</td>\n",
       "      <td>49</td>\n",
       "      <td>45</td>\n",
       "      <td>43</td>\n",
       "      <td>49</td>\n",
       "      <td>44</td>\n",
       "    </tr>\n",
       "    <tr>\n",
       "      <th>1</th>\n",
       "      <td>44</td>\n",
       "      <td>47</td>\n",
       "      <td>46</td>\n",
       "      <td>49</td>\n",
       "      <td>44</td>\n",
       "      <td>48</td>\n",
       "    </tr>\n",
       "    <tr>\n",
       "      <th>2</th>\n",
       "      <td>44</td>\n",
       "      <td>49</td>\n",
       "      <td>47</td>\n",
       "      <td>49</td>\n",
       "      <td>48</td>\n",
       "      <td>47</td>\n",
       "    </tr>\n",
       "    <tr>\n",
       "      <th>3</th>\n",
       "      <td>47</td>\n",
       "      <td>45</td>\n",
       "      <td>42</td>\n",
       "      <td>48</td>\n",
       "      <td>45</td>\n",
       "      <td>43</td>\n",
       "    </tr>\n",
       "    <tr>\n",
       "      <th>4</th>\n",
       "      <td>44</td>\n",
       "      <td>47</td>\n",
       "      <td>43</td>\n",
       "      <td>48</td>\n",
       "      <td>39</td>\n",
       "      <td>46</td>\n",
       "    </tr>\n",
       "    <tr>\n",
       "      <th>5</th>\n",
       "      <td>39</td>\n",
       "      <td>48</td>\n",
       "      <td>43</td>\n",
       "      <td>47</td>\n",
       "      <td>44</td>\n",
       "      <td>46</td>\n",
       "    </tr>\n",
       "    <tr>\n",
       "      <th>6</th>\n",
       "      <td>46</td>\n",
       "      <td>47</td>\n",
       "      <td>45</td>\n",
       "      <td>49</td>\n",
       "      <td>48</td>\n",
       "      <td>43</td>\n",
       "    </tr>\n",
       "    <tr>\n",
       "      <th>7</th>\n",
       "      <td>35</td>\n",
       "      <td>48</td>\n",
       "      <td>41</td>\n",
       "      <td>48</td>\n",
       "      <td>46</td>\n",
       "      <td>43</td>\n",
       "    </tr>\n",
       "    <tr>\n",
       "      <th>8</th>\n",
       "      <td>43</td>\n",
       "      <td>46</td>\n",
       "      <td>39</td>\n",
       "      <td>48</td>\n",
       "      <td>43</td>\n",
       "      <td>45</td>\n",
       "    </tr>\n",
       "    <tr>\n",
       "      <th>9</th>\n",
       "      <td>40</td>\n",
       "      <td>49</td>\n",
       "      <td>39</td>\n",
       "      <td>49</td>\n",
       "      <td>42</td>\n",
       "      <td>47</td>\n",
       "    </tr>\n",
       "  </tbody>\n",
       "</table>\n",
       "</div>"
      ],
      "text/plain": [
       "   less_i  less_ni  normal_i  normal_ni  more_i  more_ni\n",
       "0      39       49        45         43      49       44\n",
       "1      44       47        46         49      44       48\n",
       "2      44       49        47         49      48       47\n",
       "3      47       45        42         48      45       43\n",
       "4      44       47        43         48      39       46\n",
       "5      39       48        43         47      44       46\n",
       "6      46       47        45         49      48       43\n",
       "7      35       48        41         48      46       43\n",
       "8      43       46        39         48      43       45\n",
       "9      40       49        39         49      42       47"
      ]
     },
     "execution_count": 52,
     "metadata": {},
     "output_type": "execute_result"
    }
   ],
   "source": [
    "invvv_"
   ]
  },
  {
   "cell_type": "code",
   "execution_count": null,
   "metadata": {},
   "outputs": [
    {
     "data": {
      "text/plain": [
       "less_i       42.1\n",
       "less_ni      47.5\n",
       "normal_i     43.0\n",
       "normal_ni    47.8\n",
       "more_i       44.8\n",
       "more_ni      45.2\n",
       "dtype: float64"
      ]
     },
     "execution_count": 55,
     "metadata": {},
     "output_type": "execute_result"
    }
   ],
   "source": [
    "invvv_.mean()"
   ]
  },
  {
   "cell_type": "code",
   "execution_count": null,
   "metadata": {},
   "outputs": [
    {
     "data": {
      "text/plain": [
       "less_i       13.877778\n",
       "less_ni       1.833333\n",
       "normal_i      7.777778\n",
       "normal_ni     3.288889\n",
       "more_i        9.511111\n",
       "more_ni       3.511111\n",
       "dtype: float64"
      ]
     },
     "execution_count": 54,
     "metadata": {},
     "output_type": "execute_result"
    }
   ],
   "source": [
    "invvv_.var()"
   ]
  },
  {
   "cell_type": "code",
   "execution_count": null,
   "metadata": {},
   "outputs": [
    {
     "data": {
      "image/png": "[encoded data removed]",
      "text/plain": [
       "<Figure size 432x288 with 1 Axes>"
      ]
     },
     "metadata": {
      "needs_background": "light"
     },
     "output_type": "display_data"
    }
   ],
   "source": [
    "invvv_[['less_i', 'less_ni']].boxplot()\n",
    "plt.xticks([1, 2],['Inventory', 'No Inventory'])\n",
    "plt.ylabel('Number of Alive Agents')\n",
    "plt.tight_layout()\n",
    "plt.savefig('box-plot ini 4.png', format = 'png' )"
   ]
  },
  {
   "cell_type": "code",
   "execution_count": null,
   "metadata": {},
   "outputs": [
    {
     "data": {
      "image/png": "[encoded data removed]",
      "text/plain": [
       "<Figure size 432x288 with 1 Axes>"
      ]
     },
     "metadata": {
      "needs_background": "light"
     },
     "output_type": "display_data"
    }
   ],
   "source": [
    "invvv_[['normal_i', 'normal_ni']].boxplot()\n",
    "plt.xticks([1, 2],['Inventory', 'No Inventory'])\n",
    "plt.ylabel('Number of Alive Agents')\n",
    "plt.tight_layout()\n",
    "plt.savefig('box-plot ini 9.png', format = 'png' )"
   ]
  },
  {
   "cell_type": "code",
   "execution_count": null,
   "metadata": {},
   "outputs": [
    {
     "data": {
      "image/png": "[encoded data removed]",
      "text/plain": [
       "<Figure size 432x288 with 1 Axes>"
      ]
     },
     "metadata": {
      "needs_background": "light"
     },
     "output_type": "display_data"
    }
   ],
   "source": [
    "invvv_[['more_i', 'more_ni']].boxplot()\n",
    "plt.xticks([1, 2],['Inventory', 'No Inventory'])\n",
    "plt.ylabel('Number of Alive Agents')\n",
    "plt.tight_layout()\n",
    "plt.savefig('box-plot ini 16.png', format = 'png' )"
   ]
  },
  {
   "cell_type": "code",
   "execution_count": null,
   "metadata": {},
   "outputs": [
    {
     "name": "stdout",
     "output_type": "stream",
     "text": [
      "4\n",
      "4\n"
     ]
    }
   ],
   "source": [
    "model = switching_model(num_of_motorist=50,num_of_stations=10,\n",
    "    inv_size=19,\n",
    "    cp_size= 6,\n",
    "    width=map_width,height=map_height,moore=moore, configuration='less', demand = demand)\n",
    "\n",
    "for k in range(num_of_step):\n",
    "    model.step()\n",
    "    \n",
    "model_data = model.datacollector.get_model_vars_dataframe()\n"
   ]
  },
  {
   "cell_type": "code",
   "execution_count": null,
   "metadata": {},
   "outputs": [
    {
     "data": {
      "image/png": "[encoded data removed]",
      "text/plain": [
       "<Figure size 432x288 with 1 Axes>"
      ]
     },
     "metadata": {
      "needs_background": "light"
     },
     "output_type": "display_data"
    }
   ],
   "source": [
    "plt.plot(model_data[\"num_of_alive\"])\n",
    "plt.ylim([0,num_of_motorist + 1])\n",
    "plt.ylabel(\"Alive agents\")\n",
    "plt.xlabel(\"Steps\")\n",
    "plt.xlim(0,num_of_step)\n",
    "for i in range(1,days):\n",
    "    plt.axvline(x = 1440*i, color = 'r', linestyle='--', label = 'axvline - full height')\n",
    "plt.legend(['Number of Total Alive Agent','Days'])\n",
    "locs, labels = plt.xticks()  # Get the current locations and labels.\n",
    "plt.xticks(np.arange(0, days*1440, step=1440))  # Set label locations.\n",
    "plt.xticks(np.arange(days)*1440, np.arange(0,days))  # Set text labels.\n",
    "#plt.xticks([0, 1, 2], ['January', 'February', 'March'],\n",
    "#       rotation=20)  # Set text labels and properties.\n",
    "plt.xlabel('Days')\n",
    "#plt.title('Number of Total Alive Agent')\n",
    "plt.tight_layout()\n",
    "plt.savefig('line-plot less inventory.png', format = 'png' )\n",
    "plt.show()"
   ]
  },
  {
   "cell_type": "code",
   "execution_count": null,
   "metadata": {},
   "outputs": [
    {
     "name": "stdout",
     "output_type": "stream",
     "text": [
      "4\n",
      "4\n",
      "4\n",
      "4\n",
      "9\n",
      "9\n",
      "9\n",
      "9\n",
      "16\n",
      "16\n",
      "16\n",
      "16\n"
     ]
    }
   ],
   "source": [
    "map_width = 50\n",
    "map_height = 50\n",
    "moore = False\n",
    "num_of_motorist = 50\n",
    "ratio = 3 \n",
    "inv_size = [19, 0, 9, 0 , 5, 0]\n",
    "cp_size = [6, 17, 3, 9, 2, 5]\n",
    "config_ = ['less', 'less','normal','normal','more','more']\n",
    "days = 14\n",
    "num_of_step = days*24*60\n",
    "#num_of_step = 100\n",
    "df_ = {\n",
    "    'moore' : [],\n",
    "    'num_of_charging' : [[],[],[],[],[],[]]\n",
    "}\n",
    "\n",
    "for i in range(len(config_)):\n",
    "    df_['moore'].append(config_[i]+str(inv_size[i]))\n",
    "    model = switching_model(num_of_motorist=50,num_of_stations=10,\n",
    "    inv_size=inv_size[i],\n",
    "    cp_size= cp_size[i],\n",
    "    width=map_width,height=map_height,moore=moore, configuration=config_[i], demand = demand)\n",
    "\n",
    "    for k in range(num_of_step):\n",
    "        model.step()\n",
    "        \n",
    "    model_data = model.datacollector.get_model_vars_dataframe()\n",
    "    df_['num_of_charging'][i] = model_data[\"num_of_charging\"]"
   ]
  },
  {
   "cell_type": "code",
   "execution_count": null,
   "metadata": {},
   "outputs": [
    {
     "data": {
      "text/plain": [
       "['less19', 'less0', 'normal9', 'normal0', 'more5', 'more0']"
      ]
     },
     "execution_count": 5,
     "metadata": {},
     "output_type": "execute_result"
    }
   ],
   "source": [
    "df_['moore']"
   ]
  },
  {
   "cell_type": "code",
   "execution_count": null,
   "metadata": {},
   "outputs": [],
   "source": [
    "import pandas as pd"
   ]
  },
  {
   "cell_type": "code",
   "execution_count": null,
   "metadata": {},
   "outputs": [],
   "source": [
    "crg = pd.DataFrame(columns = df_['moore'])\n",
    "for i in range(len(df_['num_of_charging'])):\n",
    "    crg[crg.columns[i]]= df_['num_of_charging'][i]\n"
   ]
  },
  {
   "cell_type": "code",
   "execution_count": null,
   "metadata": {},
   "outputs": [
    {
     "data": {
      "text/html": [
       "<div>\n",
       "<style scoped>\n",
       "    .dataframe tbody tr th:only-of-type {\n",
       "        vertical-align: middle;\n",
       "    }\n",
       "\n",
       "    .dataframe tbody tr th {\n",
       "        vertical-align: top;\n",
       "    }\n",
       "\n",
       "    .dataframe thead th {\n",
       "        text-align: right;\n",
       "    }\n",
       "</style>\n",
       "<table border=\"1\" class=\"dataframe\">\n",
       "  <thead>\n",
       "    <tr style=\"text-align: right;\">\n",
       "      <th></th>\n",
       "      <th>less19</th>\n",
       "      <th>less0</th>\n",
       "      <th>normal9</th>\n",
       "      <th>normal0</th>\n",
       "      <th>more5</th>\n",
       "      <th>more0</th>\n",
       "    </tr>\n",
       "  </thead>\n",
       "  <tbody>\n",
       "    <tr>\n",
       "      <th>0</th>\n",
       "      <td>0</td>\n",
       "      <td>0</td>\n",
       "      <td>0</td>\n",
       "      <td>0</td>\n",
       "      <td>0</td>\n",
       "      <td>0</td>\n",
       "    </tr>\n",
       "    <tr>\n",
       "      <th>1</th>\n",
       "      <td>0</td>\n",
       "      <td>0</td>\n",
       "      <td>0</td>\n",
       "      <td>0</td>\n",
       "      <td>0</td>\n",
       "      <td>0</td>\n",
       "    </tr>\n",
       "    <tr>\n",
       "      <th>2</th>\n",
       "      <td>0</td>\n",
       "      <td>0</td>\n",
       "      <td>0</td>\n",
       "      <td>0</td>\n",
       "      <td>0</td>\n",
       "      <td>0</td>\n",
       "    </tr>\n",
       "    <tr>\n",
       "      <th>3</th>\n",
       "      <td>0</td>\n",
       "      <td>0</td>\n",
       "      <td>0</td>\n",
       "      <td>0</td>\n",
       "      <td>0</td>\n",
       "      <td>0</td>\n",
       "    </tr>\n",
       "    <tr>\n",
       "      <th>4</th>\n",
       "      <td>0</td>\n",
       "      <td>0</td>\n",
       "      <td>0</td>\n",
       "      <td>0</td>\n",
       "      <td>0</td>\n",
       "      <td>0</td>\n",
       "    </tr>\n",
       "    <tr>\n",
       "      <th>...</th>\n",
       "      <td>...</td>\n",
       "      <td>...</td>\n",
       "      <td>...</td>\n",
       "      <td>...</td>\n",
       "      <td>...</td>\n",
       "      <td>...</td>\n",
       "    </tr>\n",
       "    <tr>\n",
       "      <th>20155</th>\n",
       "      <td>3</td>\n",
       "      <td>2</td>\n",
       "      <td>2</td>\n",
       "      <td>2</td>\n",
       "      <td>5</td>\n",
       "      <td>2</td>\n",
       "    </tr>\n",
       "    <tr>\n",
       "      <th>20156</th>\n",
       "      <td>3</td>\n",
       "      <td>2</td>\n",
       "      <td>2</td>\n",
       "      <td>3</td>\n",
       "      <td>5</td>\n",
       "      <td>2</td>\n",
       "    </tr>\n",
       "    <tr>\n",
       "      <th>20157</th>\n",
       "      <td>3</td>\n",
       "      <td>2</td>\n",
       "      <td>2</td>\n",
       "      <td>3</td>\n",
       "      <td>5</td>\n",
       "      <td>2</td>\n",
       "    </tr>\n",
       "    <tr>\n",
       "      <th>20158</th>\n",
       "      <td>3</td>\n",
       "      <td>2</td>\n",
       "      <td>2</td>\n",
       "      <td>3</td>\n",
       "      <td>5</td>\n",
       "      <td>2</td>\n",
       "    </tr>\n",
       "    <tr>\n",
       "      <th>20159</th>\n",
       "      <td>3</td>\n",
       "      <td>2</td>\n",
       "      <td>2</td>\n",
       "      <td>4</td>\n",
       "      <td>5</td>\n",
       "      <td>2</td>\n",
       "    </tr>\n",
       "  </tbody>\n",
       "</table>\n",
       "<p>20160 rows × 6 columns</p>\n",
       "</div>"
      ],
      "text/plain": [
       "       less19  less0  normal9  normal0  more5  more0\n",
       "0           0      0        0        0      0      0\n",
       "1           0      0        0        0      0      0\n",
       "2           0      0        0        0      0      0\n",
       "3           0      0        0        0      0      0\n",
       "4           0      0        0        0      0      0\n",
       "...       ...    ...      ...      ...    ...    ...\n",
       "20155       3      2        2        2      5      2\n",
       "20156       3      2        2        3      5      2\n",
       "20157       3      2        2        3      5      2\n",
       "20158       3      2        2        3      5      2\n",
       "20159       3      2        2        4      5      2\n",
       "\n",
       "[20160 rows x 6 columns]"
      ]
     },
     "execution_count": 9,
     "metadata": {},
     "output_type": "execute_result"
    }
   ],
   "source": [
    "crg"
   ]
  },
  {
   "cell_type": "code",
   "execution_count": null,
   "metadata": {},
   "outputs": [
    {
     "data": {
      "text/plain": [
       "10080.0"
      ]
     },
     "execution_count": 10,
     "metadata": {},
     "output_type": "execute_result"
    }
   ],
   "source": [
    "20160/2"
   ]
  },
  {
   "cell_type": "code",
   "execution_count": null,
   "metadata": {},
   "outputs": [
    {
     "data": {
      "image/png": "[encoded data removed]",
      "text/plain": [
       "<Figure size 432x288 with 1 Axes>"
      ]
     },
     "metadata": {
      "needs_background": "light"
     },
     "output_type": "display_data"
    }
   ],
   "source": [
    "plt.plot(crg.index[:10080], crg[crg.columns[0]][:10080])\n",
    "plt.plot(crg.index[:10080], crg[crg.columns[1]][:10080])\n",
    "plt.ylim([0,10+max(max(crg[crg.columns[1]]), max(crg[crg.columns[0]]))])\n",
    "plt.ylabel(\"Charging batteries\")\n",
    "plt.xlabel(\"Steps\")\n",
    "plt.xlim(0,10080)\n",
    "for i in range(1,int(days*0.5)):\n",
    "    plt.axvline(x = 1440*i, color = 'r', linestyle='--', label = 'axvline - full height')\n",
    "plt.legend(['Inventory', 'No Inventory','Days'])\n",
    "locs, labels = plt.xticks()  # Get the current locations and labels.\n",
    "plt.xticks(np.arange(0, 0.5*days*1440, step=1440))  # Set label locations.\n",
    "plt.xticks(np.arange(7)*1440, np.arange(0,7))  # Set text labels.\n",
    "plt.xlabel('Days')\n",
    "#plt.title('Number of Total Alive Agent')\n",
    "#plt.tight_layout()\n",
    "plt.title('Number of Charged Battery')\n",
    "plt.savefig('line-plot ini 16.png', format = 'png' )\n",
    "plt.show()"
   ]
  },
  {
   "cell_type": "code",
   "execution_count": null,
   "metadata": {},
   "outputs": [],
   "source": [
    "import numpy as np \n",
    "import pandas as pd\n",
    "coordinates = []\n",
    "height = 50\n",
    "width = 50\n",
    "configuration = 'more'\n",
    "if configuration == \"less\":\n",
    "    #4 titik\n",
    "    coordinates.append((np.floor(width*(1/4)).astype(int)-1, np.floor(height*(1/4)).astype(int)-1))\n",
    "    coordinates.append((np.floor(width*(1/4)).astype(int)-1, np.floor(height*(3/4)).astype(int)-1))\n",
    "    coordinates.append((np.floor(width*(3/4)).astype(int)-1, np.floor(height*(1/4)).astype(int)-1))\n",
    "    coordinates.append((np.floor(width*(3/4)).astype(int)-1, np.floor(height*(3/4)).astype(int)-1))\n",
    "    #TODO: remove the print comments, that is just for testing\n",
    "    print(len(coordinates))\n",
    "\n",
    "elif configuration == \"normal\":\n",
    "    #9 titik\n",
    "    coordinates.append((np.floor(width*(1/6)).astype(int)-1, np.floor(height*(1/6)).astype(int)-1))\n",
    "    coordinates.append((np.floor(width*(1/6)).astype(int)-1, np.floor(height*(3/6)).astype(int)-1))\n",
    "    coordinates.append((np.floor(width*(1/6)).astype(int)-1, np.floor(height*(5/6)).astype(int)-1))\n",
    "    coordinates.append((np.floor(width*(3/6)).astype(int)-1, np.floor(height*(1/6)).astype(int)-1))\n",
    "    coordinates.append((np.floor(width*(3/6)).astype(int)-1, np.floor(height*(3/6)).astype(int)-1))\n",
    "    coordinates.append((np.floor(width*(3/6)).astype(int)-1, np.floor(height*(5/6)).astype(int)-1))\n",
    "    coordinates.append((np.floor(width*(5/6)).astype(int)-1, np.floor(height*(1/6)).astype(int)-1))\n",
    "    coordinates.append((np.floor(width*(5/6)).astype(int)-1, np.floor(height*(3/6)).astype(int)-1))\n",
    "    coordinates.append((np.floor(width*(5/6)).astype(int)-1, np.floor(height*(5/6)).astype(int)-1))\n",
    "\n",
    "    \n",
    "    print(len(coordinates))\n",
    "\n",
    "elif configuration == \"more\":\n",
    "    coordinates.append((np.floor(width*(1/8)).astype(int)-1, np.floor(height*(1/8)).astype(int)-1))\n",
    "    coordinates.append((np.floor(width*(1/8)).astype(int)-1, np.floor(height*(3/8)).astype(int)-1))\n",
    "    coordinates.append((np.floor(width*(1/8)).astype(int)-1, np.floor(height*(5/8)).astype(int)-1))\n",
    "    coordinates.append((np.floor(width*(1/8)).astype(int)-1, np.floor(height*(7/8)).astype(int)-1))\n",
    "    coordinates.append((np.floor(width*(3/8)).astype(int)-1, np.floor(height*(1/8)).astype(int)-1))\n",
    "    coordinates.append((np.floor(width*(3/8)).astype(int)-1, np.floor(height*(3/8)).astype(int)-1))\n",
    "    coordinates.append((np.floor(width*(3/8)).astype(int)-1, np.floor(height*(5/8)).astype(int)-1))\n",
    "    coordinates.append((np.floor(width*(3/8)).astype(int)-1, np.floor(height*(7/8)).astype(int)-1))\n",
    "    coordinates.append((np.floor(width*(5/8)).astype(int)-1, np.floor(height*(1/8)).astype(int)-1))\n",
    "    coordinates.append((np.floor(width*(5/8)).astype(int)-1, np.floor(height*(3/8)).astype(int)-1))\n",
    "    coordinates.append((np.floor(width*(5/8)).astype(int)-1, np.floor(height*(5/8)).astype(int)-1))\n",
    "    coordinates.append((np.floor(width*(5/8)).astype(int)-1, np.floor(height*(7/8)).astype(int)-1))\n",
    "    coordinates.append((np.floor(width*(7/8)).astype(int)-1, np.floor(height*(1/8)).astype(int)-1))\n",
    "    coordinates.append((np.floor(width*(7/8)).astype(int)-1, np.floor(height*(3/8)).astype(int)-1))\n",
    "    coordinates.append((np.floor(width*(7/8)).astype(int)-1, np.floor(height*(5/8)).astype(int)-1))\n",
    "    coordinates.append((np.floor(width*(7/8)).astype(int)-1, np.floor(height*(7/8)).astype(int)-1))"
   ]
  },
  {
   "cell_type": "code",
   "execution_count": null,
   "metadata": {},
   "outputs": [
    {
     "data": {
      "text/plain": [
       "(0.0, 50.0, 0.0, 50.0)"
      ]
     },
     "execution_count": 40,
     "metadata": {},
     "output_type": "execute_result"
    },
    {
     "data": {
      "image/png": "[encoded data removed]",
      "text/plain": [
       "<Figure size 432x288 with 2 Axes>"
      ]
     },
     "metadata": {
      "needs_background": "light"
     },
     "output_type": "display_data"
    }
   ],
   "source": [
    "import matplotlib.pyplot as plt\n",
    "import seaborn as sns\n",
    "heatmap_data = np.zeros((width, height))\n",
    "for coor in coordinates:\n",
    "    x,y = coor\n",
    "    heatmap_data[x,y] +=1\n",
    "\n",
    "ax = sns.heatmap(heatmap_data,cmap=\"hot\")\n",
    "ax.invert_yaxis()\n",
    "plt.axis('equal')"
   ]
  },
  {
   "cell_type": "code",
   "execution_count": null,
   "metadata": {},
   "outputs": [
    {
     "data": {
      "image/png": "[encoded data removed]",
      "text/plain": [
       "<Figure size 432x288 with 1 Axes>"
      ]
     },
     "metadata": {
      "needs_background": "light"
     },
     "output_type": "display_data"
    }
   ],
   "source": [
    "map = pd.DataFrame(columns = ['x','y'])\n",
    "white = map.copy()\n",
    "map['x'] =  [coordinates[i][0]for i in range(len(coordinates))]#.append([0 ,0, 50,50])\n",
    "map['y'] =  [coordinates[i][1]for i in range(len(coordinates))]#.append([0,50,0,50])\n",
    "white['x'] =  [0 ,0, 50,50]\n",
    "white['y'] =  [0,50,0,50]\n",
    "major_ticks = np.arange(0, 50, 1)\n",
    "minor_ticks = np.arange(0, 50, 1)\n",
    "fig = plt.figure()\n",
    "ax = fig.add_subplot(1, 1, 1)\n",
    "\n",
    "#ax.set_xticks(major_ticks)\n",
    "#ax.set_xticks(minor_ticks, minor=True)\n",
    "#ax.set_yticks(major_ticks)\n",
    "#ax.set_yticks(minor_ticks, minor=True)\n",
    "\n",
    "# And a corresponding grid\n",
    "plt.scatter(x= map.x, y = map.y,color = \"red\", marker = 'o')\n",
    "plt.scatter(x= white.x, y = white.y,color = \"white\", marker = 'o')\n",
    "plt.title('Evenly Distributed (16 Stations)')\n",
    "\n",
    "#plt.xlim([0,50])\n",
    "#plt.ylim([0,50])\n",
    "plt.axis('scaled')\n",
    "#plt.xlabel('')\n",
    "#plt.ylabel('')\n",
    "#ax.xaxis.set_visible(True)\n",
    "#ax.yaxis.set_visible(True)\n",
    "#plt.grid(which = 'both')\n",
    "plt.savefig('moree.png', format = 'png' )\n",
    "plt.show()\n"
   ]
  },
  {
   "cell_type": "code",
   "execution_count": null,
   "metadata": {},
   "outputs": [
    {
     "data": {
      "image/png": "[encoded data removed]",
      "text/plain": [
       "<Figure size 432x288 with 1 Axes>"
      ]
     },
     "metadata": {
      "needs_background": "light"
     },
     "output_type": "display_data"
    }
   ],
   "source": [
    "map = pd.DataFrame(columns = ['x','y'])\n",
    "map['x'] =  [coordinates[i][0]for i in range(len(coordinates))]\n",
    "map['y'] =  [coordinates[i][1]for i in range(len(coordinates))]\n",
    "major_ticks = np.arange(0, 50, 1)\n",
    "minor_ticks = np.arange(0, 50, 1)\n",
    "fig = plt.figure()\n",
    "ax = fig.add_subplot(1, 1, 1)\n",
    "\n",
    "#ax.set_xticks(major_ticks)\n",
    "#ax.set_xticks(minor_ticks, minor=True)\n",
    "#ax.set_yticks(major_ticks)\n",
    "#ax.set_yticks(minor_ticks, minor=True)\n",
    "\n",
    "# And a corresponding grid\n",
    "plt.scatter(x= map.x, y = map.y,color = \"red\", marker = 'o')\n",
    "plt.title('Evenly Distributed (4 Stations)')\n",
    "\n",
    "plt.xlim([0,50])\n",
    "plt.ylim([0,50])\n",
    "#plt.axis('scaled')\n",
    "\n",
    "#ax.xaxis.set_visible(True)\n",
    "#ax.yaxis.set_visible(True)\n",
    "#plt.grid(which = 'both')\n",
    "plt.show()\n"
   ]
  }
 ],
 "metadata": {
  "kernelspec": {
   "display_name": "Python 3.8.12 ('base')",
   "language": "python",
   "name": "python3"
  },
  "language_info": {
   "codemirror_mode": {
    "name": "ipython",
    "version": 3
   },
   "file_extension": ".py",
   "mimetype": "text/x-python",
   "name": "python",
   "nbconvert_exporter": "python",
   "pygments_lexer": "ipython3",
   "version": "3.9.16"
  },
  "orig_nbformat": 4,
  "vscode": {
   "interpreter": {
    "hash": "a063a9d6d4095dba70f7d4a438ef288e94ffec589b0525f5b20de998ec61033a"
   }
  }
 },
 "nbformat": 4,
 "nbformat_minor": 2
}
