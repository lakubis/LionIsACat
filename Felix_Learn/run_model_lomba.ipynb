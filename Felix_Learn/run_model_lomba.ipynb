{
 "cells": [
  {
   "cell_type": "code",
   "execution_count": 1,
   "metadata": {},
   "outputs": [
    {
     "name": "stdout",
     "output_type": "stream",
     "text": [
      "13\n"
     ]
    }
   ],
   "source": [
    "from model_lomba import *\n",
    "import matplotlib.pyplot as plt\n",
    "\n",
    "map_width = 50\n",
    "map_height = 50\n",
    "moore = False\n",
    "model = switching_model(num_of_motorist=50,num_of_stations=10,inv_size=10,cp_size= 10,width=map_width,height=map_height,moore=moore, configuration=\"more\")\n",
    "\n",
    "#Dalam menit\n",
    "num_of_step = 30*24*60\n",
    "#num_of_step = 100\n",
    "for i in range(num_of_step):\n",
    "    model.step()"
   ]
  },
  {
   "cell_type": "code",
   "execution_count": 2,
   "metadata": {},
   "outputs": [
    {
     "ename": "MemoryError",
     "evalue": "Unable to allocate 615. MiB for an array with shape (5, 16113600) and data type float64",
     "output_type": "error",
     "traceback": [
      "\u001b[1;31m---------------------------------------------------------------------------\u001b[0m",
      "\u001b[1;31mMemoryError\u001b[0m                               Traceback (most recent call last)",
      "\u001b[1;32md:\\Github stuff\\LionIsACat\\Felix_Learn\\run_model_lomba.ipynb Cell 2'\u001b[0m in \u001b[0;36m<cell line: 2>\u001b[1;34m()\u001b[0m\n\u001b[0;32m      <a href='vscode-notebook-cell:/d%3A/Github%20stuff/LionIsACat/Felix_Learn/run_model_lomba.ipynb#ch0000001?line=0'>1</a>\u001b[0m \u001b[39m#Ambil data agent\u001b[39;00m\n\u001b[1;32m----> <a href='vscode-notebook-cell:/d%3A/Github%20stuff/LionIsACat/Felix_Learn/run_model_lomba.ipynb#ch0000001?line=1'>2</a>\u001b[0m agent_data \u001b[39m=\u001b[39m model\u001b[39m.\u001b[39;49mdatacollector\u001b[39m.\u001b[39;49mget_agent_vars_dataframe()\n\u001b[0;32m      <a href='vscode-notebook-cell:/d%3A/Github%20stuff/LionIsACat/Felix_Learn/run_model_lomba.ipynb#ch0000001?line=2'>3</a>\u001b[0m agent_data\u001b[39m.\u001b[39mhead()\n",
      "File \u001b[1;32mc:\\Users\\cahya\\anaconda3\\envs\\MesaStuff\\lib\\site-packages\\mesa\\datacollection.py:242\u001b[0m, in \u001b[0;36mDataCollector.get_agent_vars_dataframe\u001b[1;34m(self)\u001b[0m\n\u001b[0;32m    <a href='file:///c%3A/Users/cahya/anaconda3/envs/MesaStuff/lib/site-packages/mesa/datacollection.py?line=238'>239</a>\u001b[0m all_records \u001b[39m=\u001b[39m itertools\u001b[39m.\u001b[39mchain\u001b[39m.\u001b[39mfrom_iterable(\u001b[39mself\u001b[39m\u001b[39m.\u001b[39m_agent_records\u001b[39m.\u001b[39mvalues())\n\u001b[0;32m    <a href='file:///c%3A/Users/cahya/anaconda3/envs/MesaStuff/lib/site-packages/mesa/datacollection.py?line=239'>240</a>\u001b[0m rep_names \u001b[39m=\u001b[39m [rep_name \u001b[39mfor\u001b[39;00m rep_name \u001b[39min\u001b[39;00m \u001b[39mself\u001b[39m\u001b[39m.\u001b[39magent_reporters]\n\u001b[1;32m--> <a href='file:///c%3A/Users/cahya/anaconda3/envs/MesaStuff/lib/site-packages/mesa/datacollection.py?line=241'>242</a>\u001b[0m df \u001b[39m=\u001b[39m pd\u001b[39m.\u001b[39;49mDataFrame\u001b[39m.\u001b[39;49mfrom_records(\n\u001b[0;32m    <a href='file:///c%3A/Users/cahya/anaconda3/envs/MesaStuff/lib/site-packages/mesa/datacollection.py?line=242'>243</a>\u001b[0m     data\u001b[39m=\u001b[39;49mall_records,\n\u001b[0;32m    <a href='file:///c%3A/Users/cahya/anaconda3/envs/MesaStuff/lib/site-packages/mesa/datacollection.py?line=243'>244</a>\u001b[0m     columns\u001b[39m=\u001b[39;49m[\u001b[39m\"\u001b[39;49m\u001b[39mStep\u001b[39;49m\u001b[39m\"\u001b[39;49m, \u001b[39m\"\u001b[39;49m\u001b[39mAgentID\u001b[39;49m\u001b[39m\"\u001b[39;49m] \u001b[39m+\u001b[39;49m rep_names,\n\u001b[0;32m    <a href='file:///c%3A/Users/cahya/anaconda3/envs/MesaStuff/lib/site-packages/mesa/datacollection.py?line=244'>245</a>\u001b[0m )\n\u001b[0;32m    <a href='file:///c%3A/Users/cahya/anaconda3/envs/MesaStuff/lib/site-packages/mesa/datacollection.py?line=245'>246</a>\u001b[0m df \u001b[39m=\u001b[39m df\u001b[39m.\u001b[39mset_index([\u001b[39m\"\u001b[39m\u001b[39mStep\u001b[39m\u001b[39m\"\u001b[39m, \u001b[39m\"\u001b[39m\u001b[39mAgentID\u001b[39m\u001b[39m\"\u001b[39m])\n\u001b[0;32m    <a href='file:///c%3A/Users/cahya/anaconda3/envs/MesaStuff/lib/site-packages/mesa/datacollection.py?line=246'>247</a>\u001b[0m \u001b[39mreturn\u001b[39;00m df\n",
      "File \u001b[1;32mc:\\Users\\cahya\\anaconda3\\envs\\MesaStuff\\lib\\site-packages\\pandas\\core\\frame.py:2273\u001b[0m, in \u001b[0;36mDataFrame.from_records\u001b[1;34m(cls, data, index, exclude, columns, coerce_float, nrows)\u001b[0m\n\u001b[0;32m   <a href='file:///c%3A/Users/cahya/anaconda3/envs/MesaStuff/lib/site-packages/pandas/core/frame.py?line=2269'>2270</a>\u001b[0m     columns \u001b[39m=\u001b[39m columns\u001b[39m.\u001b[39mdrop(exclude)\n\u001b[0;32m   <a href='file:///c%3A/Users/cahya/anaconda3/envs/MesaStuff/lib/site-packages/pandas/core/frame.py?line=2271'>2272</a>\u001b[0m manager \u001b[39m=\u001b[39m get_option(\u001b[39m\"\u001b[39m\u001b[39mmode.data_manager\u001b[39m\u001b[39m\"\u001b[39m)\n\u001b[1;32m-> <a href='file:///c%3A/Users/cahya/anaconda3/envs/MesaStuff/lib/site-packages/pandas/core/frame.py?line=2272'>2273</a>\u001b[0m mgr \u001b[39m=\u001b[39m arrays_to_mgr(arrays, columns, result_index, typ\u001b[39m=\u001b[39;49mmanager)\n\u001b[0;32m   <a href='file:///c%3A/Users/cahya/anaconda3/envs/MesaStuff/lib/site-packages/pandas/core/frame.py?line=2274'>2275</a>\u001b[0m \u001b[39mreturn\u001b[39;00m \u001b[39mcls\u001b[39m(mgr)\n",
      "File \u001b[1;32mc:\\Users\\cahya\\anaconda3\\envs\\MesaStuff\\lib\\site-packages\\pandas\\core\\internals\\construction.py:156\u001b[0m, in \u001b[0;36marrays_to_mgr\u001b[1;34m(arrays, columns, index, dtype, verify_integrity, typ, consolidate)\u001b[0m\n\u001b[0;32m    <a href='file:///c%3A/Users/cahya/anaconda3/envs/MesaStuff/lib/site-packages/pandas/core/internals/construction.py?line=152'>153</a>\u001b[0m axes \u001b[39m=\u001b[39m [columns, index]\n\u001b[0;32m    <a href='file:///c%3A/Users/cahya/anaconda3/envs/MesaStuff/lib/site-packages/pandas/core/internals/construction.py?line=154'>155</a>\u001b[0m \u001b[39mif\u001b[39;00m typ \u001b[39m==\u001b[39m \u001b[39m\"\u001b[39m\u001b[39mblock\u001b[39m\u001b[39m\"\u001b[39m:\n\u001b[1;32m--> <a href='file:///c%3A/Users/cahya/anaconda3/envs/MesaStuff/lib/site-packages/pandas/core/internals/construction.py?line=155'>156</a>\u001b[0m     \u001b[39mreturn\u001b[39;00m create_block_manager_from_column_arrays(\n\u001b[0;32m    <a href='file:///c%3A/Users/cahya/anaconda3/envs/MesaStuff/lib/site-packages/pandas/core/internals/construction.py?line=156'>157</a>\u001b[0m         arrays, axes, consolidate\u001b[39m=\u001b[39;49mconsolidate\n\u001b[0;32m    <a href='file:///c%3A/Users/cahya/anaconda3/envs/MesaStuff/lib/site-packages/pandas/core/internals/construction.py?line=157'>158</a>\u001b[0m     )\n\u001b[0;32m    <a href='file:///c%3A/Users/cahya/anaconda3/envs/MesaStuff/lib/site-packages/pandas/core/internals/construction.py?line=158'>159</a>\u001b[0m \u001b[39melif\u001b[39;00m typ \u001b[39m==\u001b[39m \u001b[39m\"\u001b[39m\u001b[39marray\u001b[39m\u001b[39m\"\u001b[39m:\n\u001b[0;32m    <a href='file:///c%3A/Users/cahya/anaconda3/envs/MesaStuff/lib/site-packages/pandas/core/internals/construction.py?line=159'>160</a>\u001b[0m     \u001b[39mreturn\u001b[39;00m ArrayManager(arrays, [index, columns])\n",
      "File \u001b[1;32mc:\\Users\\cahya\\anaconda3\\envs\\MesaStuff\\lib\\site-packages\\pandas\\core\\internals\\managers.py:1959\u001b[0m, in \u001b[0;36mcreate_block_manager_from_column_arrays\u001b[1;34m(arrays, axes, consolidate)\u001b[0m\n\u001b[0;32m   <a href='file:///c%3A/Users/cahya/anaconda3/envs/MesaStuff/lib/site-packages/pandas/core/internals/managers.py?line=1956'>1957</a>\u001b[0m     \u001b[39mraise\u001b[39;00m construction_error(\u001b[39mlen\u001b[39m(arrays), arrays[\u001b[39m0\u001b[39m]\u001b[39m.\u001b[39mshape, axes, e)\n\u001b[0;32m   <a href='file:///c%3A/Users/cahya/anaconda3/envs/MesaStuff/lib/site-packages/pandas/core/internals/managers.py?line=1957'>1958</a>\u001b[0m \u001b[39mif\u001b[39;00m consolidate:\n\u001b[1;32m-> <a href='file:///c%3A/Users/cahya/anaconda3/envs/MesaStuff/lib/site-packages/pandas/core/internals/managers.py?line=1958'>1959</a>\u001b[0m     mgr\u001b[39m.\u001b[39;49m_consolidate_inplace()\n\u001b[0;32m   <a href='file:///c%3A/Users/cahya/anaconda3/envs/MesaStuff/lib/site-packages/pandas/core/internals/managers.py?line=1959'>1960</a>\u001b[0m \u001b[39mreturn\u001b[39;00m mgr\n",
      "File \u001b[1;32mc:\\Users\\cahya\\anaconda3\\envs\\MesaStuff\\lib\\site-packages\\pandas\\core\\internals\\managers.py:1685\u001b[0m, in \u001b[0;36mBlockManager._consolidate_inplace\u001b[1;34m(self)\u001b[0m\n\u001b[0;32m   <a href='file:///c%3A/Users/cahya/anaconda3/envs/MesaStuff/lib/site-packages/pandas/core/internals/managers.py?line=1682'>1683</a>\u001b[0m \u001b[39mdef\u001b[39;00m \u001b[39m_consolidate_inplace\u001b[39m(\u001b[39mself\u001b[39m) \u001b[39m-\u001b[39m\u001b[39m>\u001b[39m \u001b[39mNone\u001b[39;00m:\n\u001b[0;32m   <a href='file:///c%3A/Users/cahya/anaconda3/envs/MesaStuff/lib/site-packages/pandas/core/internals/managers.py?line=1683'>1684</a>\u001b[0m     \u001b[39mif\u001b[39;00m \u001b[39mnot\u001b[39;00m \u001b[39mself\u001b[39m\u001b[39m.\u001b[39mis_consolidated():\n\u001b[1;32m-> <a href='file:///c%3A/Users/cahya/anaconda3/envs/MesaStuff/lib/site-packages/pandas/core/internals/managers.py?line=1684'>1685</a>\u001b[0m         \u001b[39mself\u001b[39m\u001b[39m.\u001b[39mblocks \u001b[39m=\u001b[39m \u001b[39mtuple\u001b[39m(_consolidate(\u001b[39mself\u001b[39;49m\u001b[39m.\u001b[39;49mblocks))\n\u001b[0;32m   <a href='file:///c%3A/Users/cahya/anaconda3/envs/MesaStuff/lib/site-packages/pandas/core/internals/managers.py?line=1685'>1686</a>\u001b[0m         \u001b[39mself\u001b[39m\u001b[39m.\u001b[39m_is_consolidated \u001b[39m=\u001b[39m \u001b[39mTrue\u001b[39;00m\n\u001b[0;32m   <a href='file:///c%3A/Users/cahya/anaconda3/envs/MesaStuff/lib/site-packages/pandas/core/internals/managers.py?line=1686'>1687</a>\u001b[0m         \u001b[39mself\u001b[39m\u001b[39m.\u001b[39m_known_consolidated \u001b[39m=\u001b[39m \u001b[39mTrue\u001b[39;00m\n",
      "File \u001b[1;32mc:\\Users\\cahya\\anaconda3\\envs\\MesaStuff\\lib\\site-packages\\pandas\\core\\internals\\managers.py:2084\u001b[0m, in \u001b[0;36m_consolidate\u001b[1;34m(blocks)\u001b[0m\n\u001b[0;32m   <a href='file:///c%3A/Users/cahya/anaconda3/envs/MesaStuff/lib/site-packages/pandas/core/internals/managers.py?line=2081'>2082</a>\u001b[0m new_blocks: \u001b[39mlist\u001b[39m[Block] \u001b[39m=\u001b[39m []\n\u001b[0;32m   <a href='file:///c%3A/Users/cahya/anaconda3/envs/MesaStuff/lib/site-packages/pandas/core/internals/managers.py?line=2082'>2083</a>\u001b[0m \u001b[39mfor\u001b[39;00m (_can_consolidate, dtype), group_blocks \u001b[39min\u001b[39;00m grouper:\n\u001b[1;32m-> <a href='file:///c%3A/Users/cahya/anaconda3/envs/MesaStuff/lib/site-packages/pandas/core/internals/managers.py?line=2083'>2084</a>\u001b[0m     merged_blocks \u001b[39m=\u001b[39m _merge_blocks(\n\u001b[0;32m   <a href='file:///c%3A/Users/cahya/anaconda3/envs/MesaStuff/lib/site-packages/pandas/core/internals/managers.py?line=2084'>2085</a>\u001b[0m         \u001b[39mlist\u001b[39;49m(group_blocks), dtype\u001b[39m=\u001b[39;49mdtype, can_consolidate\u001b[39m=\u001b[39;49m_can_consolidate\n\u001b[0;32m   <a href='file:///c%3A/Users/cahya/anaconda3/envs/MesaStuff/lib/site-packages/pandas/core/internals/managers.py?line=2085'>2086</a>\u001b[0m     )\n\u001b[0;32m   <a href='file:///c%3A/Users/cahya/anaconda3/envs/MesaStuff/lib/site-packages/pandas/core/internals/managers.py?line=2086'>2087</a>\u001b[0m     new_blocks \u001b[39m=\u001b[39m extend_blocks(merged_blocks, new_blocks)\n\u001b[0;32m   <a href='file:///c%3A/Users/cahya/anaconda3/envs/MesaStuff/lib/site-packages/pandas/core/internals/managers.py?line=2087'>2088</a>\u001b[0m \u001b[39mreturn\u001b[39;00m new_blocks\n",
      "File \u001b[1;32mc:\\Users\\cahya\\anaconda3\\envs\\MesaStuff\\lib\\site-packages\\pandas\\core\\internals\\managers.py:2118\u001b[0m, in \u001b[0;36m_merge_blocks\u001b[1;34m(blocks, dtype, can_consolidate)\u001b[0m\n\u001b[0;32m   <a href='file:///c%3A/Users/cahya/anaconda3/envs/MesaStuff/lib/site-packages/pandas/core/internals/managers.py?line=2114'>2115</a>\u001b[0m     new_values \u001b[39m=\u001b[39m bvals2[\u001b[39m0\u001b[39m]\u001b[39m.\u001b[39m_concat_same_type(bvals2, axis\u001b[39m=\u001b[39m\u001b[39m0\u001b[39m)\n\u001b[0;32m   <a href='file:///c%3A/Users/cahya/anaconda3/envs/MesaStuff/lib/site-packages/pandas/core/internals/managers.py?line=2116'>2117</a>\u001b[0m argsort \u001b[39m=\u001b[39m np\u001b[39m.\u001b[39margsort(new_mgr_locs)\n\u001b[1;32m-> <a href='file:///c%3A/Users/cahya/anaconda3/envs/MesaStuff/lib/site-packages/pandas/core/internals/managers.py?line=2117'>2118</a>\u001b[0m new_values \u001b[39m=\u001b[39m new_values[argsort]\n\u001b[0;32m   <a href='file:///c%3A/Users/cahya/anaconda3/envs/MesaStuff/lib/site-packages/pandas/core/internals/managers.py?line=2118'>2119</a>\u001b[0m new_mgr_locs \u001b[39m=\u001b[39m new_mgr_locs[argsort]\n\u001b[0;32m   <a href='file:///c%3A/Users/cahya/anaconda3/envs/MesaStuff/lib/site-packages/pandas/core/internals/managers.py?line=2120'>2121</a>\u001b[0m bp \u001b[39m=\u001b[39m BlockPlacement(new_mgr_locs)\n",
      "\u001b[1;31mMemoryError\u001b[0m: Unable to allocate 615. MiB for an array with shape (5, 16113600) and data type float64"
     ]
    }
   ],
   "source": [
    "#Ambil data agent\n",
    "agent_data = model.datacollector.get_agent_vars_dataframe()\n",
    "agent_data.head()"
   ]
  },
  {
   "cell_type": "code",
   "execution_count": null,
   "metadata": {},
   "outputs": [
    {
     "data": {
      "text/plain": [
       "AgentID\n",
       "250    False\n",
       "251    False\n",
       "252    False\n",
       "253    False\n",
       "254    False\n",
       "255    False\n",
       "256    False\n",
       "257    False\n",
       "258    False\n",
       "259    False\n",
       "260    False\n",
       "261    False\n",
       "262    False\n",
       "263    False\n",
       "264    False\n",
       "265    False\n",
       "266    False\n",
       "267    False\n",
       "268    False\n",
       "269    False\n",
       "270    False\n",
       "271    False\n",
       "272    False\n",
       "273    False\n",
       "274    False\n",
       "275    False\n",
       "276    False\n",
       "277    False\n",
       "278    False\n",
       "279    False\n",
       "280    False\n",
       "281    False\n",
       "282    False\n",
       "283    False\n",
       "284    False\n",
       "285    False\n",
       "286    False\n",
       "287    False\n",
       "288    False\n",
       "289    False\n",
       "290    False\n",
       "291    False\n",
       "292    False\n",
       "293    False\n",
       "294    False\n",
       "295    False\n",
       "296    False\n",
       "297    False\n",
       "298    False\n",
       "299    False\n",
       "Name: Alive, dtype: object"
      ]
     },
     "execution_count": 3,
     "metadata": {},
     "output_type": "execute_result"
    }
   ],
   "source": [
    "motorist_alive = agent_data.xs(num_of_step-1,level = \"Step\")[\"Alive\"]\n",
    "motorist_id = []\n",
    "for motor in model.motorists:\n",
    "    motorist_id.append(motor.unique_id)\n",
    "motorist_alive[motorist_id]"
   ]
  },
  {
   "cell_type": "code",
   "execution_count": null,
   "metadata": {},
   "outputs": [
    {
     "name": "stdout",
     "output_type": "stream",
     "text": [
      "AgentID\n",
      "300      (0, 0)\n",
      "301     (49, 0)\n",
      "302     (0, 49)\n",
      "303    (49, 49)\n",
      "304    (24, 24)\n",
      "305     (24, 0)\n",
      "306    (24, 49)\n",
      "307     (0, 24)\n",
      "308    (49, 24)\n",
      "309    (11, 11)\n",
      "310    (11, 36)\n",
      "311    (36, 11)\n",
      "312    (36, 36)\n",
      "Name: Position, dtype: object\n"
     ]
    }
   ],
   "source": [
    "\n",
    "agent_pos = agent_data.xs(0,level = \"Step\")[\"Position\"]\n",
    "station_id = []\n",
    "for stat in model.stations:\n",
    "    station_id.append(stat.unique_id)\n",
    "station_pos = agent_pos[station_id]\n",
    "print(station_pos)"
   ]
  },
  {
   "cell_type": "code",
   "execution_count": null,
   "metadata": {},
   "outputs": [
    {
     "name": "stdout",
     "output_type": "stream",
     "text": [
      "AgentID\n",
      "300    10.0\n",
      "301    10.0\n",
      "302    10.0\n",
      "303    10.0\n",
      "304    10.0\n",
      "305    10.0\n",
      "306    10.0\n",
      "307    10.0\n",
      "308    10.0\n",
      "309    10.0\n",
      "310     0.0\n",
      "311     0.0\n",
      "312     0.0\n",
      "Name: Full_battery, dtype: float64\n"
     ]
    }
   ],
   "source": [
    "step_station = num_of_step-1\n",
    "#step_station = 0\n",
    "agent_full = agent_data.xs(step_station,level = \"Step\")[\"Full_battery\"]\n",
    "station_id = []\n",
    "for stat in model.stations:\n",
    "    station_id.append(stat.unique_id)\n",
    "station_full = agent_full[station_id]\n",
    "print(station_full)"
   ]
  },
  {
   "cell_type": "code",
   "execution_count": null,
   "metadata": {},
   "outputs": [
    {
     "name": "stdout",
     "output_type": "stream",
     "text": [
      "AgentID\n",
      "300    0.0\n",
      "301    0.0\n",
      "302    0.0\n",
      "303    0.0\n",
      "304    0.0\n",
      "305    0.0\n",
      "306    0.0\n",
      "307    0.0\n",
      "308    0.0\n",
      "309    0.0\n",
      "310    0.0\n",
      "311    0.0\n",
      "312    0.0\n",
      "Name: Empty_battery, dtype: float64\n"
     ]
    }
   ],
   "source": [
    "agent_empty = agent_data.xs(step_station,level = \"Step\")[\"Empty_battery\"]\n",
    "station_id = []\n",
    "for stat in model.stations:\n",
    "    station_id.append(stat.unique_id)\n",
    "station_empty = agent_empty[station_id]\n",
    "print(station_empty)"
   ]
  },
  {
   "cell_type": "code",
   "execution_count": null,
   "metadata": {},
   "outputs": [
    {
     "name": "stdout",
     "output_type": "stream",
     "text": [
      "AgentID\n",
      "300    10.0\n",
      "301    10.0\n",
      "302    10.0\n",
      "303    10.0\n",
      "304    10.0\n",
      "305    10.0\n",
      "306    10.0\n",
      "307    10.0\n",
      "308    10.0\n",
      "309    10.0\n",
      "310     0.0\n",
      "311     0.0\n",
      "312     0.0\n",
      "Name: CP_full, dtype: float64\n"
     ]
    }
   ],
   "source": [
    "agent_cp_full = agent_data.xs(step_station,level = \"Step\")[\"CP_full\"]\n",
    "station_id = []\n",
    "for stat in model.stations:\n",
    "    station_id.append(stat.unique_id)\n",
    "station_cp_full = agent_cp_full[station_id]\n",
    "print(station_cp_full)"
   ]
  },
  {
   "cell_type": "code",
   "execution_count": null,
   "metadata": {},
   "outputs": [
    {
     "name": "stdout",
     "output_type": "stream",
     "text": [
      "AgentID\n",
      "300    0.0\n",
      "301    0.0\n",
      "302    0.0\n",
      "303    0.0\n",
      "304    0.0\n",
      "305    0.0\n",
      "306    0.0\n",
      "307    0.0\n",
      "308    0.0\n",
      "309    0.0\n",
      "310    0.0\n",
      "311    0.0\n",
      "312    0.0\n",
      "Name: CP_empty, dtype: float64\n"
     ]
    }
   ],
   "source": [
    "agent_cp_empty = agent_data.xs(step_station,level = \"Step\")[\"CP_empty\"]\n",
    "station_id = []\n",
    "for stat in model.stations:\n",
    "    station_id.append(stat.unique_id)\n",
    "station_cp_empty = agent_cp_empty[station_id]\n",
    "print(station_cp_empty)"
   ]
  },
  {
   "cell_type": "code",
   "execution_count": null,
   "metadata": {},
   "outputs": [
    {
     "data": {
      "text/plain": [
       "Step\n",
       "43195    (24, 30)\n",
       "43196    (24, 30)\n",
       "43197    (24, 30)\n",
       "43198    (24, 30)\n",
       "43199    (24, 30)\n",
       "Name: Position, dtype: object"
      ]
     },
     "execution_count": 9,
     "metadata": {},
     "output_type": "execute_result"
    }
   ],
   "source": [
    "#Ambil data motorist\n",
    "driver_num = 1\n",
    "motorist_pos = agent_data.xs(model.motorists[driver_num].unique_id, level = \"AgentID\")[\"Position\"]\n",
    "motorist_pos.head()\n",
    "motorist_pos.tail()"
   ]
  },
  {
   "cell_type": "code",
   "execution_count": null,
   "metadata": {},
   "outputs": [
    {
     "data": {
      "text/plain": [
       "Text(0, 0.5, 'y')"
      ]
     },
     "execution_count": 10,
     "metadata": {},
     "output_type": "execute_result"
    },
    {
     "data": {
      "image/png": "[encoded data removed]",
      "text/plain": [
       "<Figure size 432x288 with 1 Axes>"
      ]
     },
     "metadata": {
      "needs_background": "light"
     },
     "output_type": "display_data"
    }
   ],
   "source": [
    "#Coba plot posisi\n",
    "x_coor = []\n",
    "y_coor = []\n",
    "for coor in motorist_pos:\n",
    "    x_coor.append(coor[0])\n",
    "    y_coor.append(coor[1])\n",
    "\n",
    "\n",
    "\n",
    "plt.plot(x_coor,y_coor)\n",
    "for i in range(model.num_of_stations):\n",
    "    plt.plot(model.stations[i].pos[0],model.stations[i].pos[1],color = \"red\", marker = 'o')\n",
    "plt.xlim([0,map_width])\n",
    "plt.ylim([0,map_height])\n",
    "plt.title('Posisi driver ' + str(driver_num))\n",
    "plt.axis('scaled')\n",
    "plt.xlabel('x')\n",
    "plt.ylabel('y')"
   ]
  },
  {
   "cell_type": "code",
   "execution_count": null,
   "metadata": {},
   "outputs": [
    {
     "data": {
      "text/plain": [
       "<AxesSubplot:xlabel='Step'>"
      ]
     },
     "execution_count": 15,
     "metadata": {},
     "output_type": "execute_result"
    },
    {
     "data": {
      "image/png": "[encoded data removed]",
      "text/plain": [
       "<Figure size 432x288 with 1 Axes>"
      ]
     },
     "metadata": {
      "needs_background": "light"
     },
     "output_type": "display_data"
    }
   ],
   "source": [
    "#Cek baterai\n",
    "battery_id = 0\n",
    "battery_energy = agent_data.xs(battery_id, level = \"AgentID\")[\"Charge\"]\n",
    "battery_energy.plot()\n",
    "\n"
   ]
  },
  {
   "cell_type": "code",
   "execution_count": null,
   "metadata": {},
   "outputs": [
    {
     "data": {
      "text/html": [
       "<div>\n",
       "<style scoped>\n",
       "    .dataframe tbody tr th:only-of-type {\n",
       "        vertical-align: middle;\n",
       "    }\n",
       "\n",
       "    .dataframe tbody tr th {\n",
       "        vertical-align: top;\n",
       "    }\n",
       "\n",
       "    .dataframe thead th {\n",
       "        text-align: right;\n",
       "    }\n",
       "</style>\n",
       "<table border=\"1\" class=\"dataframe\">\n",
       "  <thead>\n",
       "    <tr style=\"text-align: right;\">\n",
       "      <th></th>\n",
       "      <th>num_of_alive</th>\n",
       "    </tr>\n",
       "  </thead>\n",
       "  <tbody>\n",
       "    <tr>\n",
       "      <th>43195</th>\n",
       "      <td>0</td>\n",
       "    </tr>\n",
       "    <tr>\n",
       "      <th>43196</th>\n",
       "      <td>0</td>\n",
       "    </tr>\n",
       "    <tr>\n",
       "      <th>43197</th>\n",
       "      <td>0</td>\n",
       "    </tr>\n",
       "    <tr>\n",
       "      <th>43198</th>\n",
       "      <td>0</td>\n",
       "    </tr>\n",
       "    <tr>\n",
       "      <th>43199</th>\n",
       "      <td>0</td>\n",
       "    </tr>\n",
       "  </tbody>\n",
       "</table>\n",
       "</div>"
      ],
      "text/plain": [
       "       num_of_alive\n",
       "43195             0\n",
       "43196             0\n",
       "43197             0\n",
       "43198             0\n",
       "43199             0"
      ]
     },
     "execution_count": 12,
     "metadata": {},
     "output_type": "execute_result"
    }
   ],
   "source": [
    "model_data = model.datacollector.get_model_vars_dataframe()\n",
    "model_data.tail()"
   ]
  },
  {
   "cell_type": "code",
   "execution_count": null,
   "metadata": {},
   "outputs": [
    {
     "data": {
      "text/plain": [
       "Text(0.5, 0, 'Steps')"
      ]
     },
     "execution_count": 13,
     "metadata": {},
     "output_type": "execute_result"
    },
    {
     "data": {
      "image/png": "[encoded data removed]",
      "text/plain": [
       "<Figure size 432x288 with 1 Axes>"
      ]
     },
     "metadata": {
      "needs_background": "light"
     },
     "output_type": "display_data"
    }
   ],
   "source": [
    "plt.plot(model_data)\n",
    "plt.ylim([0,51])\n",
    "plt.ylabel(\"Alive agents\")\n",
    "plt.xlabel(\"Steps\")"
   ]
  },
  {
   "cell_type": "code",
   "execution_count": null,
   "metadata": {},
   "outputs": [
    {
     "name": "stdout",
     "output_type": "stream",
     "text": [
      "[1, 2]\n"
     ]
    }
   ],
   "source": [
    "a = [1,2,3]\n",
    "b = a\n",
    "b.remove(3)\n",
    "print(a)"
   ]
  },
  {
   "cell_type": "code",
   "execution_count": null,
   "metadata": {},
   "outputs": [],
   "source": []
  }
 ],
 "metadata": {
  "interpreter": {
   "hash": "01b07622e70bd395a2752035dc46b10d078c71dd2d47db2798274c416a1d113f"
  },
  "kernelspec": {
   "display_name": "Python 3.8.13 ('MesaStuff')",
   "language": "python",
   "name": "python3"
  },
  "language_info": {
   "codemirror_mode": {
    "name": "ipython",
    "version": 3
   },
   "file_extension": ".py",
   "mimetype": "text/x-python",
   "name": "python",
   "nbconvert_exporter": "python",
   "pygments_lexer": "ipython3",
   "version": "3.8.13"
  },
  "orig_nbformat": 4
 },
 "nbformat": 4,
 "nbformat_minor": 2
}
