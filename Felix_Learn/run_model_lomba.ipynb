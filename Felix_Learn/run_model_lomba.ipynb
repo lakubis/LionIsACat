{
 "cells": [
  {
   "cell_type": "code",
   "execution_count": 1,
   "metadata": {},
   "outputs": [],
   "source": [
    "from model_lomba import *\n",
    "import matplotlib.pyplot as plt\n",
    "\n",
    "map_width = 20\n",
    "map_height = 20\n",
    "moore = True\n",
    "model = switching_model(1,1,5,2,width=map_width,height=map_height,moore=moore)\n",
    "\n",
    "#Dalam menit\n",
    "#num_of_step = 24*60\n",
    "num_of_step = 100\n",
    "for i in range(num_of_step):\n",
    "    model.step()"
   ]
  },
  {
   "cell_type": "code",
   "execution_count": 2,
   "metadata": {},
   "outputs": [
    {
     "data": {
      "text/html": [
       "<div>\n",
       "<style scoped>\n",
       "    .dataframe tbody tr th:only-of-type {\n",
       "        vertical-align: middle;\n",
       "    }\n",
       "\n",
       "    .dataframe tbody tr th {\n",
       "        vertical-align: top;\n",
       "    }\n",
       "\n",
       "    .dataframe thead th {\n",
       "        text-align: right;\n",
       "    }\n",
       "</style>\n",
       "<table border=\"1\" class=\"dataframe\">\n",
       "  <thead>\n",
       "    <tr style=\"text-align: right;\">\n",
       "      <th></th>\n",
       "      <th></th>\n",
       "      <th>Position</th>\n",
       "    </tr>\n",
       "    <tr>\n",
       "      <th>Step</th>\n",
       "      <th>AgentID</th>\n",
       "      <th></th>\n",
       "    </tr>\n",
       "  </thead>\n",
       "  <tbody>\n",
       "    <tr>\n",
       "      <th rowspan=\"5\" valign=\"top\">0</th>\n",
       "      <th>0</th>\n",
       "      <td>None</td>\n",
       "    </tr>\n",
       "    <tr>\n",
       "      <th>1</th>\n",
       "      <td>None</td>\n",
       "    </tr>\n",
       "    <tr>\n",
       "      <th>2</th>\n",
       "      <td>None</td>\n",
       "    </tr>\n",
       "    <tr>\n",
       "      <th>3</th>\n",
       "      <td>None</td>\n",
       "    </tr>\n",
       "    <tr>\n",
       "      <th>4</th>\n",
       "      <td>None</td>\n",
       "    </tr>\n",
       "  </tbody>\n",
       "</table>\n",
       "</div>"
      ],
      "text/plain": [
       "             Position\n",
       "Step AgentID         \n",
       "0    0           None\n",
       "     1           None\n",
       "     2           None\n",
       "     3           None\n",
       "     4           None"
      ]
     },
     "execution_count": 2,
     "metadata": {},
     "output_type": "execute_result"
    }
   ],
   "source": [
    "#Ambil data agent\n",
    "agent_data = model.datacollector.get_agent_vars_dataframe()\n",
    "agent_data.head()"
   ]
  },
  {
   "cell_type": "code",
   "execution_count": 3,
   "metadata": {},
   "outputs": [
    {
     "data": {
      "text/plain": [
       "Step\n",
       "0     (0, 16)\n",
       "1    (19, 16)\n",
       "2    (19, 17)\n",
       "3    (19, 16)\n",
       "4    (18, 15)\n",
       "Name: Position, dtype: object"
      ]
     },
     "execution_count": 3,
     "metadata": {},
     "output_type": "execute_result"
    }
   ],
   "source": [
    "#Ambil data motorist\n",
    "motorist_pos = agent_data.xs(model.motorists[0].unique_id, level = \"AgentID\")[\"Position\"]\n",
    "motorist_pos.head()"
   ]
  },
  {
   "cell_type": "code",
   "execution_count": 4,
   "metadata": {},
   "outputs": [
    {
     "data": {
      "text/plain": [
       "Text(0, 0.5, 'y')"
      ]
     },
     "execution_count": 4,
     "metadata": {},
     "output_type": "execute_result"
    },
    {
     "data": {
      "image/png": "[encoded data removed]",
      "text/plain": [
       "<Figure size 432x288 with 1 Axes>"
      ]
     },
     "metadata": {
      "needs_background": "light"
     },
     "output_type": "display_data"
    }
   ],
   "source": [
    "#Coba plot posisi\n",
    "x_coor = []\n",
    "y_coor = []\n",
    "for coor in motorist_pos:\n",
    "    x_coor.append(coor[0])\n",
    "    y_coor.append(coor[1])\n",
    "\n",
    "plt.plot(x_coor,y_coor)\n",
    "plt.xlim([0,map_width])\n",
    "plt.ylim([0,map_height])\n",
    "plt.title('Posisi driver 1')\n",
    "plt.xlabel('x')\n",
    "plt.ylabel('y')"
   ]
  }
 ],
 "metadata": {
  "interpreter": {
   "hash": "01b07622e70bd395a2752035dc46b10d078c71dd2d47db2798274c416a1d113f"
  },
  "kernelspec": {
   "display_name": "Python 3.8.13 ('MesaStuff')",
   "language": "python",
   "name": "python3"
  },
  "language_info": {
   "codemirror_mode": {
    "name": "ipython",
    "version": 3
   },
   "file_extension": ".py",
   "mimetype": "text/x-python",
   "name": "python",
   "nbconvert_exporter": "python",
   "pygments_lexer": "ipython3",
   "version": "3.8.13"
  },
  "orig_nbformat": 4
 },
 "nbformat": 4,
 "nbformat_minor": 2
}
