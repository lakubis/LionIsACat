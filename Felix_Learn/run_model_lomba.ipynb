{
 "cells": [
  {
   "cell_type": "code",
   "execution_count": 114,
   "metadata": {},
   "outputs": [
    {
     "name": "stdout",
     "output_type": "stream",
     "text": [
      "9\n"
     ]
    }
   ],
   "source": [
    "from model_lomba import *\n",
    "import matplotlib.pyplot as plt\n",
    "import seaborn as sns\n",
    "\n",
    "map_width = 50\n",
    "map_height = 50\n",
    "moore = False\n",
    "model = switching_model(num_of_motorist=50,num_of_stations=10,inv_size=10,cp_size= 10,width=map_width,height=map_height,moore=moore, configuration=\"normal\")\n",
    "\n",
    "#Dalam menit\n",
    "num_of_step = 14*24*60\n",
    "#num_of_step = 100\n",
    "for i in range(num_of_step):\n",
    "    model.step()"
   ]
  },
  {
   "cell_type": "code",
   "execution_count": 115,
   "metadata": {},
   "outputs": [
    {
     "data": {
      "text/html": [
       "<div>\n",
       "<style scoped>\n",
       "    .dataframe tbody tr th:only-of-type {\n",
       "        vertical-align: middle;\n",
       "    }\n",
       "\n",
       "    .dataframe tbody tr th {\n",
       "        vertical-align: top;\n",
       "    }\n",
       "\n",
       "    .dataframe thead th {\n",
       "        text-align: right;\n",
       "    }\n",
       "</style>\n",
       "<table border=\"1\" class=\"dataframe\">\n",
       "  <thead>\n",
       "    <tr style=\"text-align: right;\">\n",
       "      <th></th>\n",
       "      <th></th>\n",
       "      <th>Position</th>\n",
       "      <th>Charge</th>\n",
       "      <th>Alive</th>\n",
       "      <th>Full_battery</th>\n",
       "      <th>Empty_battery</th>\n",
       "      <th>CP_full</th>\n",
       "      <th>CP_empty</th>\n",
       "    </tr>\n",
       "    <tr>\n",
       "      <th>Step</th>\n",
       "      <th>AgentID</th>\n",
       "      <th></th>\n",
       "      <th></th>\n",
       "      <th></th>\n",
       "      <th></th>\n",
       "      <th></th>\n",
       "      <th></th>\n",
       "      <th></th>\n",
       "    </tr>\n",
       "  </thead>\n",
       "  <tbody>\n",
       "    <tr>\n",
       "      <th rowspan=\"5\" valign=\"top\">0</th>\n",
       "      <th>0</th>\n",
       "      <td>None</td>\n",
       "      <td>2600.0</td>\n",
       "      <td>None</td>\n",
       "      <td>NaN</td>\n",
       "      <td>NaN</td>\n",
       "      <td>NaN</td>\n",
       "      <td>NaN</td>\n",
       "    </tr>\n",
       "    <tr>\n",
       "      <th>1</th>\n",
       "      <td>None</td>\n",
       "      <td>2600.0</td>\n",
       "      <td>None</td>\n",
       "      <td>NaN</td>\n",
       "      <td>NaN</td>\n",
       "      <td>NaN</td>\n",
       "      <td>NaN</td>\n",
       "    </tr>\n",
       "    <tr>\n",
       "      <th>2</th>\n",
       "      <td>None</td>\n",
       "      <td>2600.0</td>\n",
       "      <td>None</td>\n",
       "      <td>NaN</td>\n",
       "      <td>NaN</td>\n",
       "      <td>NaN</td>\n",
       "      <td>NaN</td>\n",
       "    </tr>\n",
       "    <tr>\n",
       "      <th>3</th>\n",
       "      <td>None</td>\n",
       "      <td>2600.0</td>\n",
       "      <td>None</td>\n",
       "      <td>NaN</td>\n",
       "      <td>NaN</td>\n",
       "      <td>NaN</td>\n",
       "      <td>NaN</td>\n",
       "    </tr>\n",
       "    <tr>\n",
       "      <th>4</th>\n",
       "      <td>None</td>\n",
       "      <td>2600.0</td>\n",
       "      <td>None</td>\n",
       "      <td>NaN</td>\n",
       "      <td>NaN</td>\n",
       "      <td>NaN</td>\n",
       "      <td>NaN</td>\n",
       "    </tr>\n",
       "  </tbody>\n",
       "</table>\n",
       "</div>"
      ],
      "text/plain": [
       "             Position  Charge Alive  Full_battery  Empty_battery  CP_full  \\\n",
       "Step AgentID                                                                \n",
       "0    0           None  2600.0  None           NaN            NaN      NaN   \n",
       "     1           None  2600.0  None           NaN            NaN      NaN   \n",
       "     2           None  2600.0  None           NaN            NaN      NaN   \n",
       "     3           None  2600.0  None           NaN            NaN      NaN   \n",
       "     4           None  2600.0  None           NaN            NaN      NaN   \n",
       "\n",
       "              CP_empty  \n",
       "Step AgentID            \n",
       "0    0             NaN  \n",
       "     1             NaN  \n",
       "     2             NaN  \n",
       "     3             NaN  \n",
       "     4             NaN  "
      ]
     },
     "execution_count": 115,
     "metadata": {},
     "output_type": "execute_result"
    }
   ],
   "source": [
    "#Ambil data agent\n",
    "agent_data = model.datacollector.get_agent_vars_dataframe()\n",
    "agent_data.head()"
   ]
  },
  {
   "cell_type": "code",
   "execution_count": 116,
   "metadata": {},
   "outputs": [
    {
     "data": {
      "text/plain": [
       "AgentID\n",
       "230     True\n",
       "231     True\n",
       "232     True\n",
       "233     True\n",
       "234     True\n",
       "235     True\n",
       "236     True\n",
       "237     True\n",
       "238     True\n",
       "239    False\n",
       "240    False\n",
       "241     True\n",
       "242     True\n",
       "243     True\n",
       "244     True\n",
       "245     True\n",
       "246     True\n",
       "247     True\n",
       "248     True\n",
       "249    False\n",
       "250     True\n",
       "251     True\n",
       "252     True\n",
       "253     True\n",
       "254     True\n",
       "255     True\n",
       "256     True\n",
       "257     True\n",
       "258     True\n",
       "259     True\n",
       "260     True\n",
       "261     True\n",
       "262     True\n",
       "263     True\n",
       "264     True\n",
       "265     True\n",
       "266     True\n",
       "267     True\n",
       "268     True\n",
       "269     True\n",
       "270     True\n",
       "271     True\n",
       "272     True\n",
       "273     True\n",
       "274     True\n",
       "275    False\n",
       "276     True\n",
       "277     True\n",
       "278    False\n",
       "279     True\n",
       "Name: Alive, dtype: object"
      ]
     },
     "execution_count": 116,
     "metadata": {},
     "output_type": "execute_result"
    }
   ],
   "source": [
    "motorist_alive = agent_data.xs(num_of_step-1,level = \"Step\")[\"Alive\"]\n",
    "motorist_id = []\n",
    "for motor in model.motorists:\n",
    "    motorist_id.append(motor.unique_id)\n",
    "motorist_alive[motorist_id]"
   ]
  },
  {
   "cell_type": "code",
   "execution_count": 117,
   "metadata": {},
   "outputs": [
    {
     "name": "stdout",
     "output_type": "stream",
     "text": [
      "AgentID\n",
      "280      (0, 0)\n",
      "281     (49, 0)\n",
      "282     (0, 49)\n",
      "283    (49, 49)\n",
      "284    (24, 24)\n",
      "285     (24, 0)\n",
      "286    (24, 49)\n",
      "287     (0, 24)\n",
      "288    (49, 24)\n",
      "Name: Position, dtype: object\n"
     ]
    }
   ],
   "source": [
    "\n",
    "agent_pos = agent_data.xs(0,level = \"Step\")[\"Position\"]\n",
    "station_id = []\n",
    "for stat in model.stations:\n",
    "    station_id.append(stat.unique_id)\n",
    "station_pos = agent_pos[station_id]\n",
    "print(station_pos)"
   ]
  },
  {
   "cell_type": "code",
   "execution_count": 118,
   "metadata": {},
   "outputs": [
    {
     "name": "stdout",
     "output_type": "stream",
     "text": [
      "AgentID\n",
      "280    10.0\n",
      "281    10.0\n",
      "282    10.0\n",
      "283    10.0\n",
      "284     7.0\n",
      "285    10.0\n",
      "286    10.0\n",
      "287    10.0\n",
      "288    10.0\n",
      "Name: Full_battery, dtype: float64\n"
     ]
    }
   ],
   "source": [
    "step_station = num_of_step-1\n",
    "#step_station = 0\n",
    "agent_full = agent_data.xs(step_station,level = \"Step\")[\"Full_battery\"]\n",
    "station_id = []\n",
    "for stat in model.stations:\n",
    "    station_id.append(stat.unique_id)\n",
    "station_full = agent_full[station_id]\n",
    "print(station_full)"
   ]
  },
  {
   "cell_type": "code",
   "execution_count": 119,
   "metadata": {},
   "outputs": [
    {
     "name": "stdout",
     "output_type": "stream",
     "text": [
      "AgentID\n",
      "280    0.0\n",
      "281    0.0\n",
      "282    0.0\n",
      "283    0.0\n",
      "284    3.0\n",
      "285    0.0\n",
      "286    0.0\n",
      "287    0.0\n",
      "288    0.0\n",
      "Name: Empty_battery, dtype: float64\n"
     ]
    }
   ],
   "source": [
    "agent_empty = agent_data.xs(step_station,level = \"Step\")[\"Empty_battery\"]\n",
    "station_id = []\n",
    "for stat in model.stations:\n",
    "    station_id.append(stat.unique_id)\n",
    "station_empty = agent_empty[station_id]\n",
    "print(station_empty)"
   ]
  },
  {
   "cell_type": "code",
   "execution_count": 120,
   "metadata": {},
   "outputs": [
    {
     "name": "stdout",
     "output_type": "stream",
     "text": [
      "AgentID\n",
      "280     7.0\n",
      "281     6.0\n",
      "282    10.0\n",
      "283     5.0\n",
      "284     0.0\n",
      "285     5.0\n",
      "286     6.0\n",
      "287     2.0\n",
      "288     7.0\n",
      "Name: CP_full, dtype: float64\n"
     ]
    }
   ],
   "source": [
    "agent_cp_full = agent_data.xs(step_station,level = \"Step\")[\"CP_full\"]\n",
    "station_id = []\n",
    "for stat in model.stations:\n",
    "    station_id.append(stat.unique_id)\n",
    "station_cp_full = agent_cp_full[station_id]\n",
    "print(station_cp_full)"
   ]
  },
  {
   "cell_type": "code",
   "execution_count": 121,
   "metadata": {},
   "outputs": [
    {
     "name": "stdout",
     "output_type": "stream",
     "text": [
      "AgentID\n",
      "280     3.0\n",
      "281     4.0\n",
      "282     0.0\n",
      "283     5.0\n",
      "284    10.0\n",
      "285     5.0\n",
      "286     4.0\n",
      "287     8.0\n",
      "288     3.0\n",
      "Name: CP_empty, dtype: float64\n"
     ]
    }
   ],
   "source": [
    "agent_cp_empty = agent_data.xs(step_station,level = \"Step\")[\"CP_empty\"]\n",
    "station_id = []\n",
    "for stat in model.stations:\n",
    "    station_id.append(stat.unique_id)\n",
    "station_cp_empty = agent_cp_empty[station_id]\n",
    "print(station_cp_empty)"
   ]
  },
  {
   "cell_type": "code",
   "execution_count": 122,
   "metadata": {},
   "outputs": [
    {
     "data": {
      "text/plain": [
       "Step\n",
       "20155    (48, 17)\n",
       "20156    (47, 17)\n",
       "20157    (47, 16)\n",
       "20158    (47, 17)\n",
       "20159    (46, 17)\n",
       "Name: Position, dtype: object"
      ]
     },
     "execution_count": 122,
     "metadata": {},
     "output_type": "execute_result"
    }
   ],
   "source": [
    "#Ambil data motorist\n",
    "driver_num = 1\n",
    "motorist_pos = agent_data.xs(model.motorists[driver_num].unique_id, level = \"AgentID\")[\"Position\"]\n",
    "motorist_pos.head()\n",
    "motorist_pos.tail()"
   ]
  },
  {
   "cell_type": "code",
   "execution_count": 123,
   "metadata": {},
   "outputs": [
    {
     "data": {
      "text/plain": [
       "Text(0, 0.5, 'y')"
      ]
     },
     "execution_count": 123,
     "metadata": {},
     "output_type": "execute_result"
    },
    {
     "data": {
      "image/png": "[encoded data removed]",
      "text/plain": [
       "<Figure size 432x288 with 1 Axes>"
      ]
     },
     "metadata": {
      "needs_background": "light"
     },
     "output_type": "display_data"
    }
   ],
   "source": [
    "#Coba plot posisi\n",
    "x_coor = []\n",
    "y_coor = []\n",
    "for coor in motorist_pos:\n",
    "    x_coor.append(coor[0])\n",
    "    y_coor.append(coor[1])\n",
    "\n",
    "\n",
    "\n",
    "plt.plot(x_coor,y_coor)\n",
    "for i in range(model.num_of_stations):\n",
    "    plt.plot(model.stations[i].pos[0],model.stations[i].pos[1],color = \"red\", marker = 'o')\n",
    "plt.xlim([0,map_width])\n",
    "plt.ylim([0,map_height])\n",
    "plt.title('Posisi driver ' + str(driver_num))\n",
    "plt.axis('scaled')\n",
    "plt.xlabel('x')\n",
    "plt.ylabel('y')"
   ]
  },
  {
   "cell_type": "code",
   "execution_count": 124,
   "metadata": {},
   "outputs": [
    {
     "data": {
      "text/plain": [
       "<AxesSubplot:xlabel='Step'>"
      ]
     },
     "execution_count": 124,
     "metadata": {},
     "output_type": "execute_result"
    },
    {
     "data": {
      "image/png": "[encoded data removed]",
      "text/plain": [
       "<Figure size 432x288 with 1 Axes>"
      ]
     },
     "metadata": {
      "needs_background": "light"
     },
     "output_type": "display_data"
    }
   ],
   "source": [
    "#Cek baterai\n",
    "battery_id = 0\n",
    "battery_energy = agent_data.xs(battery_id, level = \"AgentID\")[\"Charge\"]\n",
    "battery_energy.plot()\n",
    "\n"
   ]
  },
  {
   "cell_type": "code",
   "execution_count": 125,
   "metadata": {},
   "outputs": [
    {
     "data": {
      "text/html": [
       "<div>\n",
       "<style scoped>\n",
       "    .dataframe tbody tr th:only-of-type {\n",
       "        vertical-align: middle;\n",
       "    }\n",
       "\n",
       "    .dataframe tbody tr th {\n",
       "        vertical-align: top;\n",
       "    }\n",
       "\n",
       "    .dataframe thead th {\n",
       "        text-align: right;\n",
       "    }\n",
       "</style>\n",
       "<table border=\"1\" class=\"dataframe\">\n",
       "  <thead>\n",
       "    <tr style=\"text-align: right;\">\n",
       "      <th></th>\n",
       "      <th>num_of_alive</th>\n",
       "    </tr>\n",
       "  </thead>\n",
       "  <tbody>\n",
       "    <tr>\n",
       "      <th>20155</th>\n",
       "      <td>45</td>\n",
       "    </tr>\n",
       "    <tr>\n",
       "      <th>20156</th>\n",
       "      <td>45</td>\n",
       "    </tr>\n",
       "    <tr>\n",
       "      <th>20157</th>\n",
       "      <td>45</td>\n",
       "    </tr>\n",
       "    <tr>\n",
       "      <th>20158</th>\n",
       "      <td>45</td>\n",
       "    </tr>\n",
       "    <tr>\n",
       "      <th>20159</th>\n",
       "      <td>45</td>\n",
       "    </tr>\n",
       "  </tbody>\n",
       "</table>\n",
       "</div>"
      ],
      "text/plain": [
       "       num_of_alive\n",
       "20155            45\n",
       "20156            45\n",
       "20157            45\n",
       "20158            45\n",
       "20159            45"
      ]
     },
     "execution_count": 125,
     "metadata": {},
     "output_type": "execute_result"
    }
   ],
   "source": [
    "model_data = model.datacollector.get_model_vars_dataframe()\n",
    "model_data.tail()"
   ]
  },
  {
   "cell_type": "code",
   "execution_count": 126,
   "metadata": {},
   "outputs": [
    {
     "data": {
      "text/plain": [
       "Text(0.5, 0, 'Steps')"
      ]
     },
     "execution_count": 126,
     "metadata": {},
     "output_type": "execute_result"
    },
    {
     "data": {
      "image/png": "[encoded data removed]",
      "text/plain": [
       "<Figure size 432x288 with 1 Axes>"
      ]
     },
     "metadata": {
      "needs_background": "light"
     },
     "output_type": "display_data"
    }
   ],
   "source": [
    "plt.plot(model_data)\n",
    "plt.ylim([0,51])\n",
    "plt.ylabel(\"Alive agents\")\n",
    "plt.xlabel(\"Steps\")"
   ]
  },
  {
   "cell_type": "code",
   "execution_count": 127,
   "metadata": {},
   "outputs": [
    {
     "name": "stdout",
     "output_type": "stream",
     "text": [
      "[1, 2]\n"
     ]
    }
   ],
   "source": [
    "a = [1,2,3]\n",
    "b = a\n",
    "b.remove(3)\n",
    "print(a)"
   ]
  },
  {
   "cell_type": "code",
   "execution_count": 128,
   "metadata": {},
   "outputs": [
    {
     "name": "stdout",
     "output_type": "stream",
     "text": [
      "['Position', 'Charge', 'Alive', 'Full_battery', 'Empty_battery', 'CP_full', 'CP_empty']\n"
     ]
    }
   ],
   "source": [
    "print(agent_data.columns.tolist())"
   ]
  },
  {
   "cell_type": "code",
   "execution_count": 129,
   "metadata": {},
   "outputs": [
    {
     "name": "stdout",
     "output_type": "stream",
     "text": [
      "923240\n"
     ]
    }
   ],
   "source": [
    "\n",
    "\n",
    "#dapetin semua motor\n",
    "motorist_id = []\n",
    "for mot in model.motorists:\n",
    "    motorist_id.append(mot.unique_id)\n",
    "\n",
    "#ID motor pertama dan terakhir\n",
    "first_motor = min(motorist_id)\n",
    "last_motor = max(motorist_id)\n",
    "\n",
    "#Ambil data motor doang\n",
    "motorist_data = agent_data.loc[(agent_data.index.get_level_values('AgentID')>=first_motor) & (agent_data.index.get_level_values('AgentID') <=last_motor)]\n",
    "\n",
    "\n",
    "motorist_alive_position = motorist_data.loc[motorist_data['Alive'] == True][\"Position\"]\n",
    "motorist_alive_position.tail()\n",
    "\n",
    "#print jumlah baris\n",
    "print(len(motorist_alive_position.index))"
   ]
  },
  {
   "cell_type": "code",
   "execution_count": 130,
   "metadata": {},
   "outputs": [
    {
     "name": "stdout",
     "output_type": "stream",
     "text": [
      "923240\n"
     ]
    }
   ],
   "source": [
    "array_alive_positions = motorist_alive_position.tolist()\n",
    "print(len(array_alive_positions))"
   ]
  },
  {
   "cell_type": "code",
   "execution_count": 131,
   "metadata": {},
   "outputs": [
    {
     "data": {
      "text/plain": [
       "Text(33.0, 0.5, 'y')"
      ]
     },
     "execution_count": 131,
     "metadata": {},
     "output_type": "execute_result"
    },
    {
     "data": {
      "image/png": "[encoded data removed]",
      "text/plain": [
       "<Figure size 432x288 with 2 Axes>"
      ]
     },
     "metadata": {
      "needs_background": "light"
     },
     "output_type": "display_data"
    }
   ],
   "source": [
    "heatmap_data = np.zeros((model.grid.width, model.grid.height))\n",
    "for coor in array_alive_positions:\n",
    "    x,y = coor\n",
    "    heatmap_data[x,y] +=1\n",
    "\n",
    "most_frequent = np.amax(heatmap_data)\n",
    "norm_heatmap_data = heatmap_data/most_frequent\n",
    "\n",
    "ax = sns.heatmap(norm_heatmap_data)\n",
    "ax.invert_yaxis()\n",
    "plt.axis('equal')\n",
    "ax.axes.xaxis.set_ticklabels([])\n",
    "ax.axes.yaxis.set_ticklabels([])\n",
    "plt.tick_params(left = False, bottom = False)\n",
    "ax.set_xlabel('x')\n",
    "ax.set_ylabel('y')\n",
    "\n",
    "\n",
    "\n",
    "    "
   ]
  },
  {
   "cell_type": "code",
   "execution_count": null,
   "metadata": {},
   "outputs": [],
   "source": []
  }
 ],
 "metadata": {
  "interpreter": {
   "hash": "01b07622e70bd395a2752035dc46b10d078c71dd2d47db2798274c416a1d113f"
  },
  "kernelspec": {
   "display_name": "Python 3.8.13 ('MesaStuff')",
   "language": "python",
   "name": "python3"
  },
  "language_info": {
   "codemirror_mode": {
    "name": "ipython",
    "version": 3
   },
   "file_extension": ".py",
   "mimetype": "text/x-python",
   "name": "python",
   "nbconvert_exporter": "python",
   "pygments_lexer": "ipython3",
   "version": "3.8.13"
  },
  "orig_nbformat": 4
 },
 "nbformat": 4,
 "nbformat_minor": 2
}
