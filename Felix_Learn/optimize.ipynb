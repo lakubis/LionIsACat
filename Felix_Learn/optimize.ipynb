{
 "cells": [
  {
   "cell_type": "markdown",
   "metadata": {},
   "source": [
    "# Optimize"
   ]
  },
  {
   "cell_type": "code",
   "execution_count": null,
   "metadata": {},
   "outputs": [],
   "source": [
    "from model_lomba import *\n",
    "import matplotlib.pyplot as plt\n",
    "import seaborn as sns\n",
    "\n",
    "demand = [0.2,0.3,0.5,0.65,0.8,0.9,1.0,1.0,1.0,1.0,1.0,1.0,0.9,0.8,0.65,0.45,0.3,0.2,0.1,0.1,0.1,0.1,0.1,0.1]\n",
    "hour = [\"06:00\",\"07:00\",\"08:00\",\"09:00\",\"10:00\",\"11:00\",\"12:00\",\"13:00\",\"14:00\",\"15:00\",\"16:00\",\"17:00\",\"18:00\",\"19:00\",\"20:00\",\"21:00\",\"22:00\",\"23:00\",\"00:00\",\"01:00\",\"02:00\",\"03:00\",\"04:00\",\"05:00\"]\n",
    "print(len(demand))\n",
    "print(len(hour))\n",
    "\n",
    "plt.plot(hour,demand)\n",
    "plt.xticks(rotation = 'vertical')\n",
    "plt.xlabel('Time')\n",
    "plt.ylabel('Probability distribution')\n",
    "plt.title('')\n",
    "plt.ylim([0.0,1.1])\n",
    "#plt.tight_layout()\n",
    "#plt.savefig('Prob-dist.png', format = 'png' )\n",
    "plt.show()"
   ]
  },
  {
   "cell_type": "code",
   "execution_count": null,
   "metadata": {},
   "outputs": [],
   "source": [
    "model = switching_model(num_of_motorist=50,num_of_stations=16,inv_size=inv_size,cp_size= cp_size,width=map_width,height=map_height,moore=moore, configuration=\"random\", demand = demand)\n",
    "\n",
    "#Dalam menit\n",
    "days = 30\n",
    "num_of_step = days*24*60\n",
    "#num_of_step = 100\n",
    "for i in range(num_of_step):\n",
    "    model.step()\n",
    "agent_data = model.datacollector.get_agent_vars_dataframe()\n",
    "agent_data.head()"
   ]
  },
  {
   "cell_type": "code",
   "execution_count": null,
   "metadata": {},
   "outputs": [],
   "source": [
    "map_width = 50\n",
    "map_height = 50\n",
    "moore = False\n",
    "num_of_motorist = 50\n",
    "\n",
    "def optimize(start = 0, \n",
    "            stop = 8, \n",
    "            day = 14,\n",
    "            sim = 30,\n",
    "            config = 'random'):\n",
    "    '''\n",
    "    start : Minumum search\n",
    "    stop : Maximum search\n",
    "    day : number of days\n",
    "    sim : number of simulation\n",
    "    config : distribution of the station\n",
    "    '''\n",
    "    dict_ = dict()\n",
    "    step = day*24*60\n",
    "\n",
    "    for i in range(start, stop):\n",
    "        for j in range(start, stop):\n",
    "            dict_['inv_'+str(i)+' cp'+str(j)] = []\n",
    "            for n in range(sim):\n",
    "                model = switching_model(num_of_motorist=50,\n",
    "                                        num_of_stations=16,\n",
    "                                        inv_size = i,\n",
    "                                        cp_size= j,\n",
    "                                        width=map_width,\n",
    "                                        height=map_height,\n",
    "                                        moore=moore, \n",
    "                                        configuration=\"random\", \n",
    "                                        demand = demand)\n",
    "                agent_data = model.datacollector.get_agent_vars_dataframe()\n",
    "                dict_['inv_'+str(i)+' cp'+str(j)].append(model[\"num_of_alive\"].iloc[-1])\n",
    "    return dict_"
   ]
  }
 ],
 "metadata": {
  "kernelspec": {
   "display_name": "Python 3.9.1 64-bit",
   "language": "python",
   "name": "python3"
  },
  "language_info": {
   "name": "python",
   "version": "3.9.1"
  },
  "orig_nbformat": 4,
  "vscode": {
   "interpreter": {
    "hash": "83db9ccd60aaba7f36d82c7c8a804da99e0bc213c9e856efe6e157fa32ac376b"
   }
  }
 },
 "nbformat": 4,
 "nbformat_minor": 2
}
