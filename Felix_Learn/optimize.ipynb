{
 "cells": [
  {
   "cell_type": "markdown",
   "metadata": {},
   "source": [
    "# Optimize"
   ]
  },
  {
   "cell_type": "code",
   "execution_count": 2,
   "metadata": {},
   "outputs": [],
   "source": [
    "from model_first_paper import *\n",
    "import matplotlib.pyplot as plt\n",
    "import seaborn as sns"
   ]
  },
  {
   "cell_type": "code",
   "execution_count": 3,
   "metadata": {},
   "outputs": [
    {
     "name": "stdout",
     "output_type": "stream",
     "text": [
      "4\n"
     ]
    }
   ],
   "source": [
    "map_width = 50\n",
    "map_height = 50\n",
    "moore = False\n",
    "\n",
    "#Number of commuters, taxis, and noises\n",
    "num_of_motorist = [30,25,10]\n",
    "\n",
    "#With inventory\n",
    "inv_size = 12\n",
    "cp_size = int(np.ceil(inv_size/3))\n",
    "\n",
    "#Without inventory\n",
    "#cp_size = 10\n",
    "\n",
    "model = switching_model(num_of_motorist,num_of_stations=10,inv_size=inv_size,cp_size= cp_size,width=map_width,height=map_height,moore=moore, configuration=\"less\")"
   ]
  },
  {
   "cell_type": "code",
   "execution_count": 4,
   "metadata": {},
   "outputs": [],
   "source": [
    "days = 14\n",
    "num_of_step = days*24*60\n",
    "#num_of_step = 100\n",
    "for i in range(num_of_step):\n",
    "    model.step()"
   ]
  },
  {
   "cell_type": "code",
   "execution_count": 5,
   "metadata": {},
   "outputs": [
    {
     "data": {
      "text/html": [
       "<div>\n",
       "<style scoped>\n",
       "    .dataframe tbody tr th:only-of-type {\n",
       "        vertical-align: middle;\n",
       "    }\n",
       "\n",
       "    .dataframe tbody tr th {\n",
       "        vertical-align: top;\n",
       "    }\n",
       "\n",
       "    .dataframe thead th {\n",
       "        text-align: right;\n",
       "    }\n",
       "</style>\n",
       "<table border=\"1\" class=\"dataframe\">\n",
       "  <thead>\n",
       "    <tr style=\"text-align: right;\">\n",
       "      <th></th>\n",
       "      <th>num_of_alive</th>\n",
       "      <th>num_of_charging</th>\n",
       "    </tr>\n",
       "  </thead>\n",
       "  <tbody>\n",
       "    <tr>\n",
       "      <th>20155</th>\n",
       "      <td>41</td>\n",
       "      <td>2</td>\n",
       "    </tr>\n",
       "    <tr>\n",
       "      <th>20156</th>\n",
       "      <td>41</td>\n",
       "      <td>2</td>\n",
       "    </tr>\n",
       "    <tr>\n",
       "      <th>20157</th>\n",
       "      <td>41</td>\n",
       "      <td>2</td>\n",
       "    </tr>\n",
       "    <tr>\n",
       "      <th>20158</th>\n",
       "      <td>41</td>\n",
       "      <td>2</td>\n",
       "    </tr>\n",
       "    <tr>\n",
       "      <th>20159</th>\n",
       "      <td>41</td>\n",
       "      <td>2</td>\n",
       "    </tr>\n",
       "  </tbody>\n",
       "</table>\n",
       "</div>"
      ],
      "text/plain": [
       "       num_of_alive  num_of_charging\n",
       "20155            41                2\n",
       "20156            41                2\n",
       "20157            41                2\n",
       "20158            41                2\n",
       "20159            41                2"
      ]
     },
     "execution_count": 5,
     "metadata": {},
     "output_type": "execute_result"
    }
   ],
   "source": [
    "model_data = model.datacollector.get_model_vars_dataframe()\n",
    "model_data.tail()"
   ]
  },
  {
   "cell_type": "code",
   "execution_count": 23,
   "metadata": {},
   "outputs": [
    {
     "data": {
      "text/plain": [
       "41"
      ]
     },
     "execution_count": 23,
     "metadata": {},
     "output_type": "execute_result"
    }
   ],
   "source": [
    "model_data['num_of_alive'].iloc[-1]"
   ]
  },
  {
   "cell_type": "code",
   "execution_count": 33,
   "metadata": {},
   "outputs": [],
   "source": [
    "map_width = 50\n",
    "map_height = 50\n",
    "moore = False\n",
    "\n",
    "#Number of commuters, taxis, and noises\n",
    "num_of_motorist = [30,25,10]\n",
    "\n",
    "def optimize(start = 1, \n",
    "            stop = 11, \n",
    "            day = 14,\n",
    "            sim = 30,\n",
    "            config = 'random'):\n",
    "    '''\n",
    "    start : Minumum search\n",
    "    stop : Maximum search\n",
    "    day : number of days\n",
    "    sim : number of simulation\n",
    "    config : distribution of the station\n",
    "    '''\n",
    "    dict_ = dict()\n",
    "    step = day*24*60\n",
    "\n",
    "    for i in range(start, stop):\n",
    "        for j in range(start, stop):\n",
    "            dict_['inv_'+str(i)+' cp_'+str(j)] = []\n",
    "            print(f'Searching with Configuration Inventory {i} and Capacity {j}')\n",
    "            for n in range(sim):\n",
    "                print(f'Simulation - {n}')\n",
    "                model = switching_model(num_of_motorist,\n",
    "                    num_of_stations=10,\n",
    "                    inv_size=i,\n",
    "                    cp_size= j,\n",
    "                    width=map_width,\n",
    "                    height=map_height,\n",
    "                    moore=moore, \n",
    "                    configuration=config)\n",
    "                for k in range(num_of_step):\n",
    "                    model.step()\n",
    "                model_data = model.datacollector.get_model_vars_dataframe()\n",
    "                dict_['inv_'+str(i)+' cp_'+str(j)].append(model_data[\"num_of_alive\"].iloc[-1])\n",
    "    return dict_"
   ]
  },
  {
   "cell_type": "code",
   "execution_count": 32,
   "metadata": {},
   "outputs": [
    {
     "ename": "NameError",
     "evalue": "name 'df_less' is not defined",
     "output_type": "error",
     "traceback": [
      "\u001b[1;31m---------------------------------------------------------------------------\u001b[0m",
      "\u001b[1;31mNameError\u001b[0m                                 Traceback (most recent call last)",
      "\u001b[1;32m~\\AppData\\Local\\Temp/ipykernel_6312/2238826801.py\u001b[0m in \u001b[0;36m<module>\u001b[1;34m\u001b[0m\n\u001b[1;32m----> 1\u001b[1;33m \u001b[0mdf_less\u001b[0m\u001b[1;33m\u001b[0m\u001b[1;33m\u001b[0m\u001b[0m\n\u001b[0m",
      "\u001b[1;31mNameError\u001b[0m: name 'df_less' is not defined"
     ]
    }
   ],
   "source": [
    "df_less"
   ]
  },
  {
   "cell_type": "code",
   "execution_count": null,
   "metadata": {},
   "outputs": [],
   "source": [
    "df_normal = optimize(config = 'normal')"
   ]
  },
  {
   "cell_type": "code",
   "execution_count": null,
   "metadata": {},
   "outputs": [],
   "source": [
    "df_more = optimize(config = 'more')"
   ]
  }
 ],
 "metadata": {
  "kernelspec": {
   "display_name": "Python 3.8.12 ('base')",
   "language": "python",
   "name": "python3"
  },
  "language_info": {
   "codemirror_mode": {
    "name": "ipython",
    "version": 3
   },
   "file_extension": ".py",
   "mimetype": "text/x-python",
   "name": "python",
   "nbconvert_exporter": "python",
   "pygments_lexer": "ipython3",
   "version": "3.8.12"
  },
  "orig_nbformat": 4,
  "vscode": {
   "interpreter": {
    "hash": "a063a9d6d4095dba70f7d4a438ef288e94ffec589b0525f5b20de998ec61033a"
   }
  }
 },
 "nbformat": 4,
 "nbformat_minor": 2
}
