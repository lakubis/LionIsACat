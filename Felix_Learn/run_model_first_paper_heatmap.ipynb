{
 "cells": [
  {
   "cell_type": "markdown",
   "metadata": {},
   "source": [
    "## This file will be used to produce heatmap\n",
    "\n",
    "Last edit: 01.10.2022"
   ]
  },
  {
   "cell_type": "markdown",
   "metadata": {},
   "source": [
    "### Import libraries"
   ]
  },
  {
   "cell_type": "code",
   "execution_count": 1,
   "metadata": {},
   "outputs": [],
   "source": [
    "from model_first_paper import *\n",
    "import matplotlib.pyplot as plt\n",
    "import seaborn as sns\n",
    "\n",
    "import Tools as t"
   ]
  },
  {
   "cell_type": "markdown",
   "metadata": {},
   "source": [
    "### Setup the model and input the parameters"
   ]
  },
  {
   "cell_type": "code",
   "execution_count": 2,
   "metadata": {},
   "outputs": [
    {
     "name": "stdout",
     "output_type": "stream",
     "text": [
      "4\n",
      "(12, 12)\n",
      "(12, 37)\n",
      "(37, 12)\n",
      "(37, 37)\n"
     ]
    }
   ],
   "source": [
    "map_width = 50\n",
    "map_height = 50\n",
    "moore = False\n",
    "\n",
    "#Number of commuters, taxis, and noises\n",
    "num_of_motorist = [30,25,10]\n",
    "\n",
    "#With inventory\n",
    "inv_size = 24\n",
    "cp_size = int(np.ceil(inv_size/3))\n",
    "\n",
    "#Without inventory\n",
    "#cp_size = 10\n",
    "\n",
    "model = switching_model(num_of_motorist,num_of_stations=4,inv_size=inv_size,cp_size= cp_size,width=map_width,height=map_height,moore=moore, configuration=\"less\")\n",
    "#Dalam menit\n",
    "days = 30\n",
    "num_of_step = days*24*60\n",
    "#num_of_step = 100\n",
    "for i in range(num_of_step):\n",
    "    model.step()"
   ]
  },
  {
   "cell_type": "markdown",
   "metadata": {},
   "source": [
    "### Alive agents"
   ]
  },
  {
   "cell_type": "code",
   "execution_count": 3,
   "metadata": {},
   "outputs": [
    {
     "data": {
      "text/html": [
       "<div>\n",
       "<style scoped>\n",
       "    .dataframe tbody tr th:only-of-type {\n",
       "        vertical-align: middle;\n",
       "    }\n",
       "\n",
       "    .dataframe tbody tr th {\n",
       "        vertical-align: top;\n",
       "    }\n",
       "\n",
       "    .dataframe thead th {\n",
       "        text-align: right;\n",
       "    }\n",
       "</style>\n",
       "<table border=\"1\" class=\"dataframe\">\n",
       "  <thead>\n",
       "    <tr style=\"text-align: right;\">\n",
       "      <th></th>\n",
       "      <th>num_of_alive</th>\n",
       "      <th>num_of_charging</th>\n",
       "    </tr>\n",
       "  </thead>\n",
       "  <tbody>\n",
       "    <tr>\n",
       "      <th>43195</th>\n",
       "      <td>65</td>\n",
       "      <td>7</td>\n",
       "    </tr>\n",
       "    <tr>\n",
       "      <th>43196</th>\n",
       "      <td>65</td>\n",
       "      <td>7</td>\n",
       "    </tr>\n",
       "    <tr>\n",
       "      <th>43197</th>\n",
       "      <td>65</td>\n",
       "      <td>7</td>\n",
       "    </tr>\n",
       "    <tr>\n",
       "      <th>43198</th>\n",
       "      <td>65</td>\n",
       "      <td>7</td>\n",
       "    </tr>\n",
       "    <tr>\n",
       "      <th>43199</th>\n",
       "      <td>65</td>\n",
       "      <td>7</td>\n",
       "    </tr>\n",
       "  </tbody>\n",
       "</table>\n",
       "</div>"
      ],
      "text/plain": [
       "       num_of_alive  num_of_charging\n",
       "43195            65                7\n",
       "43196            65                7\n",
       "43197            65                7\n",
       "43198            65                7\n",
       "43199            65                7"
      ]
     },
     "execution_count": 3,
     "metadata": {},
     "output_type": "execute_result"
    }
   ],
   "source": [
    "model_data = model.datacollector.get_model_vars_dataframe()\n",
    "model_data.tail()"
   ]
  },
  {
   "cell_type": "code",
   "execution_count": 4,
   "metadata": {},
   "outputs": [
    {
     "data": {
      "image/png": "[encoded data removed]",
      "text/plain": [
       "<Figure size 432x288 with 1 Axes>"
      ]
     },
     "metadata": {
      "needs_background": "light"
     },
     "output_type": "display_data"
    }
   ],
   "source": [
    "plt.plot(model_data[\"num_of_alive\"])\n",
    "plt.ylim([0,sum(num_of_motorist) + 1])\n",
    "plt.ylabel(\"Alive agents\")\n",
    "plt.xlabel(\"Steps\")\n",
    "plt.xlim(0,num_of_step)\n",
    "for i in range(1,days):\n",
    "    plt.axvline(x = 1440*i, color = 'r', linestyle='--', label = 'axvline - full height')\n",
    "plt.legend(['Number of Total Alive Agent','Days'])\n",
    "locs, labels = plt.xticks()  # Get the current locations and labels.\n",
    "plt.xticks(np.arange(0, days*1440, step=1440))  # Set label locations.\n",
    "plt.xticks(np.arange(days)*1440, np.arange(0,days))  # Set text labels.\n",
    "#plt.xticks([0, 1, 2], ['January', 'February', 'March'],\n",
    "#       rotation=20)  # Set text labels and properties.\n",
    "plt.xlabel('Days')\n",
    "#plt.title('Number of Total Alive Agent')\n",
    "plt.show()"
   ]
  },
  {
   "cell_type": "markdown",
   "metadata": {},
   "source": [
    "### We will extract the information from all of the agents"
   ]
  },
  {
   "cell_type": "code",
   "execution_count": 5,
   "metadata": {},
   "outputs": [
    {
     "data": {
      "text/html": [
       "<div>\n",
       "<style scoped>\n",
       "    .dataframe tbody tr th:only-of-type {\n",
       "        vertical-align: middle;\n",
       "    }\n",
       "\n",
       "    .dataframe tbody tr th {\n",
       "        vertical-align: top;\n",
       "    }\n",
       "\n",
       "    .dataframe thead th {\n",
       "        text-align: right;\n",
       "    }\n",
       "</style>\n",
       "<table border=\"1\" class=\"dataframe\">\n",
       "  <thead>\n",
       "    <tr style=\"text-align: right;\">\n",
       "      <th></th>\n",
       "      <th></th>\n",
       "      <th>Position</th>\n",
       "      <th>Charge</th>\n",
       "      <th>Alive</th>\n",
       "    </tr>\n",
       "    <tr>\n",
       "      <th>Step</th>\n",
       "      <th>AgentID</th>\n",
       "      <th></th>\n",
       "      <th></th>\n",
       "      <th></th>\n",
       "    </tr>\n",
       "  </thead>\n",
       "  <tbody>\n",
       "    <tr>\n",
       "      <th rowspan=\"5\" valign=\"top\">0</th>\n",
       "      <th>0</th>\n",
       "      <td>None</td>\n",
       "      <td>2375.956747</td>\n",
       "      <td>None</td>\n",
       "    </tr>\n",
       "    <tr>\n",
       "      <th>1</th>\n",
       "      <td>None</td>\n",
       "      <td>1152.736520</td>\n",
       "      <td>None</td>\n",
       "    </tr>\n",
       "    <tr>\n",
       "      <th>2</th>\n",
       "      <td>None</td>\n",
       "      <td>738.158317</td>\n",
       "      <td>None</td>\n",
       "    </tr>\n",
       "    <tr>\n",
       "      <th>3</th>\n",
       "      <td>None</td>\n",
       "      <td>1149.819530</td>\n",
       "      <td>None</td>\n",
       "    </tr>\n",
       "    <tr>\n",
       "      <th>4</th>\n",
       "      <td>None</td>\n",
       "      <td>2178.388622</td>\n",
       "      <td>None</td>\n",
       "    </tr>\n",
       "  </tbody>\n",
       "</table>\n",
       "</div>"
      ],
      "text/plain": [
       "             Position       Charge Alive\n",
       "Step AgentID                            \n",
       "0    0           None  2375.956747  None\n",
       "     1           None  1152.736520  None\n",
       "     2           None   738.158317  None\n",
       "     3           None  1149.819530  None\n",
       "     4           None  2178.388622  None"
      ]
     },
     "execution_count": 5,
     "metadata": {},
     "output_type": "execute_result"
    }
   ],
   "source": [
    "#Ambil data agent\n",
    "agent_data = model.datacollector.get_agent_vars_dataframe()\n",
    "agent_data.head()"
   ]
  },
  {
   "cell_type": "markdown",
   "metadata": {},
   "source": [
    "### Retrieve the motorists"
   ]
  },
  {
   "cell_type": "code",
   "execution_count": 6,
   "metadata": {},
   "outputs": [
    {
     "name": "stdout",
     "output_type": "stream",
     "text": [
      "2808000\n"
     ]
    }
   ],
   "source": [
    "motorist_id = []\n",
    "for mot in model.motorists:\n",
    "    motorist_id.append(mot.unique_id)\n",
    "\n",
    "#ID motor pertama dan terakhir\n",
    "first_motor = min(motorist_id)\n",
    "last_motor = max(motorist_id)\n",
    "\n",
    "#Ambil data motor doang\n",
    "motorist_data = agent_data.loc[(agent_data.index.get_level_values('AgentID')>=first_motor) & (agent_data.index.get_level_values('AgentID') <=last_motor)]\n",
    "\n",
    "\n",
    "motorist_alive_position = motorist_data.loc[motorist_data['Alive'] == True][\"Position\"]\n",
    "\n",
    "#print jumlah baris\n",
    "print(len(motorist_alive_position.index))"
   ]
  },
  {
   "cell_type": "code",
   "execution_count": 7,
   "metadata": {},
   "outputs": [],
   "source": [
    "sample_257 = motorist_alive_position.loc[motorist_alive_position.index.get_level_values('AgentID') == 257].tolist()"
   ]
  },
  {
   "cell_type": "markdown",
   "metadata": {},
   "source": [
    "### List all of the positions of the alive motorists"
   ]
  },
  {
   "cell_type": "code",
   "execution_count": 8,
   "metadata": {},
   "outputs": [
    {
     "name": "stdout",
     "output_type": "stream",
     "text": [
      "2808000\n"
     ]
    }
   ],
   "source": [
    "array_alive_positions = motorist_alive_position.tolist()\n",
    "print(len(array_alive_positions))"
   ]
  },
  {
   "cell_type": "code",
   "execution_count": 9,
   "metadata": {},
   "outputs": [
    {
     "data": {
      "text/plain": [
       "Text(33.0, 0.5, 'y')"
      ]
     },
     "execution_count": 9,
     "metadata": {},
     "output_type": "execute_result"
    },
    {
     "data": {
      "image/png": "[encoded data removed]",
      "text/plain": [
       "<Figure size 432x288 with 2 Axes>"
      ]
     },
     "metadata": {
      "needs_background": "light"
     },
     "output_type": "display_data"
    }
   ],
   "source": [
    "heatmap_data = np.zeros((model.grid.width, model.grid.height))\n",
    "for coor in array_alive_positions:\n",
    "    x,y = coor\n",
    "    heatmap_data[x,y] +=1\n",
    "\n",
    "most_frequent = np.amax(heatmap_data)\n",
    "norm_heatmap_data = heatmap_data/most_frequent\n",
    "\n",
    "ax = sns.heatmap(norm_heatmap_data, cmap = 'hot')\n",
    "ax.invert_yaxis()\n",
    "plt.axis('equal')\n",
    "ax.axes.xaxis.set_ticklabels([])\n",
    "ax.axes.yaxis.set_ticklabels([])\n",
    "plt.tick_params(left = False, bottom = False)\n",
    "ax.set_xlabel('x')\n",
    "ax.set_ylabel('y')"
   ]
  },
  {
   "cell_type": "markdown",
   "metadata": {},
   "source": [
    "### The heatmap is still not good enough, let's clean the data a little bit"
   ]
  },
  {
   "cell_type": "code",
   "execution_count": 10,
   "metadata": {},
   "outputs": [],
   "source": [
    "# We'll take the active positions of the drivers, the drivers should also be alive\n",
    "active_pos = [] # We'll store the positions here\n",
    "\n",
    "for id in motorist_id:\n",
    "    dirty_pos = motorist_alive_position.loc[motorist_alive_position.index.get_level_values('AgentID') == id].tolist()\n",
    "    clean_pos = t.clean_positions(dirty_pos)\n",
    "    #print(t.clean_positions(dirty_pos))\n",
    "    active_pos = active_pos + clean_pos\n"
   ]
  },
  {
   "cell_type": "code",
   "execution_count": 11,
   "metadata": {},
   "outputs": [
    {
     "data": {
      "text/plain": [
       "Text(33.0, 0.5, 'y')"
      ]
     },
     "execution_count": 11,
     "metadata": {},
     "output_type": "execute_result"
    },
    {
     "data": {
      "image/png": "[encoded data removed]",
      "text/plain": [
       "<Figure size 432x288 with 2 Axes>"
      ]
     },
     "metadata": {
      "needs_background": "light"
     },
     "output_type": "display_data"
    }
   ],
   "source": [
    "heatmap_data_clean = np.zeros((model.grid.width, model.grid.height))\n",
    "for coor in active_pos:\n",
    "    x,y = coor\n",
    "    heatmap_data_clean[x,y] +=1\n",
    "\n",
    "most_frequent_clean = np.amax(heatmap_data_clean)\n",
    "norm_heatmap_data_clean = heatmap_data_clean/most_frequent_clean\n",
    "\n",
    "ax = sns.heatmap(norm_heatmap_data_clean, cmap = 'hot')\n",
    "ax.invert_yaxis()\n",
    "plt.axis('equal')\n",
    "ax.axes.xaxis.set_ticklabels([])\n",
    "ax.axes.yaxis.set_ticklabels([])\n",
    "plt.tick_params(left = False, bottom = False)\n",
    "ax.set_xlabel('x')\n",
    "ax.set_ylabel('y')"
   ]
  },
  {
   "cell_type": "code",
   "execution_count": null,
   "metadata": {},
   "outputs": [],
   "source": []
  }
 ],
 "metadata": {
  "kernelspec": {
   "display_name": "Python 3.8.13 ('MesaStuff')",
   "language": "python",
   "name": "python3"
  },
  "language_info": {
   "codemirror_mode": {
    "name": "ipython",
    "version": 3
   },
   "file_extension": ".py",
   "mimetype": "text/x-python",
   "name": "python",
   "nbconvert_exporter": "python",
   "pygments_lexer": "ipython3",
   "version": "3.8.13"
  },
  "orig_nbformat": 4,
  "vscode": {
   "interpreter": {
    "hash": "01b07622e70bd395a2752035dc46b10d078c71dd2d47db2798274c416a1d113f"
   }
  }
 },
 "nbformat": 4,
 "nbformat_minor": 2
}
