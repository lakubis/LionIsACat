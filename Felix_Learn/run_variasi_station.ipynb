{
 "cells": [
  {
   "cell_type": "code",
   "execution_count": 19,
   "metadata": {},
   "outputs": [
    {
     "name": "stdout",
     "output_type": "stream",
     "text": [
      "24\n",
      "24\n"
     ]
    },
    {
     "data": {
      "image/png": "[encoded data removed]",
      "text/plain": [
       "<Figure size 432x288 with 1 Axes>"
      ]
     },
     "metadata": {
      "needs_background": "light"
     },
     "output_type": "display_data"
    }
   ],
   "source": [
    "from model_lomba import *\n",
    "import matplotlib.pyplot as plt\n",
    "import seaborn as sns\n",
    "\n",
    "demand = [0.2,0.3,0.5,0.65,0.8,0.9,1.0,1.0,1.0,1.0,1.0,1.0,0.9,0.8,0.65,0.45,0.3,0.2,0.1,0.1,0.1,0.1,0.1,0.1]\n",
    "hour = [\"06:00\",\"07:00\",\"08:00\",\"09:00\",\"10:00\",\"11:00\",\"12:00\",\"13:00\",\"14:00\",\"15:00\",\"16:00\",\"17:00\",\"18:00\",\"19:00\",\"20:00\",\"21:00\",\"22:00\",\"23:00\",\"00:00\",\"01:00\",\"02:00\",\"03:00\",\"04:00\",\"05:00\"]\n",
    "print(len(demand))\n",
    "print(len(hour))\n",
    "\n",
    "plt.plot(hour,demand)\n",
    "plt.xticks(rotation = 'vertical')\n",
    "plt.xlabel('Time')\n",
    "plt.ylabel('Probability distribution')\n",
    "plt.title('')\n",
    "plt.ylim([0.0,1.1])\n",
    "#plt.tight_layout()\n",
    "#plt.savefig('Prob-dist.png', format = 'png' )\n",
    "plt.show()"
   ]
  },
  {
   "cell_type": "code",
   "execution_count": 20,
   "metadata": {},
   "outputs": [
    {
     "name": "stdout",
     "output_type": "stream",
     "text": [
      "16\n"
     ]
    }
   ],
   "source": [
    "map_width = 50\n",
    "map_height = 50\n",
    "moore = False\n",
    "num_of_motorist = 50\n",
    "\n",
    "#With inventory\n",
    "inv_size = 18\n",
    "cp_size = 6\n",
    "\n",
    "#Without inventory\n",
    "#cp_size = 10\n",
    "\n",
    "model = switching_model(num_of_motorist=50,num_of_stations=16,inv_size=inv_size,cp_size= cp_size,width=map_width,height=map_height,moore=moore, configuration=\"random\", demand = demand)\n",
    "\n",
    "#Dalam menit\n",
    "days = 30\n",
    "num_of_step = days*24*60\n",
    "#num_of_step = 100\n",
    "for i in range(num_of_step):\n",
    "    model.step()"
   ]
  },
  {
   "cell_type": "code",
   "execution_count": 21,
   "metadata": {},
   "outputs": [
    {
     "data": {
      "text/html": [
       "<div>\n",
       "<style scoped>\n",
       "    .dataframe tbody tr th:only-of-type {\n",
       "        vertical-align: middle;\n",
       "    }\n",
       "\n",
       "    .dataframe tbody tr th {\n",
       "        vertical-align: top;\n",
       "    }\n",
       "\n",
       "    .dataframe thead th {\n",
       "        text-align: right;\n",
       "    }\n",
       "</style>\n",
       "<table border=\"1\" class=\"dataframe\">\n",
       "  <thead>\n",
       "    <tr style=\"text-align: right;\">\n",
       "      <th></th>\n",
       "      <th></th>\n",
       "      <th>Position</th>\n",
       "      <th>Charge</th>\n",
       "      <th>Alive</th>\n",
       "      <th>Full_battery</th>\n",
       "      <th>Empty_battery</th>\n",
       "      <th>CP_full</th>\n",
       "      <th>CP_empty</th>\n",
       "    </tr>\n",
       "    <tr>\n",
       "      <th>Step</th>\n",
       "      <th>AgentID</th>\n",
       "      <th></th>\n",
       "      <th></th>\n",
       "      <th></th>\n",
       "      <th></th>\n",
       "      <th></th>\n",
       "      <th></th>\n",
       "      <th></th>\n",
       "    </tr>\n",
       "  </thead>\n",
       "  <tbody>\n",
       "    <tr>\n",
       "      <th rowspan=\"5\" valign=\"top\">0</th>\n",
       "      <th>0</th>\n",
       "      <td>None</td>\n",
       "      <td>947.343446</td>\n",
       "      <td>None</td>\n",
       "      <td>NaN</td>\n",
       "      <td>NaN</td>\n",
       "      <td>NaN</td>\n",
       "      <td>NaN</td>\n",
       "    </tr>\n",
       "    <tr>\n",
       "      <th>1</th>\n",
       "      <td>None</td>\n",
       "      <td>1763.397039</td>\n",
       "      <td>None</td>\n",
       "      <td>NaN</td>\n",
       "      <td>NaN</td>\n",
       "      <td>NaN</td>\n",
       "      <td>NaN</td>\n",
       "    </tr>\n",
       "    <tr>\n",
       "      <th>2</th>\n",
       "      <td>None</td>\n",
       "      <td>1786.949640</td>\n",
       "      <td>None</td>\n",
       "      <td>NaN</td>\n",
       "      <td>NaN</td>\n",
       "      <td>NaN</td>\n",
       "      <td>NaN</td>\n",
       "    </tr>\n",
       "    <tr>\n",
       "      <th>3</th>\n",
       "      <td>None</td>\n",
       "      <td>2009.215551</td>\n",
       "      <td>None</td>\n",
       "      <td>NaN</td>\n",
       "      <td>NaN</td>\n",
       "      <td>NaN</td>\n",
       "      <td>NaN</td>\n",
       "    </tr>\n",
       "    <tr>\n",
       "      <th>4</th>\n",
       "      <td>None</td>\n",
       "      <td>2531.854330</td>\n",
       "      <td>None</td>\n",
       "      <td>NaN</td>\n",
       "      <td>NaN</td>\n",
       "      <td>NaN</td>\n",
       "      <td>NaN</td>\n",
       "    </tr>\n",
       "  </tbody>\n",
       "</table>\n",
       "</div>"
      ],
      "text/plain": [
       "             Position       Charge Alive  Full_battery  Empty_battery  \\\n",
       "Step AgentID                                                            \n",
       "0    0           None   947.343446  None           NaN            NaN   \n",
       "     1           None  1763.397039  None           NaN            NaN   \n",
       "     2           None  1786.949640  None           NaN            NaN   \n",
       "     3           None  2009.215551  None           NaN            NaN   \n",
       "     4           None  2531.854330  None           NaN            NaN   \n",
       "\n",
       "              CP_full  CP_empty  \n",
       "Step AgentID                     \n",
       "0    0            NaN       NaN  \n",
       "     1            NaN       NaN  \n",
       "     2            NaN       NaN  \n",
       "     3            NaN       NaN  \n",
       "     4            NaN       NaN  "
      ]
     },
     "execution_count": 21,
     "metadata": {},
     "output_type": "execute_result"
    }
   ],
   "source": [
    "#Ambil data agent\n",
    "agent_data = model.datacollector.get_agent_vars_dataframe()\n",
    "agent_data.head()"
   ]
  },
  {
   "cell_type": "code",
   "execution_count": 22,
   "metadata": {},
   "outputs": [
    {
     "data": {
      "text/plain": [
       "AgentID\n",
       "434    True\n",
       "435    True\n",
       "436    True\n",
       "437    True\n",
       "438    True\n",
       "439    True\n",
       "440    True\n",
       "441    True\n",
       "442    True\n",
       "443    True\n",
       "444    True\n",
       "445    True\n",
       "446    True\n",
       "447    True\n",
       "448    True\n",
       "449    True\n",
       "450    True\n",
       "451    True\n",
       "452    True\n",
       "453    True\n",
       "454    True\n",
       "455    True\n",
       "456    True\n",
       "457    True\n",
       "458    True\n",
       "459    True\n",
       "460    True\n",
       "461    True\n",
       "462    True\n",
       "463    True\n",
       "464    True\n",
       "465    True\n",
       "466    True\n",
       "467    True\n",
       "468    True\n",
       "469    True\n",
       "470    True\n",
       "471    True\n",
       "472    True\n",
       "473    True\n",
       "474    True\n",
       "475    True\n",
       "476    True\n",
       "477    True\n",
       "478    True\n",
       "479    True\n",
       "480    True\n",
       "481    True\n",
       "482    True\n",
       "483    True\n",
       "Name: Alive, dtype: object"
      ]
     },
     "execution_count": 22,
     "metadata": {},
     "output_type": "execute_result"
    }
   ],
   "source": [
    "motorist_alive = agent_data.xs(num_of_step-1,level = \"Step\")[\"Alive\"]\n",
    "motorist_id = []\n",
    "for motor in model.motorists:\n",
    "    motorist_id.append(motor.unique_id)\n",
    "motorist_alive[motorist_id]"
   ]
  },
  {
   "cell_type": "code",
   "execution_count": 23,
   "metadata": {},
   "outputs": [
    {
     "name": "stdout",
     "output_type": "stream",
     "text": [
      "AgentID\n",
      "484     (39, 6)\n",
      "485     (3, 14)\n",
      "486     (20, 6)\n",
      "487    (14, 21)\n",
      "488     (8, 25)\n",
      "489    (32, 41)\n",
      "490     (5, 11)\n",
      "491    (29, 40)\n",
      "492    (11, 36)\n",
      "493    (47, 12)\n",
      "494     (48, 7)\n",
      "495    (20, 19)\n",
      "496     (12, 9)\n",
      "497     (9, 12)\n",
      "498    (21, 48)\n",
      "499    (15, 39)\n",
      "Name: Position, dtype: object\n"
     ]
    }
   ],
   "source": [
    "agent_pos = agent_data.xs(0,level = \"Step\")[\"Position\"]\n",
    "station_id = []\n",
    "for stat in model.stations:\n",
    "    station_id.append(stat.unique_id)\n",
    "station_pos = agent_pos[station_id]\n",
    "print(station_pos)"
   ]
  },
  {
   "cell_type": "code",
   "execution_count": 24,
   "metadata": {},
   "outputs": [
    {
     "name": "stdout",
     "output_type": "stream",
     "text": [
      "AgentID\n",
      "484    18.0\n",
      "485    18.0\n",
      "486    18.0\n",
      "487    18.0\n",
      "488    18.0\n",
      "489    18.0\n",
      "490    18.0\n",
      "491    18.0\n",
      "492    18.0\n",
      "493    18.0\n",
      "494    18.0\n",
      "495    18.0\n",
      "496    18.0\n",
      "497    18.0\n",
      "498    18.0\n",
      "499    18.0\n",
      "Name: Full_battery, dtype: float64\n"
     ]
    }
   ],
   "source": [
    "step_station = num_of_step-1\n",
    "#step_station = 0\n",
    "agent_full = agent_data.xs(step_station,level = \"Step\")[\"Full_battery\"]\n",
    "station_id = []\n",
    "for stat in model.stations:\n",
    "    station_id.append(stat.unique_id)\n",
    "station_full = agent_full[station_id]\n",
    "print(station_full)"
   ]
  },
  {
   "cell_type": "code",
   "execution_count": 25,
   "metadata": {},
   "outputs": [
    {
     "name": "stdout",
     "output_type": "stream",
     "text": [
      "AgentID\n",
      "484    0.0\n",
      "485    0.0\n",
      "486    0.0\n",
      "487    0.0\n",
      "488    0.0\n",
      "489    0.0\n",
      "490    0.0\n",
      "491    0.0\n",
      "492    0.0\n",
      "493    0.0\n",
      "494    0.0\n",
      "495    0.0\n",
      "496    0.0\n",
      "497    0.0\n",
      "498    0.0\n",
      "499    0.0\n",
      "Name: Empty_battery, dtype: float64\n"
     ]
    }
   ],
   "source": [
    "agent_empty = agent_data.xs(step_station,level = \"Step\")[\"Empty_battery\"]\n",
    "station_id = []\n",
    "for stat in model.stations:\n",
    "    station_id.append(stat.unique_id)\n",
    "station_empty = agent_empty[station_id]\n",
    "print(station_empty)"
   ]
  },
  {
   "cell_type": "code",
   "execution_count": 26,
   "metadata": {},
   "outputs": [
    {
     "name": "stdout",
     "output_type": "stream",
     "text": [
      "AgentID\n",
      "484    6.0\n",
      "485    6.0\n",
      "486    6.0\n",
      "487    6.0\n",
      "488    6.0\n",
      "489    6.0\n",
      "490    6.0\n",
      "491    6.0\n",
      "492    6.0\n",
      "493    5.0\n",
      "494    5.0\n",
      "495    6.0\n",
      "496    6.0\n",
      "497    6.0\n",
      "498    6.0\n",
      "499    6.0\n",
      "Name: CP_full, dtype: float64\n"
     ]
    }
   ],
   "source": [
    "agent_cp_full = agent_data.xs(step_station,level = \"Step\")[\"CP_full\"]\n",
    "station_id = []\n",
    "for stat in model.stations:\n",
    "    station_id.append(stat.unique_id)\n",
    "station_cp_full = agent_cp_full[station_id]\n",
    "print(station_cp_full)"
   ]
  },
  {
   "cell_type": "code",
   "execution_count": 27,
   "metadata": {},
   "outputs": [
    {
     "name": "stdout",
     "output_type": "stream",
     "text": [
      "AgentID\n",
      "484    0.0\n",
      "485    0.0\n",
      "486    0.0\n",
      "487    0.0\n",
      "488    0.0\n",
      "489    0.0\n",
      "490    0.0\n",
      "491    0.0\n",
      "492    0.0\n",
      "493    1.0\n",
      "494    1.0\n",
      "495    0.0\n",
      "496    0.0\n",
      "497    0.0\n",
      "498    0.0\n",
      "499    0.0\n",
      "Name: CP_empty, dtype: float64\n"
     ]
    }
   ],
   "source": [
    "agent_cp_empty = agent_data.xs(step_station,level = \"Step\")[\"CP_empty\"]\n",
    "station_id = []\n",
    "for stat in model.stations:\n",
    "    station_id.append(stat.unique_id)\n",
    "station_cp_empty = agent_cp_empty[station_id]\n",
    "print(station_cp_empty)"
   ]
  },
  {
   "cell_type": "code",
   "execution_count": 28,
   "metadata": {},
   "outputs": [
    {
     "data": {
      "text/plain": [
       "Step\n",
       "43195    (13, 7)\n",
       "43196    (13, 7)\n",
       "43197    (14, 7)\n",
       "43198    (14, 7)\n",
       "43199    (14, 7)\n",
       "Name: Position, dtype: object"
      ]
     },
     "execution_count": 28,
     "metadata": {},
     "output_type": "execute_result"
    }
   ],
   "source": [
    "#Ambil data motorist\n",
    "driver_num = 2\n",
    "motorist_pos = agent_data.xs(model.motorists[driver_num].unique_id, level = \"AgentID\")[\"Position\"]\n",
    "motorist_pos.head()\n",
    "motorist_pos.tail()"
   ]
  },
  {
   "cell_type": "code",
   "execution_count": 29,
   "metadata": {},
   "outputs": [
    {
     "data": {
      "text/plain": [
       "Text(0, 0.5, 'y')"
      ]
     },
     "execution_count": 29,
     "metadata": {},
     "output_type": "execute_result"
    },
    {
     "data": {
      "image/png": "[encoded data removed]",
      "text/plain": [
       "<Figure size 432x288 with 1 Axes>"
      ]
     },
     "metadata": {
      "needs_background": "light"
     },
     "output_type": "display_data"
    }
   ],
   "source": [
    "#Coba plot posisi\n",
    "x_coor = []\n",
    "y_coor = []\n",
    "for coor in motorist_pos:\n",
    "    x_coor.append(coor[0])\n",
    "    y_coor.append(coor[1])\n",
    "\n",
    "\n",
    "\n",
    "plt.plot(x_coor,y_coor)\n",
    "for i in range(model.num_of_stations):\n",
    "    plt.plot(model.stations[i].pos[0],model.stations[i].pos[1],color = \"red\", marker = 'o')\n",
    "plt.xlim([0,map_width])\n",
    "plt.ylim([0,map_height])\n",
    "#plt.title('Posisi driver ' + str(driver_num))\n",
    "plt.axis('scaled')\n",
    "plt.xlabel('x')\n",
    "plt.ylabel('y')"
   ]
  },
  {
   "cell_type": "code",
   "execution_count": 30,
   "metadata": {},
   "outputs": [
    {
     "data": {
      "image/png": "[encoded data removed]",
      "text/plain": [
       "<Figure size 432x288 with 1 Axes>"
      ]
     },
     "metadata": {
      "needs_background": "light"
     },
     "output_type": "display_data"
    }
   ],
   "source": [
    "#Cek baterai\n",
    "battery_id = model.motorists[2].batteries.unique_id\n",
    "battery_energy = agent_data.xs(battery_id, level = \"AgentID\")[\"Charge\"]\n",
    "battery_energy.plot()\n",
    "plt.xlim(0,num_of_step)\n",
    "plt.ylim(0,2700)\n",
    "for i in range(1,days):\n",
    "    plt.axvline(x = 1440*i, color = 'r', linestyle='--', label = 'axvline - full height')\n",
    "plt.legend(['Battery Capacity','Days'])\n",
    "locs, labels = plt.xticks()  # Get the current locations and labels.\n",
    "plt.xticks(np.arange(0, days*1440, step=1440))  # Set label locations.\n",
    "plt.xticks(np.arange(days)*1440, np.arange(0,days))  # Set text labels.\n",
    "#plt.xticks([0, 1, 2], ['January', 'February', 'March'],\n",
    "#       rotation=20)  # Set text labels and properties.\n",
    "plt.xlabel('Days')\n",
    "#plt.title('Example of Battery Charge Cycle')\n",
    "plt.show()"
   ]
  },
  {
   "cell_type": "code",
   "execution_count": 31,
   "metadata": {},
   "outputs": [
    {
     "data": {
      "text/html": [
       "<div>\n",
       "<style scoped>\n",
       "    .dataframe tbody tr th:only-of-type {\n",
       "        vertical-align: middle;\n",
       "    }\n",
       "\n",
       "    .dataframe tbody tr th {\n",
       "        vertical-align: top;\n",
       "    }\n",
       "\n",
       "    .dataframe thead th {\n",
       "        text-align: right;\n",
       "    }\n",
       "</style>\n",
       "<table border=\"1\" class=\"dataframe\">\n",
       "  <thead>\n",
       "    <tr style=\"text-align: right;\">\n",
       "      <th></th>\n",
       "      <th>num_of_alive</th>\n",
       "      <th>num_of_charging</th>\n",
       "    </tr>\n",
       "  </thead>\n",
       "  <tbody>\n",
       "    <tr>\n",
       "      <th>43195</th>\n",
       "      <td>50</td>\n",
       "      <td>2</td>\n",
       "    </tr>\n",
       "    <tr>\n",
       "      <th>43196</th>\n",
       "      <td>50</td>\n",
       "      <td>2</td>\n",
       "    </tr>\n",
       "    <tr>\n",
       "      <th>43197</th>\n",
       "      <td>50</td>\n",
       "      <td>2</td>\n",
       "    </tr>\n",
       "    <tr>\n",
       "      <th>43198</th>\n",
       "      <td>50</td>\n",
       "      <td>2</td>\n",
       "    </tr>\n",
       "    <tr>\n",
       "      <th>43199</th>\n",
       "      <td>50</td>\n",
       "      <td>2</td>\n",
       "    </tr>\n",
       "  </tbody>\n",
       "</table>\n",
       "</div>"
      ],
      "text/plain": [
       "       num_of_alive  num_of_charging\n",
       "43195            50                2\n",
       "43196            50                2\n",
       "43197            50                2\n",
       "43198            50                2\n",
       "43199            50                2"
      ]
     },
     "execution_count": 31,
     "metadata": {},
     "output_type": "execute_result"
    }
   ],
   "source": [
    "model_data = model.datacollector.get_model_vars_dataframe()\n",
    "model_data.tail()"
   ]
  },
  {
   "cell_type": "code",
   "execution_count": 32,
   "metadata": {},
   "outputs": [
    {
     "data": {
      "image/png": "[encoded data removed]",
      "text/plain": [
       "<Figure size 432x288 with 1 Axes>"
      ]
     },
     "metadata": {
      "needs_background": "light"
     },
     "output_type": "display_data"
    }
   ],
   "source": [
    "plt.plot(model_data[\"num_of_alive\"])\n",
    "plt.ylim([0,num_of_motorist + 1])\n",
    "plt.ylabel(\"Alive agents\")\n",
    "plt.xlabel(\"Steps\")\n",
    "plt.xlim(0,num_of_step)\n",
    "for i in range(1,days):\n",
    "    plt.axvline(x = 1440*i, color = 'r', linestyle='--', label = 'axvline - full height')\n",
    "plt.legend(['Number of Total Alive Agent','Days'])\n",
    "locs, labels = plt.xticks()  # Get the current locations and labels.\n",
    "plt.xticks(np.arange(0, days*1440, step=1440))  # Set label locations.\n",
    "plt.xticks(np.arange(days)*1440, np.arange(0,days))  # Set text labels.\n",
    "#plt.xticks([0, 1, 2], ['January', 'February', 'March'],\n",
    "#       rotation=20)  # Set text labels and properties.\n",
    "plt.xlabel('Days')\n",
    "#plt.title('Number of Total Alive Agent')\n",
    "plt.show()"
   ]
  },
  {
   "cell_type": "code",
   "execution_count": 33,
   "metadata": {},
   "outputs": [
    {
     "data": {
      "image/png": "[encoded data removed]",
      "text/plain": [
       "<Figure size 432x288 with 1 Axes>"
      ]
     },
     "metadata": {
      "needs_background": "light"
     },
     "output_type": "display_data"
    }
   ],
   "source": [
    "plt.plot(model_data[\"num_of_charging\"])\n",
    "plt.ylim([0,model.num_of_stations*model.cp_size +1])\n",
    "plt.ylabel(\"Charging batteries\")\n",
    "plt.xlabel(\"Steps\")\n",
    "plt.xlim(0,num_of_step)\n",
    "for i in range(1,days):\n",
    "    plt.axvline(x = 1440*i, color = 'r', linestyle='--', label = 'axvline - full height')\n",
    "plt.legend(['Number charging batteries','Days'])\n",
    "locs, labels = plt.xticks()  # Get the current locations and labels.\n",
    "plt.xticks(np.arange(0, days*1440, step=1440))  # Set label locations.\n",
    "plt.xticks(np.arange(days)*1440, np.arange(0,days))  # Set text labels.\n",
    "#plt.xticks([0, 1, 2], ['January', 'February', 'March'],\n",
    "#       rotation=20)  # Set text labels and properties.\n",
    "plt.xlabel('Days')\n",
    "#plt.title('Number of Total Alive Agent')\n",
    "plt.show()"
   ]
  },
  {
   "cell_type": "code",
   "execution_count": 34,
   "metadata": {},
   "outputs": [
    {
     "name": "stdout",
     "output_type": "stream",
     "text": [
      "2160000\n"
     ]
    }
   ],
   "source": [
    "#dapetin semua motor\n",
    "motorist_id = []\n",
    "for mot in model.motorists:\n",
    "    motorist_id.append(mot.unique_id)\n",
    "\n",
    "#ID motor pertama dan terakhir\n",
    "first_motor = min(motorist_id)\n",
    "last_motor = max(motorist_id)\n",
    "\n",
    "#Ambil data motor doang\n",
    "motorist_data = agent_data.loc[(agent_data.index.get_level_values('AgentID')>=first_motor) & (agent_data.index.get_level_values('AgentID') <=last_motor)]\n",
    "\n",
    "\n",
    "motorist_alive_position = motorist_data.loc[motorist_data['Alive'] == True][\"Position\"]\n",
    "motorist_alive_position.tail()\n",
    "\n",
    "#print jumlah baris\n",
    "print(len(motorist_alive_position.index))"
   ]
  },
  {
   "cell_type": "code",
   "execution_count": 35,
   "metadata": {},
   "outputs": [
    {
     "name": "stdout",
     "output_type": "stream",
     "text": [
      "2160000\n"
     ]
    }
   ],
   "source": [
    "array_alive_positions = motorist_alive_position.tolist()\n",
    "print(len(array_alive_positions))"
   ]
  },
  {
   "cell_type": "code",
   "execution_count": 36,
   "metadata": {},
   "outputs": [
    {
     "data": {
      "image/png": "[encoded data removed]",
      "text/plain": [
       "<Figure size 432x288 with 2 Axes>"
      ]
     },
     "metadata": {
      "needs_background": "light"
     },
     "output_type": "display_data"
    }
   ],
   "source": [
    "heatmap_data = np.zeros((model.grid.width, model.grid.height))\n",
    "for coor in array_alive_positions:\n",
    "    x,y = coor\n",
    "    heatmap_data[x,y] +=1\n",
    "\n",
    "most_frequent = np.amax(heatmap_data)\n",
    "norm_heatmap_data = heatmap_data/most_frequent\n",
    "\n",
    "ax = sns.heatmap(norm_heatmap_data,cmap=\"hot\")\n",
    "ax.invert_yaxis()\n",
    "plt.axis('equal')\n",
    "ax.xaxis.set_visible(False)\n",
    "ax.yaxis.set_visible(False)\n",
    "plt.tick_params(left = False, bottom = False)\n",
    "plt.tight_layout()\n",
    "plt.savefig('heatmap random 16a 30 days.png', format = 'png' )\n",
    "plt.show()"
   ]
  }
 ],
 "metadata": {
  "kernelspec": {
   "display_name": "Python 3.8.12 ('base')",
   "language": "python",
   "name": "python3"
  },
  "language_info": {
   "codemirror_mode": {
    "name": "ipython",
    "version": 3
   },
   "file_extension": ".py",
   "mimetype": "text/x-python",
   "name": "python",
   "nbconvert_exporter": "python",
   "pygments_lexer": "ipython3",
   "version": "3.8.12"
  },
  "orig_nbformat": 4,
  "vscode": {
   "interpreter": {
    "hash": "a063a9d6d4095dba70f7d4a438ef288e94ffec589b0525f5b20de998ec61033a"
   }
  }
 },
 "nbformat": 4,
 "nbformat_minor": 2
}
