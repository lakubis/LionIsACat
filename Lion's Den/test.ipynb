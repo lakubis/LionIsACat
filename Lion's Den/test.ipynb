{
 "cells": [
  {
   "cell_type": "code",
   "execution_count": 3,
   "metadata": {},
   "outputs": [],
   "source": [
    "import numpy as np"
   ]
  },
  {
   "cell_type": "code",
   "execution_count": 6,
   "metadata": {},
   "outputs": [],
   "source": [
    "class baterai:\n",
    "    num_of_batteries = 0\n",
    "    degradation_rate = 0.00025 #Ini didapatkan dari standar baterai HP, secara umum setelah 800 charge cycle, battery health tinggal 80%/0.8\n",
    "\n",
    "    def __init__(self, max_cap = 1300, health =1):\n",
    "        # baterai memiliki tiga parameter sebagai berikut:\n",
    "        # max_cap: kapasitas maksimum baterai, dalam satuan Watt-hour (Baterai gogoro 1.3 kWh)\n",
    "        # health: kesehatan baterai, real_cap = max_cap * health. Nilai health berkisar antara 0-1. By default 1.\n",
    "        # charge: isi dari baterai sekarang, charge harus < real_cap. Ketika baterai diciptakan, baterai terisi penuh\n",
    "        self.max_cap = max_cap\n",
    "        self.health = health\n",
    "        self.real_cap = max_cap*health\n",
    "        self.charge = self.real_cap\n",
    "        baterai.num_of_batteries += 1\n",
    "        self.id = baterai.num_of_batteries\n",
    "\n",
    "    def degrade(self):\n",
    "        self.health -= baterai.degradation_rate #Diasumsikan degradation rate dari setiap baterai sama\n",
    "\n",
    "\n",
    "# %%\n"
   ]
  },
  {
   "cell_type": "code",
   "execution_count": 7,
   "metadata": {},
   "outputs": [],
   "source": [
    "#%%\n",
    "# Packages\n",
    "import numpy as np\n",
    "\n",
    "\n",
    "#%%\n",
    "#Ini adalah script yang diisi dengan agent\n",
    "\n",
    "class agents:\n",
    "    # Tiap agent memiliki 2 parameter sebagai berikut \n",
    "    # R : jarak yang ditempuh dalam satu hari \n",
    "    # battery_life : isi atau kapasitas dari baterai\n",
    "    def __init__(self, driving_r): \n",
    "        self.battery_life = baterai()\n",
    "        self.driving_r = driving_r\n",
    "        self.position_x = np.random.randint(1,100)\n",
    "        self.position_y = np.random.randint(1,100)\n",
    "    \n",
    "\n",
    "    def movement(self):\n",
    "        if check_station() == False :\n",
    "            '''random movement von neumann '''\n",
    "            explore() \n",
    "        else : \n",
    "            go_station()\n",
    "    \n",
    "    def go_station(): \n",
    "        '''move to station no matter what'''\n",
    "        pass \n",
    "\n",
    "    def explore(self): \n",
    "        decision = np.random.randint(0,1)\n",
    "        change = np.random.randint(-1,1)\n",
    "        pct_change = 1 + np.random.randn()\n",
    "        self.battery_life = self.battery_life - (change*pct_change)\n",
    "        if decision == 0 :\n",
    "            self.position_x = self.position_x + change  # can move left, right, or stay\n",
    "        else : \n",
    "            self.position_y = self.position_y + change # can move up, down, or stay\n",
    "    \n",
    "    def check_station(self): \n",
    "        '''manhattan distance'''\n",
    "        return self.position_x "
   ]
  },
  {
   "cell_type": "code",
   "execution_count": null,
   "metadata": {},
   "outputs": [],
   "source": [
    "class station : \n",
    "#     Power Input\tInput voltage\t100~240V\n",
    "# Max. input current\tGC11 (GoCharger®)：5.5A / 100VAC\n",
    "# GC12 (GoCharger® Plus)：10.5A / 100VAC\n",
    "# Max. input power\tGC11 (GoCharger®)：525W\n",
    "# GC12 (GoCharger® Plus)：1050W\n",
    "# Standby power consumption\t2.0W\n",
    "    def __init__(self):\n",
    "        self.inventory = 0\n",
    "        self.charging = 0\n",
    "        self.position_x = np.random.randint(1,100)\n",
    "        self.position_y = np.random.randint(1,100)\n"
   ]
  },
  {
   "cell_type": "code",
   "execution_count": 9,
   "metadata": {},
   "outputs": [],
   "source": [
    "a = agents(driving_r = 100)"
   ]
  },
  {
   "cell_type": "code",
   "execution_count": 10,
   "metadata": {},
   "outputs": [
    {
     "data": {
      "text/plain": [
       "<__main__.agents at 0x187f1b39070>"
      ]
     },
     "execution_count": 10,
     "metadata": {},
     "output_type": "execute_result"
    }
   ],
   "source": [
    "a"
   ]
  }
 ],
 "metadata": {
  "interpreter": {
   "hash": "a063a9d6d4095dba70f7d4a438ef288e94ffec589b0525f5b20de998ec61033a"
  },
  "kernelspec": {
   "display_name": "Python 3.8.12 ('base')",
   "language": "python",
   "name": "python3"
  },
  "language_info": {
   "codemirror_mode": {
    "name": "ipython",
    "version": 3
   },
   "file_extension": ".py",
   "mimetype": "text/x-python",
   "name": "python",
   "nbconvert_exporter": "python",
   "pygments_lexer": "ipython3",
   "version": "3.8.12"
  },
  "orig_nbformat": 4
 },
 "nbformat": 4,
 "nbformat_minor": 2
}
