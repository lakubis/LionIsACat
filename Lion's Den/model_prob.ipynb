{
 "cells": [
  {
   "cell_type": "code",
   "execution_count": 1,
   "metadata": {},
   "outputs": [
    {
     "name": "stderr",
     "output_type": "stream",
     "text": [
      "c:\\Users\\leona\\anaconda3\\lib\\site-packages\\numpy\\_distributor_init.py:30: UserWarning: loaded more than 1 DLL from .libs:\n",
      "c:\\Users\\leona\\anaconda3\\lib\\site-packages\\numpy\\.libs\\libopenblas.PYQHXLVVQ7VESDPUVUADXEVJOBGHJPAY.gfortran-win_amd64.dll\n",
      "c:\\Users\\leona\\anaconda3\\lib\\site-packages\\numpy\\.libs\\libopenblas.XWYDX2IKJW2NMTWSFYNGFUWKQU3LYTCZ.gfortran-win_amd64.dll\n",
      "  warnings.warn(\"loaded more than 1 DLL from .libs:\"\n"
     ]
    }
   ],
   "source": [
    "import numpy as np\n",
    "import matplotlib.pyplot as plt\n",
    "from mesa import Agent, Model\n",
    "from mesa.time import RandomActivation\n",
    "from mesa.datacollection import DataCollector"
   ]
  },
  {
   "cell_type": "code",
   "execution_count": null,
   "metadata": {},
   "outputs": [],
   "source": [
    "average_kmph = 40"
   ]
  },
  {
   "cell_type": "code",
   "execution_count": null,
   "metadata": {},
   "outputs": [],
   "source": [
    "class battery(Agent):\n",
    "    def __init__(self, unique_id, model, max_cap = 2600, health = 1):\n",
    "        super().__init__(unique_id,model)\n",
    "        # baterai memiliki tiga parameter sebagai berikut:\n",
    "        # max_cap: kapasitas maksimum baterai, dalam satuan Watt-hour (Baterai gogoro 1.3 kWh, ada 2 biji)\n",
    "        # health: kesehatan baterai, real_cap = max_cap * health. Nilai health berkisar antara 0-1. By default 1.\n",
    "        # charge: isi dari baterai sekarang, charge harus < real_cap. Ketika baterai diciptakan, baterai terisi penuh\n",
    "        self.max_cap = max_cap\n",
    "        self.health = health\n",
    "        self.real_cap = max_cap*health\n",
    "        self.charge = self.real_cap\n",
    "        battery.num_of_batteries += 1\n",
    "        self.id = battery.num_of_batteries\n",
    "        self.alive = None\n",
    "        self.position = None\n",
    "\n",
    "    def degrade(self):\n",
    "        self.health -= battery.degradation_rate #Diasumsikan degradation rate dari setiap baterai sama\n",
    "\n",
    "    def consume_charge(self):\n",
    "        '''\n",
    "        Saat ini, cons_charge akan ditentukan melalui aproksimasi kasar: karena time step 1 menit, maka dengan menggunakan asumsi kecepatan motor sebesar 40 km/jam, pada setiap step agent akan bergerak sejauh 2/3 km. Selain itu, diketahui pula untuk 170 km, diperlukan energi sebesar 2600 Wh. Akan didapatkan penggunaan sebesar 15 Wh/km. Berarti akan dihabiskan energi sebesar 10Wh per menit/step\n",
    "        '''\n",
    "        cons_charge = average_kmph*7.6 #Wh\n",
    "        self.charge -= cons_charge"
   ]
  },
  {
   "cell_type": "code",
   "execution_count": null,
   "metadata": {},
   "outputs": [],
   "source": [
    "class driver(Agent):\n",
    "    def __init__(self, unique_id, model, batteries = None): \n",
    "        super().__init__(unique_id,model)\n",
    "        # Driver Character\n",
    "        self.distance_daily = 130 #km\n",
    "        self.distance_ = self.distance_daily + np.random.normal(loc = 0, scale = 8, size = 1)\n",
    "        self.move = True \n",
    "\n",
    "        #Assign baterai\n",
    "        if batteries == None:\n",
    "            self.batteries = None\n",
    "        else:\n",
    "            self.batteries = batteries\n",
    "        self.batteries.position = 'driver'+str(unique_id)\n",
    "        \n",
    "        # Decision to charge\n",
    "        self.charge_ = False\n",
    "\n",
    "        #Sekarang akan ditentukan status driver\n",
    "        self.alive = False\n",
    "        if self.batteries != None:\n",
    "            if self.batteries.charge > 0:\n",
    "                self.alive = True\n",
    "\n",
    "\n",
    "    def prob_charge(self):\n",
    "        decs = np.random.rand()\n",
    "        if decs < (1-self.batteries.charge):\n",
    "            return True \n",
    "        else :\n",
    "            return False\n",
    "\n",
    "    def change_battery(self):\n",
    "        #Baterai kosong\n",
    "        empty_bat = self.batteries\n",
    "        # Unique ID dari station\n",
    "        self.batteries.position = 'charging'+str(unique_id)\n",
    "        #Cek tipe station, dengan inventory atau tidak\n",
    "        if self.target_station.inventory_size > 0:\n",
    "            #Ngecek station punya baterai penuh atau tidak:\n",
    "            if len(self.target_station.inventory_full) > 0:\n",
    "                self.target_station.inventory_empty.append(empty_bat)\n",
    "                self.batteries = self.target_station.inventory_full[0]\n",
    "                self.target_station.inventory_full.remove(self.batteries)\n",
    "\n",
    "                # Unique ID dari station\n",
    "                self.batteries.position =  'driver'+str(unique_id)\n",
    "\n",
    "            elif len(self.target_station.inventory_full) == 0:\n",
    "                print(\"Station habis\")\n",
    "                if self.batteries.charge <=0:\n",
    "                    self.batteries.charge = 0\n",
    "                    self.alive = False\n",
    "\n",
    "        else:\n",
    "            #TODO: Buat logika untuk station tanpa inventory\n",
    "            pass\n",
    "\n",
    "    def step(self):\n",
    "        if self.move == True :\n",
    "            self.batteries.consume_charge()\n",
    "            self.charge_ = self.prob_charge()\n",
    "        if self.charge_ == True :\n",
    "            self.change_battery()\n",
    "            "
   ]
  },
  {
   "cell_type": "code",
   "execution_count": null,
   "metadata": {},
   "outputs": [],
   "source": [
    "class station(Agent):\n",
    "    '''\n",
    "    Di sini, baterai akan disimpan di inventory dan juga charging port.\n",
    "    inventory_full: List baterai yang terisi penuh\n",
    "    inventory_empty: List baterai yang kosong tapi belum bisa di cas di charging port (kosong bukan berarti 0, tapi tidak terisi penuh)\n",
    "    charging_port: List baterai yang sedang di cas\n",
    "    '''\n",
    "    def __init__(self, unique_id, pos, model, inventory_size = 40,charging_port_size=10, assigned_batteries = None):\n",
    "        super().__init__(unique_id,model)\n",
    "        \n",
    "        #Assign spesifikasi\n",
    "        self.charging_port_size = charging_port_size\n",
    "        self.inventory_size = inventory_size\n",
    "\n",
    "        #Add array inventory dan charging port\n",
    "        self.inventory_full = []\n",
    "        self.inventory_empty = []\n",
    "        self.charging_port = []\n",
    "\n",
    "        #Biar ga error\n",
    "        self.charge = None\n",
    "        self.alive = None\n",
    "\n",
    "        if assigned_batteries ==None:\n",
    "            pass\n",
    "        else:\n",
    "            self.inventory_full = []\n",
    "            self.inventory_empty = []\n",
    "            self.charging_port = []\n",
    "            #Di cek dulu apakah assigned_batteries melebihi kapasitas station\n",
    "            if len(assigned_batteries) > (self.charging_port_size+ self.inventory_size):\n",
    "                raise Exception(\"Baterai yang di assign di station terlalu banyak\")\n",
    "            else:\n",
    "                #Kita akan assign battery, pertama2 akan di cek dulu apakah terdapat error, lalu baru di cek apakah baterai penuh atau kosong\n",
    "                for i in assigned_batteries:\n",
    "                    if i.charge > i.real_cap:\n",
    "                        raise Exception(\"Isi baterai tidak dapat melebihi kapasitas sebenarnya\")\n",
    "                    elif i.charge < 0:\n",
    "                        raise Exception(\"Isi baterai tidak boleh negatif\")\n",
    "                    elif i.charge == i.real_cap:\n",
    "                        #Kalau baterai penuh, maka akan di assign di inventory_full, kalau inventory penuh, assign ke charging port\n",
    "                        if (len(self.inventory_full) + len(self.inventory_empty)) < self.inventory_size:\n",
    "                            self.inventory_full.append(i)\n",
    "                        else:\n",
    "                            self.charging_port.append(i)\n",
    "                    elif i.charge < i.real_cap:\n",
    "                        #Kalau baterai kosong, maka akan di assign ke charging port, kalau charging port penuh, di assign ke inventory_empty\n",
    "                        if len(self.charging_port) < self.charging_port_size:\n",
    "                            self.charging_port.append(i)\n",
    "                        else:\n",
    "                            self.inventory_empty.append(i)\n"
   ]
  },
  {
   "cell_type": "code",
   "execution_count": null,
   "metadata": {},
   "outputs": [],
   "source": [
    "class Station:\n",
    "    pass"
   ]
  },
  {
   "cell_type": "code",
   "execution_count": null,
   "metadata": {},
   "outputs": [],
   "source": [
    "class SwitchingModel:\n",
    "    pass"
   ]
  }
 ],
 "metadata": {
  "interpreter": {
   "hash": "a063a9d6d4095dba70f7d4a438ef288e94ffec589b0525f5b20de998ec61033a"
  },
  "kernelspec": {
   "display_name": "Python 3.8.12 ('base')",
   "language": "python",
   "name": "python3"
  },
  "language_info": {
   "codemirror_mode": {
    "name": "ipython",
    "version": 3
   },
   "file_extension": ".py",
   "mimetype": "text/x-python",
   "name": "python",
   "nbconvert_exporter": "python",
   "pygments_lexer": "ipython3",
   "version": "3.8.12"
  },
  "orig_nbformat": 4
 },
 "nbformat": 4,
 "nbformat_minor": 2
}
