{
 "cells": [
  {
   "cell_type": "markdown",
   "metadata": {},
   "source": [
    "# Packages"
   ]
  },
  {
   "cell_type": "code",
   "execution_count": 1,
   "metadata": {},
   "outputs": [],
   "source": [
    "import pandas as pd\n",
    "import numpy as np"
   ]
  },
  {
   "cell_type": "markdown",
   "metadata": {},
   "source": [
    "# Algorithm"
   ]
  },
  {
   "cell_type": "code",
   "execution_count": 2,
   "metadata": {},
   "outputs": [],
   "source": [
    "def maps(n = 50, border = True):\n",
    "    maps = np.zeros([n,n])\n",
    "    if border == True :  \n",
    "        maps[:, 0] = -1\n",
    "        maps[:, -1] = -1\n",
    "        maps[0, :] = -1\n",
    "        maps[-1, :] = -1\n",
    "    # Charging station \n",
    "    maps[int(n/2), int(n/2)] = 3\n",
    "    return maps "
   ]
  },
  {
   "cell_type": "code",
   "execution_count": 5,
   "metadata": {},
   "outputs": [],
   "source": [
    "def agent(R = 50):\n",
    "    # Battery Left, Range\n",
    "    lst = [100, R]\n",
    "    return lst"
   ]
  },
  {
   "cell_type": "code",
   "execution_count": 1,
   "metadata": {},
   "outputs": [],
   "source": [
    "class battery: \n",
    "    def __init__(self):\n",
    "        self.pct = 100\n",
    "        self.capacity = 100 # Ah\n",
    "\n",
    "    "
   ]
  },
  {
   "cell_type": "code",
   "execution_count": 2,
   "metadata": {},
   "outputs": [],
   "source": [
    "class agents:\n",
    "    def __init__(self, driving_r): \n",
    "        self.battery_life = battery()\n",
    "        self.driving_r = driving_r"
   ]
  },
  {
   "cell_type": "code",
   "execution_count": 7,
   "metadata": {},
   "outputs": [
    {
     "data": {
      "text/plain": [
       "100"
      ]
     },
     "execution_count": 7,
     "metadata": {},
     "output_type": "execute_result"
    }
   ],
   "source": [
    "a = agents(50)\n",
    "a.battery_life.pct"
   ]
  }
 ],
 "metadata": {
  "interpreter": {
   "hash": "573a5c7e7f6b69a982819e50b3614ba2e70da23418480f96bebec1796dfd44fd"
  },
  "kernelspec": {
   "display_name": "Python 3.8.12 ('base')",
   "language": "python",
   "name": "python3"
  },
  "language_info": {
   "codemirror_mode": {
    "name": "ipython",
    "version": 3
   },
   "file_extension": ".py",
   "mimetype": "text/x-python",
   "name": "python",
   "nbconvert_exporter": "python",
   "pygments_lexer": "ipython3",
   "version": "3.8.12"
  },
  "orig_nbformat": 4
 },
 "nbformat": 4,
 "nbformat_minor": 2
}
